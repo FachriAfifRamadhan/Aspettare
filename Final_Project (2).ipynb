{
  "cells": [
    {
      "cell_type": "markdown",
      "metadata": {
        "id": "p4EsdCNWGLJI"
      },
      "source": [
        "##Library\n"
      ]
    },
    {
      "cell_type": "code",
      "execution_count": 4,
      "metadata": {
        "id": "HzY_H4aGqNcO"
      },
      "outputs": [],
      "source": [
        "#Base\n",
        "import pandas as pd\n",
        "import numpy as np\n",
        "\n",
        "#Plotting\n",
        "import seaborn as sns\n",
        "import matplotlib.pyplot as plt\n",
        "\n",
        "#Preprocessing\n",
        "from sklearn.preprocessing import StandardScaler, OrdinalEncoder, LabelEncoder\n",
        "from sklearn.preprocessing import OneHotEncoder\n",
        "\n",
        "#Train-Test Split\n",
        "from sklearn.model_selection import train_test_split\n",
        "\n",
        "#Machine learning Model\n",
        "from sklearn.tree import DecisionTreeClassifier\n",
        "from sklearn.ensemble import RandomForestClassifier , GradientBoostingClassifier\n",
        "from sklearn.ensemble import ExtraTreesClassifier\n",
        "from xgboost import XGBClassifier\n",
        "\n",
        "#Evaluation\n",
        "from sklearn import metrics\n",
        "from sklearn.metrics import classification_report, roc_auc_score, roc_curve\n",
        "from sklearn.metrics import make_scorer,accuracy_score,roc_auc_score,precision_score,recall_score,f1_score,log_loss\n",
        "from sklearn.metrics import confusion_matrix\n",
        "\n",
        "#Cross Validation \n",
        "from sklearn.model_selection import StratifiedKFold \n",
        "from sklearn.model_selection import RepeatedStratifiedKFold\n",
        "\n",
        "#SMOTE\n",
        "from imblearn.over_sampling import SMOTE, RandomOverSampler"
      ]
    },
    {
      "cell_type": "markdown",
      "metadata": {
        "id": "OdE6-txJGRpl"
      },
      "source": [
        "##Preprocessing"
      ]
    },
    {
      "cell_type": "code",
      "execution_count": 5,
      "metadata": {
        "colab": {
          "base_uri": "https://localhost:8080/",
          "height": 574
        },
        "id": "VDtViVfEqRgh",
        "outputId": "8953f539-ce6d-4474-bf3c-55f8d8c2355e"
      },
      "outputs": [
        {
          "data": {
            "text/html": [
              "<div>\n",
              "<style scoped>\n",
              "    .dataframe tbody tr th:only-of-type {\n",
              "        vertical-align: middle;\n",
              "    }\n",
              "\n",
              "    .dataframe tbody tr th {\n",
              "        vertical-align: top;\n",
              "    }\n",
              "\n",
              "    .dataframe thead th {\n",
              "        text-align: right;\n",
              "    }\n",
              "</style>\n",
              "<table border=\"1\" class=\"dataframe\">\n",
              "  <thead>\n",
              "    <tr style=\"text-align: right;\">\n",
              "      <th></th>\n",
              "      <th>employee_id</th>\n",
              "      <th>department</th>\n",
              "      <th>region</th>\n",
              "      <th>education</th>\n",
              "      <th>gender</th>\n",
              "      <th>recruitment_channel</th>\n",
              "      <th>no_of_trainings</th>\n",
              "      <th>age</th>\n",
              "      <th>previous_year_rating</th>\n",
              "      <th>length_of_service</th>\n",
              "      <th>awards_won?</th>\n",
              "      <th>avg_training_score</th>\n",
              "      <th>is_promoted</th>\n",
              "    </tr>\n",
              "  </thead>\n",
              "  <tbody>\n",
              "    <tr>\n",
              "      <th>0</th>\n",
              "      <td>65438</td>\n",
              "      <td>Sales &amp; Marketing</td>\n",
              "      <td>region_7</td>\n",
              "      <td>Master's &amp; above</td>\n",
              "      <td>f</td>\n",
              "      <td>sourcing</td>\n",
              "      <td>1</td>\n",
              "      <td>35</td>\n",
              "      <td>5.0</td>\n",
              "      <td>8</td>\n",
              "      <td>0</td>\n",
              "      <td>49</td>\n",
              "      <td>0</td>\n",
              "    </tr>\n",
              "    <tr>\n",
              "      <th>1</th>\n",
              "      <td>65141</td>\n",
              "      <td>Operations</td>\n",
              "      <td>region_22</td>\n",
              "      <td>Bachelor's</td>\n",
              "      <td>m</td>\n",
              "      <td>other</td>\n",
              "      <td>1</td>\n",
              "      <td>30</td>\n",
              "      <td>5.0</td>\n",
              "      <td>4</td>\n",
              "      <td>0</td>\n",
              "      <td>60</td>\n",
              "      <td>0</td>\n",
              "    </tr>\n",
              "    <tr>\n",
              "      <th>2</th>\n",
              "      <td>7513</td>\n",
              "      <td>Sales &amp; Marketing</td>\n",
              "      <td>region_19</td>\n",
              "      <td>Bachelor's</td>\n",
              "      <td>m</td>\n",
              "      <td>sourcing</td>\n",
              "      <td>1</td>\n",
              "      <td>34</td>\n",
              "      <td>3.0</td>\n",
              "      <td>7</td>\n",
              "      <td>0</td>\n",
              "      <td>50</td>\n",
              "      <td>0</td>\n",
              "    </tr>\n",
              "    <tr>\n",
              "      <th>3</th>\n",
              "      <td>2542</td>\n",
              "      <td>Sales &amp; Marketing</td>\n",
              "      <td>region_23</td>\n",
              "      <td>Bachelor's</td>\n",
              "      <td>m</td>\n",
              "      <td>other</td>\n",
              "      <td>2</td>\n",
              "      <td>39</td>\n",
              "      <td>1.0</td>\n",
              "      <td>10</td>\n",
              "      <td>0</td>\n",
              "      <td>50</td>\n",
              "      <td>0</td>\n",
              "    </tr>\n",
              "    <tr>\n",
              "      <th>4</th>\n",
              "      <td>48945</td>\n",
              "      <td>Technology</td>\n",
              "      <td>region_26</td>\n",
              "      <td>Bachelor's</td>\n",
              "      <td>m</td>\n",
              "      <td>other</td>\n",
              "      <td>1</td>\n",
              "      <td>45</td>\n",
              "      <td>3.0</td>\n",
              "      <td>2</td>\n",
              "      <td>0</td>\n",
              "      <td>73</td>\n",
              "      <td>0</td>\n",
              "    </tr>\n",
              "    <tr>\n",
              "      <th>...</th>\n",
              "      <td>...</td>\n",
              "      <td>...</td>\n",
              "      <td>...</td>\n",
              "      <td>...</td>\n",
              "      <td>...</td>\n",
              "      <td>...</td>\n",
              "      <td>...</td>\n",
              "      <td>...</td>\n",
              "      <td>...</td>\n",
              "      <td>...</td>\n",
              "      <td>...</td>\n",
              "      <td>...</td>\n",
              "      <td>...</td>\n",
              "    </tr>\n",
              "    <tr>\n",
              "      <th>54803</th>\n",
              "      <td>3030</td>\n",
              "      <td>Technology</td>\n",
              "      <td>region_14</td>\n",
              "      <td>Bachelor's</td>\n",
              "      <td>m</td>\n",
              "      <td>sourcing</td>\n",
              "      <td>1</td>\n",
              "      <td>48</td>\n",
              "      <td>3.0</td>\n",
              "      <td>17</td>\n",
              "      <td>0</td>\n",
              "      <td>78</td>\n",
              "      <td>0</td>\n",
              "    </tr>\n",
              "    <tr>\n",
              "      <th>54804</th>\n",
              "      <td>74592</td>\n",
              "      <td>Operations</td>\n",
              "      <td>region_27</td>\n",
              "      <td>Master's &amp; above</td>\n",
              "      <td>f</td>\n",
              "      <td>other</td>\n",
              "      <td>1</td>\n",
              "      <td>37</td>\n",
              "      <td>2.0</td>\n",
              "      <td>6</td>\n",
              "      <td>0</td>\n",
              "      <td>56</td>\n",
              "      <td>0</td>\n",
              "    </tr>\n",
              "    <tr>\n",
              "      <th>54805</th>\n",
              "      <td>13918</td>\n",
              "      <td>Analytics</td>\n",
              "      <td>region_1</td>\n",
              "      <td>Bachelor's</td>\n",
              "      <td>m</td>\n",
              "      <td>other</td>\n",
              "      <td>1</td>\n",
              "      <td>27</td>\n",
              "      <td>5.0</td>\n",
              "      <td>3</td>\n",
              "      <td>0</td>\n",
              "      <td>79</td>\n",
              "      <td>0</td>\n",
              "    </tr>\n",
              "    <tr>\n",
              "      <th>54806</th>\n",
              "      <td>13614</td>\n",
              "      <td>Sales &amp; Marketing</td>\n",
              "      <td>region_9</td>\n",
              "      <td>NaN</td>\n",
              "      <td>m</td>\n",
              "      <td>sourcing</td>\n",
              "      <td>1</td>\n",
              "      <td>29</td>\n",
              "      <td>1.0</td>\n",
              "      <td>2</td>\n",
              "      <td>0</td>\n",
              "      <td>45</td>\n",
              "      <td>0</td>\n",
              "    </tr>\n",
              "    <tr>\n",
              "      <th>54807</th>\n",
              "      <td>51526</td>\n",
              "      <td>HR</td>\n",
              "      <td>region_22</td>\n",
              "      <td>Bachelor's</td>\n",
              "      <td>m</td>\n",
              "      <td>other</td>\n",
              "      <td>1</td>\n",
              "      <td>27</td>\n",
              "      <td>1.0</td>\n",
              "      <td>5</td>\n",
              "      <td>0</td>\n",
              "      <td>49</td>\n",
              "      <td>0</td>\n",
              "    </tr>\n",
              "  </tbody>\n",
              "</table>\n",
              "<p>54808 rows × 13 columns</p>\n",
              "</div>"
            ],
            "text/plain": [
              "       employee_id         department     region         education gender  \\\n",
              "0            65438  Sales & Marketing   region_7  Master's & above      f   \n",
              "1            65141         Operations  region_22        Bachelor's      m   \n",
              "2             7513  Sales & Marketing  region_19        Bachelor's      m   \n",
              "3             2542  Sales & Marketing  region_23        Bachelor's      m   \n",
              "4            48945         Technology  region_26        Bachelor's      m   \n",
              "...            ...                ...        ...               ...    ...   \n",
              "54803         3030         Technology  region_14        Bachelor's      m   \n",
              "54804        74592         Operations  region_27  Master's & above      f   \n",
              "54805        13918          Analytics   region_1        Bachelor's      m   \n",
              "54806        13614  Sales & Marketing   region_9               NaN      m   \n",
              "54807        51526                 HR  region_22        Bachelor's      m   \n",
              "\n",
              "      recruitment_channel  no_of_trainings  age  previous_year_rating  \\\n",
              "0                sourcing                1   35                   5.0   \n",
              "1                   other                1   30                   5.0   \n",
              "2                sourcing                1   34                   3.0   \n",
              "3                   other                2   39                   1.0   \n",
              "4                   other                1   45                   3.0   \n",
              "...                   ...              ...  ...                   ...   \n",
              "54803            sourcing                1   48                   3.0   \n",
              "54804               other                1   37                   2.0   \n",
              "54805               other                1   27                   5.0   \n",
              "54806            sourcing                1   29                   1.0   \n",
              "54807               other                1   27                   1.0   \n",
              "\n",
              "       length_of_service  awards_won?  avg_training_score  is_promoted  \n",
              "0                      8            0                  49            0  \n",
              "1                      4            0                  60            0  \n",
              "2                      7            0                  50            0  \n",
              "3                     10            0                  50            0  \n",
              "4                      2            0                  73            0  \n",
              "...                  ...          ...                 ...          ...  \n",
              "54803                 17            0                  78            0  \n",
              "54804                  6            0                  56            0  \n",
              "54805                  3            0                  79            0  \n",
              "54806                  2            0                  45            0  \n",
              "54807                  5            0                  49            0  \n",
              "\n",
              "[54808 rows x 13 columns]"
            ]
          },
          "execution_count": 5,
          "metadata": {},
          "output_type": "execute_result"
        }
      ],
      "source": [
        "test=pd.read_csv('test.csv')\n",
        "train=pd.read_csv('train.csv')\n",
        "train"
      ]
    },
    {
      "cell_type": "code",
      "execution_count": 6,
      "metadata": {
        "colab": {
          "base_uri": "https://localhost:8080/",
          "height": 468
        },
        "id": "VkjfHaT3qaRU",
        "outputId": "6bdec93a-458f-470b-dfdf-99eb373dd4c3"
      },
      "outputs": [
        {
          "data": {
            "text/html": [
              "<div>\n",
              "<style scoped>\n",
              "    .dataframe tbody tr th:only-of-type {\n",
              "        vertical-align: middle;\n",
              "    }\n",
              "\n",
              "    .dataframe tbody tr th {\n",
              "        vertical-align: top;\n",
              "    }\n",
              "\n",
              "    .dataframe thead th {\n",
              "        text-align: right;\n",
              "    }\n",
              "</style>\n",
              "<table border=\"1\" class=\"dataframe\">\n",
              "  <thead>\n",
              "    <tr style=\"text-align: right;\">\n",
              "      <th></th>\n",
              "      <th>employee_id</th>\n",
              "      <th>department</th>\n",
              "      <th>region</th>\n",
              "      <th>education</th>\n",
              "      <th>gender</th>\n",
              "      <th>recruitment_channel</th>\n",
              "      <th>no_of_trainings</th>\n",
              "      <th>age</th>\n",
              "      <th>previous_year_rating</th>\n",
              "      <th>length_of_service</th>\n",
              "      <th>awards_won?</th>\n",
              "      <th>avg_training_score</th>\n",
              "    </tr>\n",
              "  </thead>\n",
              "  <tbody>\n",
              "    <tr>\n",
              "      <th>0</th>\n",
              "      <td>8724</td>\n",
              "      <td>Technology</td>\n",
              "      <td>region_26</td>\n",
              "      <td>Bachelor's</td>\n",
              "      <td>m</td>\n",
              "      <td>sourcing</td>\n",
              "      <td>1</td>\n",
              "      <td>24</td>\n",
              "      <td>NaN</td>\n",
              "      <td>1</td>\n",
              "      <td>0</td>\n",
              "      <td>77</td>\n",
              "    </tr>\n",
              "    <tr>\n",
              "      <th>1</th>\n",
              "      <td>74430</td>\n",
              "      <td>HR</td>\n",
              "      <td>region_4</td>\n",
              "      <td>Bachelor's</td>\n",
              "      <td>f</td>\n",
              "      <td>other</td>\n",
              "      <td>1</td>\n",
              "      <td>31</td>\n",
              "      <td>3.0</td>\n",
              "      <td>5</td>\n",
              "      <td>0</td>\n",
              "      <td>51</td>\n",
              "    </tr>\n",
              "    <tr>\n",
              "      <th>2</th>\n",
              "      <td>72255</td>\n",
              "      <td>Sales &amp; Marketing</td>\n",
              "      <td>region_13</td>\n",
              "      <td>Bachelor's</td>\n",
              "      <td>m</td>\n",
              "      <td>other</td>\n",
              "      <td>1</td>\n",
              "      <td>31</td>\n",
              "      <td>1.0</td>\n",
              "      <td>4</td>\n",
              "      <td>0</td>\n",
              "      <td>47</td>\n",
              "    </tr>\n",
              "    <tr>\n",
              "      <th>3</th>\n",
              "      <td>38562</td>\n",
              "      <td>Procurement</td>\n",
              "      <td>region_2</td>\n",
              "      <td>Bachelor's</td>\n",
              "      <td>f</td>\n",
              "      <td>other</td>\n",
              "      <td>3</td>\n",
              "      <td>31</td>\n",
              "      <td>2.0</td>\n",
              "      <td>9</td>\n",
              "      <td>0</td>\n",
              "      <td>65</td>\n",
              "    </tr>\n",
              "    <tr>\n",
              "      <th>4</th>\n",
              "      <td>64486</td>\n",
              "      <td>Finance</td>\n",
              "      <td>region_29</td>\n",
              "      <td>Bachelor's</td>\n",
              "      <td>m</td>\n",
              "      <td>sourcing</td>\n",
              "      <td>1</td>\n",
              "      <td>30</td>\n",
              "      <td>4.0</td>\n",
              "      <td>7</td>\n",
              "      <td>0</td>\n",
              "      <td>61</td>\n",
              "    </tr>\n",
              "    <tr>\n",
              "      <th>...</th>\n",
              "      <td>...</td>\n",
              "      <td>...</td>\n",
              "      <td>...</td>\n",
              "      <td>...</td>\n",
              "      <td>...</td>\n",
              "      <td>...</td>\n",
              "      <td>...</td>\n",
              "      <td>...</td>\n",
              "      <td>...</td>\n",
              "      <td>...</td>\n",
              "      <td>...</td>\n",
              "      <td>...</td>\n",
              "    </tr>\n",
              "    <tr>\n",
              "      <th>23485</th>\n",
              "      <td>53478</td>\n",
              "      <td>Legal</td>\n",
              "      <td>region_2</td>\n",
              "      <td>Below Secondary</td>\n",
              "      <td>m</td>\n",
              "      <td>sourcing</td>\n",
              "      <td>1</td>\n",
              "      <td>24</td>\n",
              "      <td>3.0</td>\n",
              "      <td>1</td>\n",
              "      <td>0</td>\n",
              "      <td>61</td>\n",
              "    </tr>\n",
              "    <tr>\n",
              "      <th>23486</th>\n",
              "      <td>25600</td>\n",
              "      <td>Technology</td>\n",
              "      <td>region_25</td>\n",
              "      <td>Bachelor's</td>\n",
              "      <td>m</td>\n",
              "      <td>sourcing</td>\n",
              "      <td>1</td>\n",
              "      <td>31</td>\n",
              "      <td>3.0</td>\n",
              "      <td>7</td>\n",
              "      <td>0</td>\n",
              "      <td>74</td>\n",
              "    </tr>\n",
              "    <tr>\n",
              "      <th>23487</th>\n",
              "      <td>45409</td>\n",
              "      <td>HR</td>\n",
              "      <td>region_16</td>\n",
              "      <td>Bachelor's</td>\n",
              "      <td>f</td>\n",
              "      <td>sourcing</td>\n",
              "      <td>1</td>\n",
              "      <td>26</td>\n",
              "      <td>4.0</td>\n",
              "      <td>4</td>\n",
              "      <td>0</td>\n",
              "      <td>50</td>\n",
              "    </tr>\n",
              "    <tr>\n",
              "      <th>23488</th>\n",
              "      <td>1186</td>\n",
              "      <td>Procurement</td>\n",
              "      <td>region_31</td>\n",
              "      <td>Bachelor's</td>\n",
              "      <td>m</td>\n",
              "      <td>sourcing</td>\n",
              "      <td>3</td>\n",
              "      <td>27</td>\n",
              "      <td>NaN</td>\n",
              "      <td>1</td>\n",
              "      <td>0</td>\n",
              "      <td>70</td>\n",
              "    </tr>\n",
              "    <tr>\n",
              "      <th>23489</th>\n",
              "      <td>5973</td>\n",
              "      <td>Technology</td>\n",
              "      <td>region_17</td>\n",
              "      <td>Master's &amp; above</td>\n",
              "      <td>m</td>\n",
              "      <td>other</td>\n",
              "      <td>3</td>\n",
              "      <td>40</td>\n",
              "      <td>5.0</td>\n",
              "      <td>5</td>\n",
              "      <td>0</td>\n",
              "      <td>89</td>\n",
              "    </tr>\n",
              "  </tbody>\n",
              "</table>\n",
              "<p>23490 rows × 12 columns</p>\n",
              "</div>"
            ],
            "text/plain": [
              "       employee_id         department     region         education gender  \\\n",
              "0             8724         Technology  region_26        Bachelor's      m   \n",
              "1            74430                 HR   region_4        Bachelor's      f   \n",
              "2            72255  Sales & Marketing  region_13        Bachelor's      m   \n",
              "3            38562        Procurement   region_2        Bachelor's      f   \n",
              "4            64486            Finance  region_29        Bachelor's      m   \n",
              "...            ...                ...        ...               ...    ...   \n",
              "23485        53478              Legal   region_2   Below Secondary      m   \n",
              "23486        25600         Technology  region_25        Bachelor's      m   \n",
              "23487        45409                 HR  region_16        Bachelor's      f   \n",
              "23488         1186        Procurement  region_31        Bachelor's      m   \n",
              "23489         5973         Technology  region_17  Master's & above      m   \n",
              "\n",
              "      recruitment_channel  no_of_trainings  age  previous_year_rating  \\\n",
              "0                sourcing                1   24                   NaN   \n",
              "1                   other                1   31                   3.0   \n",
              "2                   other                1   31                   1.0   \n",
              "3                   other                3   31                   2.0   \n",
              "4                sourcing                1   30                   4.0   \n",
              "...                   ...              ...  ...                   ...   \n",
              "23485            sourcing                1   24                   3.0   \n",
              "23486            sourcing                1   31                   3.0   \n",
              "23487            sourcing                1   26                   4.0   \n",
              "23488            sourcing                3   27                   NaN   \n",
              "23489               other                3   40                   5.0   \n",
              "\n",
              "       length_of_service  awards_won?  avg_training_score  \n",
              "0                      1            0                  77  \n",
              "1                      5            0                  51  \n",
              "2                      4            0                  47  \n",
              "3                      9            0                  65  \n",
              "4                      7            0                  61  \n",
              "...                  ...          ...                 ...  \n",
              "23485                  1            0                  61  \n",
              "23486                  7            0                  74  \n",
              "23487                  4            0                  50  \n",
              "23488                  1            0                  70  \n",
              "23489                  5            0                  89  \n",
              "\n",
              "[23490 rows x 12 columns]"
            ]
          },
          "execution_count": 6,
          "metadata": {},
          "output_type": "execute_result"
        }
      ],
      "source": [
        "test"
      ]
    },
    {
      "cell_type": "code",
      "execution_count": 7,
      "metadata": {
        "colab": {
          "base_uri": "https://localhost:8080/"
        },
        "id": "u-5HCdehqcwv",
        "outputId": "026389bb-a810-42fb-ff6a-19c716aed888"
      },
      "outputs": [
        {
          "name": "stdout",
          "output_type": "stream",
          "text": [
            "<class 'pandas.core.frame.DataFrame'>\n",
            "RangeIndex: 54808 entries, 0 to 54807\n",
            "Data columns (total 13 columns):\n",
            " #   Column                Non-Null Count  Dtype  \n",
            "---  ------                --------------  -----  \n",
            " 0   employee_id           54808 non-null  int64  \n",
            " 1   department            54808 non-null  object \n",
            " 2   region                54808 non-null  object \n",
            " 3   education             52399 non-null  object \n",
            " 4   gender                54808 non-null  object \n",
            " 5   recruitment_channel   54808 non-null  object \n",
            " 6   no_of_trainings       54808 non-null  int64  \n",
            " 7   age                   54808 non-null  int64  \n",
            " 8   previous_year_rating  50684 non-null  float64\n",
            " 9   length_of_service     54808 non-null  int64  \n",
            " 10  awards_won?           54808 non-null  int64  \n",
            " 11  avg_training_score    54808 non-null  int64  \n",
            " 12  is_promoted           54808 non-null  int64  \n",
            "dtypes: float64(1), int64(7), object(5)\n",
            "memory usage: 5.4+ MB\n"
          ]
        }
      ],
      "source": [
        "#Mengubah kolom beberapa kolom int menjadi float\n",
        "train[['length_of_service','avg_training_score']].astype(float)\n",
        "train.info()"
      ]
    },
    {
      "cell_type": "code",
      "execution_count": 8,
      "metadata": {
        "colab": {
          "base_uri": "https://localhost:8080/"
        },
        "id": "_vF1Yj4dxsGc",
        "outputId": "f2e0d736-f675-406c-9687-f7401d84ff47"
      },
      "outputs": [
        {
          "name": "stdout",
          "output_type": "stream",
          "text": [
            "<class 'pandas.core.frame.DataFrame'>\n",
            "RangeIndex: 54808 entries, 0 to 54807\n",
            "Data columns (total 13 columns):\n",
            " #   Column                Non-Null Count  Dtype  \n",
            "---  ------                --------------  -----  \n",
            " 0   employee_id           54808 non-null  int64  \n",
            " 1   department            54808 non-null  object \n",
            " 2   region                54808 non-null  object \n",
            " 3   education             52399 non-null  object \n",
            " 4   gender                54808 non-null  object \n",
            " 5   recruitment_channel   54808 non-null  object \n",
            " 6   no_of_trainings       54808 non-null  int64  \n",
            " 7   age                   54808 non-null  int64  \n",
            " 8   previous_year_rating  50684 non-null  float64\n",
            " 9   length_of_service     54808 non-null  int64  \n",
            " 10  awards_won?           54808 non-null  int64  \n",
            " 11  avg_training_score    54808 non-null  int64  \n",
            " 12  is_promoted           54808 non-null  int64  \n",
            "dtypes: float64(1), int64(7), object(5)\n",
            "memory usage: 5.4+ MB\n"
          ]
        }
      ],
      "source": [
        "test[['length_of_service','avg_training_score']].astype(float)\n",
        "train.info()"
      ]
    },
    {
      "cell_type": "code",
      "execution_count": 86,
      "metadata": {
        "colab": {
          "base_uri": "https://localhost:8080/",
          "height": 461
        },
        "id": "qlRIs8iECsoz",
        "outputId": "60616b2d-1fa7-439f-e61b-e40402f25b45"
      },
      "outputs": [
        {
          "data": {
            "text/plain": [
              "<AxesSubplot: xlabel='is_promoted', ylabel='count'>"
            ]
          },
          "execution_count": 86,
          "metadata": {},
          "output_type": "execute_result"
        },
        {
          "data": {
            "image/png": "[encoded data removed]",
            "text/plain": [
              "<Figure size 800x600 with 1 Axes>"
            ]
          },
          "metadata": {},
          "output_type": "display_data"
        }
      ],
      "source": [
        "#Mengecek apakah data target imbalance atau tidak\n",
        "plt.figure(figsize=(8,6))\n",
        "sns.countplot(data= train, x='is_promoted')"
      ]
    },
    {
      "cell_type": "code",
      "execution_count": 73,
      "metadata": {},
      "outputs": [
        {
          "data": {
            "text/plain": [
              "0    50140\n",
              "1     4668\n",
              "Name: is_promoted, dtype: int64"
            ]
          },
          "execution_count": 73,
          "metadata": {},
          "output_type": "execute_result"
        }
      ],
      "source": [
        "train['is_promoted'].value_counts()"
      ]
    },
    {
      "cell_type": "markdown",
      "metadata": {
        "id": "2E9PZgeN0fc7"
      },
      "source": [
        "##Heat Map"
      ]
    },
    {
      "cell_type": "code",
      "execution_count": 10,
      "metadata": {
        "colab": {
          "base_uri": "https://localhost:8080/",
          "height": 1000
        },
        "id": "5-0zE_9dDB7F",
        "outputId": "b7f1ec75-2418-4dce-deb9-58143881bae3"
      },
      "outputs": [
        {
          "name": "stderr",
          "output_type": "stream",
          "text": [
            "C:\\Users\\HP\\AppData\\Local\\Temp\\ipykernel_13664\\1977122356.py:1: FutureWarning: The default value of numeric_only in DataFrame.corr is deprecated. In a future version, it will default to False. Select only valid columns or specify the value of numeric_only to silence this warning.\n",
            "  corr_matrix = train.corr().abs()\n",
            "C:\\Users\\HP\\AppData\\Local\\Temp\\ipykernel_13664\\1977122356.py:2: DeprecationWarning: `np.bool` is a deprecated alias for the builtin `bool`. To silence this warning, use `bool` by itself. Doing this will not modify any behavior and is safe. If you specifically wanted the numpy scalar type, use `np.bool_` here.\n",
            "Deprecated in NumPy 1.20; for more details and guidance: https://numpy.org/devdocs/release/1.20.0-notes.html#deprecations\n",
            "  upper = corr_matrix.where(np.triu(np.ones(corr_matrix.shape), k=1).astype(np.bool))\n"
          ]
        },
        {
          "data": {
            "text/plain": [
              "<AxesSubplot: >"
            ]
          },
          "execution_count": 10,
          "metadata": {},
          "output_type": "execute_result"
        },
        {
          "data": {
            "image/png": "[encoded data removed]",
            "text/plain": [
              "<Figure size 2000x2000 with 2 Axes>"
            ]
          },
          "metadata": {},
          "output_type": "display_data"
        }
      ],
      "source": [
        "corr_matrix = train.corr().abs()\n",
        "upper = corr_matrix.where(np.triu(np.ones(corr_matrix.shape), k=1).astype(np.bool))\n",
        "\n",
        "plt.figure(figsize=(20,20))\n",
        "sns.heatmap(upper, annot=True, cmap='Blues')"
      ]
    },
    {
      "cell_type": "code",
      "execution_count": 11,
      "metadata": {
        "colab": {
          "base_uri": "https://localhost:8080/",
          "height": 1000
        },
        "id": "tny7rG1xVhWG",
        "outputId": "d7d83347-6abf-498e-85d7-b66ccf1034c9"
      },
      "outputs": [
        {
          "name": "stderr",
          "output_type": "stream",
          "text": [
            "C:\\Users\\HP\\AppData\\Local\\Temp\\ipykernel_13664\\3253772197.py:2: FutureWarning: The default value of numeric_only in DataFrame.corr is deprecated. In a future version, it will default to False. Select only valid columns or specify the value of numeric_only to silence this warning.\n",
            "  sns.heatmap(train.corr(),annot=True)\n"
          ]
        },
        {
          "data": {
            "text/plain": [
              "<AxesSubplot: >"
            ]
          },
          "execution_count": 11,
          "metadata": {},
          "output_type": "execute_result"
        },
        {
          "data": {
            "image/png": "[encoded data removed]",
            "text/plain": [
              "<Figure size 2000x2000 with 2 Axes>"
            ]
          },
          "metadata": {},
          "output_type": "display_data"
        }
      ],
      "source": [
        "plt.figure(figsize=(20,20))\n",
        "sns.heatmap(train.corr(),annot=True)"
      ]
    },
    {
      "cell_type": "markdown",
      "metadata": {
        "id": "4y1Ug3w1zlvZ"
      },
      "source": [
        "#Data Test Pre processing"
      ]
    },
    {
      "cell_type": "code",
      "execution_count": 12,
      "metadata": {
        "colab": {
          "base_uri": "https://localhost:8080/"
        },
        "id": "PVlHJS1nzpxI",
        "outputId": "587cf040-bc9c-403d-c8fa-88b0b2432668"
      },
      "outputs": [
        {
          "data": {
            "text/plain": [
              "employee_id                0\n",
              "department                 0\n",
              "region                     0\n",
              "education               1034\n",
              "gender                     0\n",
              "recruitment_channel        0\n",
              "no_of_trainings            0\n",
              "age                        0\n",
              "previous_year_rating    1812\n",
              "length_of_service          0\n",
              "awards_won?                0\n",
              "avg_training_score         0\n",
              "dtype: int64"
            ]
          },
          "execution_count": 12,
          "metadata": {},
          "output_type": "execute_result"
        }
      ],
      "source": [
        "#Mengecek Nilai nan disetiap kolom\n",
        "test.isna().sum()"
      ]
    },
    {
      "cell_type": "code",
      "execution_count": 13,
      "metadata": {
        "colab": {
          "base_uri": "https://localhost:8080/",
          "height": 478
        },
        "id": "m3jhtMlBzuEG",
        "outputId": "efa4daa1-13f6-4030-d420-baa497446c91"
      },
      "outputs": [
        {
          "name": "stderr",
          "output_type": "stream",
          "text": [
            "C:\\Users\\HP\\AppData\\Local\\Temp\\ipykernel_13664\\4219839546.py:2: FutureWarning: In a future version of pandas all arguments of DataFrame.drop except for the argument 'labels' will be keyword-only.\n",
            "  test.drop(['employee_id','region'],1,inplace=True)\n"
          ]
        },
        {
          "data": {
            "text/html": [
              "<div>\n",
              "<style scoped>\n",
              "    .dataframe tbody tr th:only-of-type {\n",
              "        vertical-align: middle;\n",
              "    }\n",
              "\n",
              "    .dataframe tbody tr th {\n",
              "        vertical-align: top;\n",
              "    }\n",
              "\n",
              "    .dataframe thead th {\n",
              "        text-align: right;\n",
              "    }\n",
              "</style>\n",
              "<table border=\"1\" class=\"dataframe\">\n",
              "  <thead>\n",
              "    <tr style=\"text-align: right;\">\n",
              "      <th></th>\n",
              "      <th>department</th>\n",
              "      <th>education</th>\n",
              "      <th>gender</th>\n",
              "      <th>recruitment_channel</th>\n",
              "      <th>no_of_trainings</th>\n",
              "      <th>age</th>\n",
              "      <th>previous_year_rating</th>\n",
              "      <th>length_of_service</th>\n",
              "      <th>awards_won?</th>\n",
              "      <th>avg_training_score</th>\n",
              "    </tr>\n",
              "  </thead>\n",
              "  <tbody>\n",
              "    <tr>\n",
              "      <th>0</th>\n",
              "      <td>Technology</td>\n",
              "      <td>Bachelor's</td>\n",
              "      <td>m</td>\n",
              "      <td>sourcing</td>\n",
              "      <td>1</td>\n",
              "      <td>24</td>\n",
              "      <td>NaN</td>\n",
              "      <td>1</td>\n",
              "      <td>0</td>\n",
              "      <td>77</td>\n",
              "    </tr>\n",
              "    <tr>\n",
              "      <th>1</th>\n",
              "      <td>HR</td>\n",
              "      <td>Bachelor's</td>\n",
              "      <td>f</td>\n",
              "      <td>other</td>\n",
              "      <td>1</td>\n",
              "      <td>31</td>\n",
              "      <td>3.0</td>\n",
              "      <td>5</td>\n",
              "      <td>0</td>\n",
              "      <td>51</td>\n",
              "    </tr>\n",
              "    <tr>\n",
              "      <th>2</th>\n",
              "      <td>Sales &amp; Marketing</td>\n",
              "      <td>Bachelor's</td>\n",
              "      <td>m</td>\n",
              "      <td>other</td>\n",
              "      <td>1</td>\n",
              "      <td>31</td>\n",
              "      <td>1.0</td>\n",
              "      <td>4</td>\n",
              "      <td>0</td>\n",
              "      <td>47</td>\n",
              "    </tr>\n",
              "    <tr>\n",
              "      <th>3</th>\n",
              "      <td>Procurement</td>\n",
              "      <td>Bachelor's</td>\n",
              "      <td>f</td>\n",
              "      <td>other</td>\n",
              "      <td>3</td>\n",
              "      <td>31</td>\n",
              "      <td>2.0</td>\n",
              "      <td>9</td>\n",
              "      <td>0</td>\n",
              "      <td>65</td>\n",
              "    </tr>\n",
              "    <tr>\n",
              "      <th>4</th>\n",
              "      <td>Finance</td>\n",
              "      <td>Bachelor's</td>\n",
              "      <td>m</td>\n",
              "      <td>sourcing</td>\n",
              "      <td>1</td>\n",
              "      <td>30</td>\n",
              "      <td>4.0</td>\n",
              "      <td>7</td>\n",
              "      <td>0</td>\n",
              "      <td>61</td>\n",
              "    </tr>\n",
              "    <tr>\n",
              "      <th>...</th>\n",
              "      <td>...</td>\n",
              "      <td>...</td>\n",
              "      <td>...</td>\n",
              "      <td>...</td>\n",
              "      <td>...</td>\n",
              "      <td>...</td>\n",
              "      <td>...</td>\n",
              "      <td>...</td>\n",
              "      <td>...</td>\n",
              "      <td>...</td>\n",
              "    </tr>\n",
              "    <tr>\n",
              "      <th>23485</th>\n",
              "      <td>Legal</td>\n",
              "      <td>Below Secondary</td>\n",
              "      <td>m</td>\n",
              "      <td>sourcing</td>\n",
              "      <td>1</td>\n",
              "      <td>24</td>\n",
              "      <td>3.0</td>\n",
              "      <td>1</td>\n",
              "      <td>0</td>\n",
              "      <td>61</td>\n",
              "    </tr>\n",
              "    <tr>\n",
              "      <th>23486</th>\n",
              "      <td>Technology</td>\n",
              "      <td>Bachelor's</td>\n",
              "      <td>m</td>\n",
              "      <td>sourcing</td>\n",
              "      <td>1</td>\n",
              "      <td>31</td>\n",
              "      <td>3.0</td>\n",
              "      <td>7</td>\n",
              "      <td>0</td>\n",
              "      <td>74</td>\n",
              "    </tr>\n",
              "    <tr>\n",
              "      <th>23487</th>\n",
              "      <td>HR</td>\n",
              "      <td>Bachelor's</td>\n",
              "      <td>f</td>\n",
              "      <td>sourcing</td>\n",
              "      <td>1</td>\n",
              "      <td>26</td>\n",
              "      <td>4.0</td>\n",
              "      <td>4</td>\n",
              "      <td>0</td>\n",
              "      <td>50</td>\n",
              "    </tr>\n",
              "    <tr>\n",
              "      <th>23488</th>\n",
              "      <td>Procurement</td>\n",
              "      <td>Bachelor's</td>\n",
              "      <td>m</td>\n",
              "      <td>sourcing</td>\n",
              "      <td>3</td>\n",
              "      <td>27</td>\n",
              "      <td>NaN</td>\n",
              "      <td>1</td>\n",
              "      <td>0</td>\n",
              "      <td>70</td>\n",
              "    </tr>\n",
              "    <tr>\n",
              "      <th>23489</th>\n",
              "      <td>Technology</td>\n",
              "      <td>Master's &amp; above</td>\n",
              "      <td>m</td>\n",
              "      <td>other</td>\n",
              "      <td>3</td>\n",
              "      <td>40</td>\n",
              "      <td>5.0</td>\n",
              "      <td>5</td>\n",
              "      <td>0</td>\n",
              "      <td>89</td>\n",
              "    </tr>\n",
              "  </tbody>\n",
              "</table>\n",
              "<p>23490 rows × 10 columns</p>\n",
              "</div>"
            ],
            "text/plain": [
              "              department         education gender recruitment_channel  \\\n",
              "0             Technology        Bachelor's      m            sourcing   \n",
              "1                     HR        Bachelor's      f               other   \n",
              "2      Sales & Marketing        Bachelor's      m               other   \n",
              "3            Procurement        Bachelor's      f               other   \n",
              "4                Finance        Bachelor's      m            sourcing   \n",
              "...                  ...               ...    ...                 ...   \n",
              "23485              Legal   Below Secondary      m            sourcing   \n",
              "23486         Technology        Bachelor's      m            sourcing   \n",
              "23487                 HR        Bachelor's      f            sourcing   \n",
              "23488        Procurement        Bachelor's      m            sourcing   \n",
              "23489         Technology  Master's & above      m               other   \n",
              "\n",
              "       no_of_trainings  age  previous_year_rating  length_of_service  \\\n",
              "0                    1   24                   NaN                  1   \n",
              "1                    1   31                   3.0                  5   \n",
              "2                    1   31                   1.0                  4   \n",
              "3                    3   31                   2.0                  9   \n",
              "4                    1   30                   4.0                  7   \n",
              "...                ...  ...                   ...                ...   \n",
              "23485                1   24                   3.0                  1   \n",
              "23486                1   31                   3.0                  7   \n",
              "23487                1   26                   4.0                  4   \n",
              "23488                3   27                   NaN                  1   \n",
              "23489                3   40                   5.0                  5   \n",
              "\n",
              "       awards_won?  avg_training_score  \n",
              "0                0                  77  \n",
              "1                0                  51  \n",
              "2                0                  47  \n",
              "3                0                  65  \n",
              "4                0                  61  \n",
              "...            ...                 ...  \n",
              "23485            0                  61  \n",
              "23486            0                  74  \n",
              "23487            0                  50  \n",
              "23488            0                  70  \n",
              "23489            0                  89  \n",
              "\n",
              "[23490 rows x 10 columns]"
            ]
          },
          "execution_count": 13,
          "metadata": {},
          "output_type": "execute_result"
        }
      ],
      "source": [
        "#Men-drop kolom yang dianggap kurang penting\n",
        "test.drop(['employee_id','region'],1,inplace=True)\n",
        "test"
      ]
    },
    {
      "cell_type": "code",
      "execution_count": 14,
      "metadata": {
        "colab": {
          "base_uri": "https://localhost:8080/"
        },
        "id": "IMjbVR3d0VvA",
        "outputId": "cb1bac16-1d28-494d-f043-602b51c22b9f"
      },
      "outputs": [
        {
          "data": {
            "text/plain": [
              "3.0"
            ]
          },
          "execution_count": 14,
          "metadata": {},
          "output_type": "execute_result"
        }
      ],
      "source": [
        "#Mengisi nilai nan di kolom previous_year_rating dengan median\n",
        "test['previous_year_rating'].median()"
      ]
    },
    {
      "cell_type": "code",
      "execution_count": 15,
      "metadata": {
        "colab": {
          "base_uri": "https://localhost:8080/"
        },
        "id": "pNvlzYDqz-4h",
        "outputId": "2600e8eb-110e-43c0-f928-94c704f9799c"
      },
      "outputs": [
        {
          "data": {
            "text/plain": [
              "0        3.0\n",
              "1        3.0\n",
              "2        1.0\n",
              "3        2.0\n",
              "4        4.0\n",
              "        ... \n",
              "23485    3.0\n",
              "23486    3.0\n",
              "23487    4.0\n",
              "23488    3.0\n",
              "23489    5.0\n",
              "Name: previous_year_rating, Length: 23490, dtype: float64"
            ]
          },
          "execution_count": 15,
          "metadata": {},
          "output_type": "execute_result"
        }
      ],
      "source": [
        "test['education'].fillna('Other', inplace=True)\n",
        "test['previous_year_rating'].fillna(3.000, inplace=True)\n",
        "test['previous_year_rating']"
      ]
    },
    {
      "cell_type": "code",
      "execution_count": 16,
      "metadata": {
        "colab": {
          "base_uri": "https://localhost:8080/"
        },
        "id": "dG5p5Skv0C4u",
        "outputId": "c23598b8-d29c-4495-e8d4-d909d39c213a"
      },
      "outputs": [
        {
          "data": {
            "text/plain": [
              "department              0\n",
              "education               0\n",
              "gender                  0\n",
              "recruitment_channel     0\n",
              "no_of_trainings         0\n",
              "age                     0\n",
              "previous_year_rating    0\n",
              "length_of_service       0\n",
              "awards_won?             0\n",
              "avg_training_score      0\n",
              "dtype: int64"
            ]
          },
          "execution_count": 16,
          "metadata": {},
          "output_type": "execute_result"
        }
      ],
      "source": [
        "test.isna().sum()"
      ]
    },
    {
      "cell_type": "markdown",
      "metadata": {
        "id": "fxLAT6-V1p-i"
      },
      "source": [
        "##Label Encoding"
      ]
    },
    {
      "cell_type": "code",
      "execution_count": 17,
      "metadata": {
        "colab": {
          "base_uri": "https://localhost:8080/"
        },
        "id": "UQwGsbqQ0f8T",
        "outputId": "6130cc5b-204e-4710-e520-8235367661f3"
      },
      "outputs": [
        {
          "data": {
            "text/plain": [
              "0        2\n",
              "1        2\n",
              "2        2\n",
              "3        2\n",
              "4        2\n",
              "        ..\n",
              "23485    1\n",
              "23486    2\n",
              "23487    2\n",
              "23488    2\n",
              "23489    3\n",
              "Name: education, Length: 23490, dtype: int64"
            ]
          },
          "execution_count": 17,
          "metadata": {},
          "output_type": "execute_result"
        }
      ],
      "source": [
        "#Label encoding terhadap kolom education\n",
        "test['education'] = test['education'].replace({\"Master's & above\":3, \"Bachelor's\":2, 'Below Secondary':1, 'Other':0})\n",
        "test['education']"
      ]
    },
    {
      "cell_type": "code",
      "execution_count": 18,
      "metadata": {
        "colab": {
          "base_uri": "https://localhost:8080/"
        },
        "id": "30s4YgJA0sl_",
        "outputId": "e0850f73-b9f9-4de1-a527-e673a8f182b9"
      },
      "outputs": [
        {
          "data": {
            "text/plain": [
              "0        1\n",
              "1        0\n",
              "2        1\n",
              "3        0\n",
              "4        1\n",
              "        ..\n",
              "23485    1\n",
              "23486    1\n",
              "23487    0\n",
              "23488    1\n",
              "23489    1\n",
              "Name: gender, Length: 23490, dtype: int64"
            ]
          },
          "execution_count": 18,
          "metadata": {},
          "output_type": "execute_result"
        }
      ],
      "source": [
        "#Label encoding terhadap kolom gender\n",
        "test['gender'] = test['gender'].replace({'f':0, 'm':1})\n",
        "test['gender']"
      ]
    },
    {
      "cell_type": "markdown",
      "metadata": {
        "id": "V-EmfY1x1Z6r"
      },
      "source": [
        "##One Hot Encoding \n"
      ]
    },
    {
      "cell_type": "code",
      "execution_count": 19,
      "metadata": {
        "colab": {
          "base_uri": "https://localhost:8080/"
        },
        "id": "05gP56_G000y",
        "outputId": "5d1a1931-5964-4f43-883e-778e135bd9be"
      },
      "outputs": [
        {
          "data": {
            "text/plain": [
              "[array(['Analytics', 'Finance', 'HR', 'Legal', 'Operations', 'Procurement',\n",
              "        'R&D', 'Sales & Marketing', 'Technology'], dtype=object)]"
            ]
          },
          "execution_count": 19,
          "metadata": {},
          "output_type": "execute_result"
        }
      ],
      "source": [
        "#Label encoding terhadap kolom departement\n",
        "ohe = OneHotEncoder(sparse=False)\n",
        "feature_array=ohe.fit_transform(test[['department']])\n",
        "feature_labels=ohe.categories_\n",
        "ohe.categories_"
      ]
    },
    {
      "cell_type": "code",
      "execution_count": 20,
      "metadata": {
        "colab": {
          "base_uri": "https://localhost:8080/"
        },
        "id": "-itn2SOi0w9v",
        "outputId": "3e3b033d-788c-4532-c8f8-8ac3ec0a2ee8"
      },
      "outputs": [
        {
          "data": {
            "text/plain": [
              "array(['Analytics', 'Finance', 'HR', 'Legal', 'Operations', 'Procurement',\n",
              "       'R&D', 'Sales & Marketing', 'Technology'], dtype=object)"
            ]
          },
          "execution_count": 20,
          "metadata": {},
          "output_type": "execute_result"
        }
      ],
      "source": [
        "np.array(feature_labels).ravel()"
      ]
    },
    {
      "cell_type": "code",
      "execution_count": 21,
      "metadata": {
        "id": "_gCksvIa0797"
      },
      "outputs": [],
      "source": [
        "feature=pd.DataFrame(feature_array, columns= feature_labels)\n",
        "test= pd.concat([test, feature], axis=1)\n"
      ]
    },
    {
      "cell_type": "code",
      "execution_count": 22,
      "metadata": {
        "colab": {
          "base_uri": "https://localhost:8080/",
          "height": 505
        },
        "id": "odqXbcyn1MbV",
        "outputId": "28909508-4d6a-4527-a97a-94da191f2d58"
      },
      "outputs": [
        {
          "data": {
            "text/html": [
              "<div>\n",
              "<style scoped>\n",
              "    .dataframe tbody tr th:only-of-type {\n",
              "        vertical-align: middle;\n",
              "    }\n",
              "\n",
              "    .dataframe tbody tr th {\n",
              "        vertical-align: top;\n",
              "    }\n",
              "\n",
              "    .dataframe thead th {\n",
              "        text-align: right;\n",
              "    }\n",
              "</style>\n",
              "<table border=\"1\" class=\"dataframe\">\n",
              "  <thead>\n",
              "    <tr style=\"text-align: right;\">\n",
              "      <th></th>\n",
              "      <th>education</th>\n",
              "      <th>gender</th>\n",
              "      <th>recruitment_channel</th>\n",
              "      <th>no_of_trainings</th>\n",
              "      <th>age</th>\n",
              "      <th>previous_year_rating</th>\n",
              "      <th>length_of_service</th>\n",
              "      <th>awards_won?</th>\n",
              "      <th>avg_training_score</th>\n",
              "      <th>(Analytics,)</th>\n",
              "      <th>(Finance,)</th>\n",
              "      <th>(HR,)</th>\n",
              "      <th>(Legal,)</th>\n",
              "      <th>(Operations,)</th>\n",
              "      <th>(Procurement,)</th>\n",
              "      <th>(R&amp;D,)</th>\n",
              "      <th>(Sales &amp; Marketing,)</th>\n",
              "      <th>(Technology,)</th>\n",
              "    </tr>\n",
              "  </thead>\n",
              "  <tbody>\n",
              "    <tr>\n",
              "      <th>0</th>\n",
              "      <td>2</td>\n",
              "      <td>1</td>\n",
              "      <td>sourcing</td>\n",
              "      <td>1</td>\n",
              "      <td>24</td>\n",
              "      <td>3.0</td>\n",
              "      <td>1</td>\n",
              "      <td>0</td>\n",
              "      <td>77</td>\n",
              "      <td>0.0</td>\n",
              "      <td>0.0</td>\n",
              "      <td>0.0</td>\n",
              "      <td>0.0</td>\n",
              "      <td>0.0</td>\n",
              "      <td>0.0</td>\n",
              "      <td>0.0</td>\n",
              "      <td>0.0</td>\n",
              "      <td>1.0</td>\n",
              "    </tr>\n",
              "    <tr>\n",
              "      <th>1</th>\n",
              "      <td>2</td>\n",
              "      <td>0</td>\n",
              "      <td>other</td>\n",
              "      <td>1</td>\n",
              "      <td>31</td>\n",
              "      <td>3.0</td>\n",
              "      <td>5</td>\n",
              "      <td>0</td>\n",
              "      <td>51</td>\n",
              "      <td>0.0</td>\n",
              "      <td>0.0</td>\n",
              "      <td>1.0</td>\n",
              "      <td>0.0</td>\n",
              "      <td>0.0</td>\n",
              "      <td>0.0</td>\n",
              "      <td>0.0</td>\n",
              "      <td>0.0</td>\n",
              "      <td>0.0</td>\n",
              "    </tr>\n",
              "    <tr>\n",
              "      <th>2</th>\n",
              "      <td>2</td>\n",
              "      <td>1</td>\n",
              "      <td>other</td>\n",
              "      <td>1</td>\n",
              "      <td>31</td>\n",
              "      <td>1.0</td>\n",
              "      <td>4</td>\n",
              "      <td>0</td>\n",
              "      <td>47</td>\n",
              "      <td>0.0</td>\n",
              "      <td>0.0</td>\n",
              "      <td>0.0</td>\n",
              "      <td>0.0</td>\n",
              "      <td>0.0</td>\n",
              "      <td>0.0</td>\n",
              "      <td>0.0</td>\n",
              "      <td>1.0</td>\n",
              "      <td>0.0</td>\n",
              "    </tr>\n",
              "    <tr>\n",
              "      <th>3</th>\n",
              "      <td>2</td>\n",
              "      <td>0</td>\n",
              "      <td>other</td>\n",
              "      <td>3</td>\n",
              "      <td>31</td>\n",
              "      <td>2.0</td>\n",
              "      <td>9</td>\n",
              "      <td>0</td>\n",
              "      <td>65</td>\n",
              "      <td>0.0</td>\n",
              "      <td>0.0</td>\n",
              "      <td>0.0</td>\n",
              "      <td>0.0</td>\n",
              "      <td>0.0</td>\n",
              "      <td>1.0</td>\n",
              "      <td>0.0</td>\n",
              "      <td>0.0</td>\n",
              "      <td>0.0</td>\n",
              "    </tr>\n",
              "    <tr>\n",
              "      <th>4</th>\n",
              "      <td>2</td>\n",
              "      <td>1</td>\n",
              "      <td>sourcing</td>\n",
              "      <td>1</td>\n",
              "      <td>30</td>\n",
              "      <td>4.0</td>\n",
              "      <td>7</td>\n",
              "      <td>0</td>\n",
              "      <td>61</td>\n",
              "      <td>0.0</td>\n",
              "      <td>1.0</td>\n",
              "      <td>0.0</td>\n",
              "      <td>0.0</td>\n",
              "      <td>0.0</td>\n",
              "      <td>0.0</td>\n",
              "      <td>0.0</td>\n",
              "      <td>0.0</td>\n",
              "      <td>0.0</td>\n",
              "    </tr>\n",
              "    <tr>\n",
              "      <th>...</th>\n",
              "      <td>...</td>\n",
              "      <td>...</td>\n",
              "      <td>...</td>\n",
              "      <td>...</td>\n",
              "      <td>...</td>\n",
              "      <td>...</td>\n",
              "      <td>...</td>\n",
              "      <td>...</td>\n",
              "      <td>...</td>\n",
              "      <td>...</td>\n",
              "      <td>...</td>\n",
              "      <td>...</td>\n",
              "      <td>...</td>\n",
              "      <td>...</td>\n",
              "      <td>...</td>\n",
              "      <td>...</td>\n",
              "      <td>...</td>\n",
              "      <td>...</td>\n",
              "    </tr>\n",
              "    <tr>\n",
              "      <th>23485</th>\n",
              "      <td>1</td>\n",
              "      <td>1</td>\n",
              "      <td>sourcing</td>\n",
              "      <td>1</td>\n",
              "      <td>24</td>\n",
              "      <td>3.0</td>\n",
              "      <td>1</td>\n",
              "      <td>0</td>\n",
              "      <td>61</td>\n",
              "      <td>0.0</td>\n",
              "      <td>0.0</td>\n",
              "      <td>0.0</td>\n",
              "      <td>1.0</td>\n",
              "      <td>0.0</td>\n",
              "      <td>0.0</td>\n",
              "      <td>0.0</td>\n",
              "      <td>0.0</td>\n",
              "      <td>0.0</td>\n",
              "    </tr>\n",
              "    <tr>\n",
              "      <th>23486</th>\n",
              "      <td>2</td>\n",
              "      <td>1</td>\n",
              "      <td>sourcing</td>\n",
              "      <td>1</td>\n",
              "      <td>31</td>\n",
              "      <td>3.0</td>\n",
              "      <td>7</td>\n",
              "      <td>0</td>\n",
              "      <td>74</td>\n",
              "      <td>0.0</td>\n",
              "      <td>0.0</td>\n",
              "      <td>0.0</td>\n",
              "      <td>0.0</td>\n",
              "      <td>0.0</td>\n",
              "      <td>0.0</td>\n",
              "      <td>0.0</td>\n",
              "      <td>0.0</td>\n",
              "      <td>1.0</td>\n",
              "    </tr>\n",
              "    <tr>\n",
              "      <th>23487</th>\n",
              "      <td>2</td>\n",
              "      <td>0</td>\n",
              "      <td>sourcing</td>\n",
              "      <td>1</td>\n",
              "      <td>26</td>\n",
              "      <td>4.0</td>\n",
              "      <td>4</td>\n",
              "      <td>0</td>\n",
              "      <td>50</td>\n",
              "      <td>0.0</td>\n",
              "      <td>0.0</td>\n",
              "      <td>1.0</td>\n",
              "      <td>0.0</td>\n",
              "      <td>0.0</td>\n",
              "      <td>0.0</td>\n",
              "      <td>0.0</td>\n",
              "      <td>0.0</td>\n",
              "      <td>0.0</td>\n",
              "    </tr>\n",
              "    <tr>\n",
              "      <th>23488</th>\n",
              "      <td>2</td>\n",
              "      <td>1</td>\n",
              "      <td>sourcing</td>\n",
              "      <td>3</td>\n",
              "      <td>27</td>\n",
              "      <td>3.0</td>\n",
              "      <td>1</td>\n",
              "      <td>0</td>\n",
              "      <td>70</td>\n",
              "      <td>0.0</td>\n",
              "      <td>0.0</td>\n",
              "      <td>0.0</td>\n",
              "      <td>0.0</td>\n",
              "      <td>0.0</td>\n",
              "      <td>1.0</td>\n",
              "      <td>0.0</td>\n",
              "      <td>0.0</td>\n",
              "      <td>0.0</td>\n",
              "    </tr>\n",
              "    <tr>\n",
              "      <th>23489</th>\n",
              "      <td>3</td>\n",
              "      <td>1</td>\n",
              "      <td>other</td>\n",
              "      <td>3</td>\n",
              "      <td>40</td>\n",
              "      <td>5.0</td>\n",
              "      <td>5</td>\n",
              "      <td>0</td>\n",
              "      <td>89</td>\n",
              "      <td>0.0</td>\n",
              "      <td>0.0</td>\n",
              "      <td>0.0</td>\n",
              "      <td>0.0</td>\n",
              "      <td>0.0</td>\n",
              "      <td>0.0</td>\n",
              "      <td>0.0</td>\n",
              "      <td>0.0</td>\n",
              "      <td>1.0</td>\n",
              "    </tr>\n",
              "  </tbody>\n",
              "</table>\n",
              "<p>23490 rows × 18 columns</p>\n",
              "</div>"
            ],
            "text/plain": [
              "       education  gender recruitment_channel  no_of_trainings  age  \\\n",
              "0              2       1            sourcing                1   24   \n",
              "1              2       0               other                1   31   \n",
              "2              2       1               other                1   31   \n",
              "3              2       0               other                3   31   \n",
              "4              2       1            sourcing                1   30   \n",
              "...          ...     ...                 ...              ...  ...   \n",
              "23485          1       1            sourcing                1   24   \n",
              "23486          2       1            sourcing                1   31   \n",
              "23487          2       0            sourcing                1   26   \n",
              "23488          2       1            sourcing                3   27   \n",
              "23489          3       1               other                3   40   \n",
              "\n",
              "       previous_year_rating  length_of_service  awards_won?  \\\n",
              "0                       3.0                  1            0   \n",
              "1                       3.0                  5            0   \n",
              "2                       1.0                  4            0   \n",
              "3                       2.0                  9            0   \n",
              "4                       4.0                  7            0   \n",
              "...                     ...                ...          ...   \n",
              "23485                   3.0                  1            0   \n",
              "23486                   3.0                  7            0   \n",
              "23487                   4.0                  4            0   \n",
              "23488                   3.0                  1            0   \n",
              "23489                   5.0                  5            0   \n",
              "\n",
              "       avg_training_score  (Analytics,)  (Finance,)  (HR,)  (Legal,)  \\\n",
              "0                      77           0.0         0.0    0.0       0.0   \n",
              "1                      51           0.0         0.0    1.0       0.0   \n",
              "2                      47           0.0         0.0    0.0       0.0   \n",
              "3                      65           0.0         0.0    0.0       0.0   \n",
              "4                      61           0.0         1.0    0.0       0.0   \n",
              "...                   ...           ...         ...    ...       ...   \n",
              "23485                  61           0.0         0.0    0.0       1.0   \n",
              "23486                  74           0.0         0.0    0.0       0.0   \n",
              "23487                  50           0.0         0.0    1.0       0.0   \n",
              "23488                  70           0.0         0.0    0.0       0.0   \n",
              "23489                  89           0.0         0.0    0.0       0.0   \n",
              "\n",
              "       (Operations,)  (Procurement,)  (R&D,)  (Sales & Marketing,)  \\\n",
              "0                0.0             0.0     0.0                   0.0   \n",
              "1                0.0             0.0     0.0                   0.0   \n",
              "2                0.0             0.0     0.0                   1.0   \n",
              "3                0.0             1.0     0.0                   0.0   \n",
              "4                0.0             0.0     0.0                   0.0   \n",
              "...              ...             ...     ...                   ...   \n",
              "23485            0.0             0.0     0.0                   0.0   \n",
              "23486            0.0             0.0     0.0                   0.0   \n",
              "23487            0.0             0.0     0.0                   0.0   \n",
              "23488            0.0             1.0     0.0                   0.0   \n",
              "23489            0.0             0.0     0.0                   0.0   \n",
              "\n",
              "       (Technology,)  \n",
              "0                1.0  \n",
              "1                0.0  \n",
              "2                0.0  \n",
              "3                0.0  \n",
              "4                0.0  \n",
              "...              ...  \n",
              "23485            0.0  \n",
              "23486            1.0  \n",
              "23487            0.0  \n",
              "23488            0.0  \n",
              "23489            1.0  \n",
              "\n",
              "[23490 rows x 18 columns]"
            ]
          },
          "execution_count": 22,
          "metadata": {},
          "output_type": "execute_result"
        }
      ],
      "source": [
        "test.drop('department', axis=1, inplace=True)\n",
        "test"
      ]
    },
    {
      "cell_type": "code",
      "execution_count": 23,
      "metadata": {
        "colab": {
          "base_uri": "https://localhost:8080/"
        },
        "id": "QoMDVWpa1eCY",
        "outputId": "648a19d3-82ed-46cb-8448-ac7e2dd1f237"
      },
      "outputs": [
        {
          "data": {
            "text/plain": [
              "[array(['other', 'referred', 'sourcing'], dtype=object)]"
            ]
          },
          "execution_count": 23,
          "metadata": {},
          "output_type": "execute_result"
        }
      ],
      "source": [
        "#Label encoding terhadap kolom recruitment channel\n",
        "ohe = OneHotEncoder(sparse=False)\n",
        "feature_array1=ohe.fit_transform(test[['recruitment_channel']])\n",
        "feature_labels1=ohe.categories_\n",
        "ohe.categories_"
      ]
    },
    {
      "cell_type": "code",
      "execution_count": 24,
      "metadata": {
        "colab": {
          "base_uri": "https://localhost:8080/"
        },
        "id": "lUowfpOI1gsp",
        "outputId": "66952c27-7513-4ab6-bc0d-f3eff3168ba6"
      },
      "outputs": [
        {
          "data": {
            "text/plain": [
              "array(['other', 'referred', 'sourcing'], dtype=object)"
            ]
          },
          "execution_count": 24,
          "metadata": {},
          "output_type": "execute_result"
        }
      ],
      "source": [
        "np.array(feature_labels1).ravel()"
      ]
    },
    {
      "cell_type": "code",
      "execution_count": 25,
      "metadata": {
        "id": "05aNP7WN1ihT"
      },
      "outputs": [],
      "source": [
        "feature1=pd.DataFrame(feature_array1, columns= feature_labels1)\n",
        "test= pd.concat([test, feature1], axis=1)"
      ]
    },
    {
      "cell_type": "code",
      "execution_count": 26,
      "metadata": {
        "colab": {
          "base_uri": "https://localhost:8080/",
          "height": 505
        },
        "id": "5uaFtQKa1kqG",
        "outputId": "6f1d2db6-bbec-4695-be13-d15d8f41c8c8"
      },
      "outputs": [
        {
          "data": {
            "text/html": [
              "<div>\n",
              "<style scoped>\n",
              "    .dataframe tbody tr th:only-of-type {\n",
              "        vertical-align: middle;\n",
              "    }\n",
              "\n",
              "    .dataframe tbody tr th {\n",
              "        vertical-align: top;\n",
              "    }\n",
              "\n",
              "    .dataframe thead th {\n",
              "        text-align: right;\n",
              "    }\n",
              "</style>\n",
              "<table border=\"1\" class=\"dataframe\">\n",
              "  <thead>\n",
              "    <tr style=\"text-align: right;\">\n",
              "      <th></th>\n",
              "      <th>education</th>\n",
              "      <th>gender</th>\n",
              "      <th>no_of_trainings</th>\n",
              "      <th>age</th>\n",
              "      <th>previous_year_rating</th>\n",
              "      <th>length_of_service</th>\n",
              "      <th>awards_won?</th>\n",
              "      <th>avg_training_score</th>\n",
              "      <th>(Analytics,)</th>\n",
              "      <th>(Finance,)</th>\n",
              "      <th>(HR,)</th>\n",
              "      <th>(Legal,)</th>\n",
              "      <th>(Operations,)</th>\n",
              "      <th>(Procurement,)</th>\n",
              "      <th>(R&amp;D,)</th>\n",
              "      <th>(Sales &amp; Marketing,)</th>\n",
              "      <th>(Technology,)</th>\n",
              "      <th>(other,)</th>\n",
              "      <th>(referred,)</th>\n",
              "      <th>(sourcing,)</th>\n",
              "    </tr>\n",
              "  </thead>\n",
              "  <tbody>\n",
              "    <tr>\n",
              "      <th>0</th>\n",
              "      <td>2</td>\n",
              "      <td>1</td>\n",
              "      <td>1</td>\n",
              "      <td>24</td>\n",
              "      <td>3.0</td>\n",
              "      <td>1</td>\n",
              "      <td>0</td>\n",
              "      <td>77</td>\n",
              "      <td>0.0</td>\n",
              "      <td>0.0</td>\n",
              "      <td>0.0</td>\n",
              "      <td>0.0</td>\n",
              "      <td>0.0</td>\n",
              "      <td>0.0</td>\n",
              "      <td>0.0</td>\n",
              "      <td>0.0</td>\n",
              "      <td>1.0</td>\n",
              "      <td>0.0</td>\n",
              "      <td>0.0</td>\n",
              "      <td>1.0</td>\n",
              "    </tr>\n",
              "    <tr>\n",
              "      <th>1</th>\n",
              "      <td>2</td>\n",
              "      <td>0</td>\n",
              "      <td>1</td>\n",
              "      <td>31</td>\n",
              "      <td>3.0</td>\n",
              "      <td>5</td>\n",
              "      <td>0</td>\n",
              "      <td>51</td>\n",
              "      <td>0.0</td>\n",
              "      <td>0.0</td>\n",
              "      <td>1.0</td>\n",
              "      <td>0.0</td>\n",
              "      <td>0.0</td>\n",
              "      <td>0.0</td>\n",
              "      <td>0.0</td>\n",
              "      <td>0.0</td>\n",
              "      <td>0.0</td>\n",
              "      <td>1.0</td>\n",
              "      <td>0.0</td>\n",
              "      <td>0.0</td>\n",
              "    </tr>\n",
              "    <tr>\n",
              "      <th>2</th>\n",
              "      <td>2</td>\n",
              "      <td>1</td>\n",
              "      <td>1</td>\n",
              "      <td>31</td>\n",
              "      <td>1.0</td>\n",
              "      <td>4</td>\n",
              "      <td>0</td>\n",
              "      <td>47</td>\n",
              "      <td>0.0</td>\n",
              "      <td>0.0</td>\n",
              "      <td>0.0</td>\n",
              "      <td>0.0</td>\n",
              "      <td>0.0</td>\n",
              "      <td>0.0</td>\n",
              "      <td>0.0</td>\n",
              "      <td>1.0</td>\n",
              "      <td>0.0</td>\n",
              "      <td>1.0</td>\n",
              "      <td>0.0</td>\n",
              "      <td>0.0</td>\n",
              "    </tr>\n",
              "    <tr>\n",
              "      <th>3</th>\n",
              "      <td>2</td>\n",
              "      <td>0</td>\n",
              "      <td>3</td>\n",
              "      <td>31</td>\n",
              "      <td>2.0</td>\n",
              "      <td>9</td>\n",
              "      <td>0</td>\n",
              "      <td>65</td>\n",
              "      <td>0.0</td>\n",
              "      <td>0.0</td>\n",
              "      <td>0.0</td>\n",
              "      <td>0.0</td>\n",
              "      <td>0.0</td>\n",
              "      <td>1.0</td>\n",
              "      <td>0.0</td>\n",
              "      <td>0.0</td>\n",
              "      <td>0.0</td>\n",
              "      <td>1.0</td>\n",
              "      <td>0.0</td>\n",
              "      <td>0.0</td>\n",
              "    </tr>\n",
              "    <tr>\n",
              "      <th>4</th>\n",
              "      <td>2</td>\n",
              "      <td>1</td>\n",
              "      <td>1</td>\n",
              "      <td>30</td>\n",
              "      <td>4.0</td>\n",
              "      <td>7</td>\n",
              "      <td>0</td>\n",
              "      <td>61</td>\n",
              "      <td>0.0</td>\n",
              "      <td>1.0</td>\n",
              "      <td>0.0</td>\n",
              "      <td>0.0</td>\n",
              "      <td>0.0</td>\n",
              "      <td>0.0</td>\n",
              "      <td>0.0</td>\n",
              "      <td>0.0</td>\n",
              "      <td>0.0</td>\n",
              "      <td>0.0</td>\n",
              "      <td>0.0</td>\n",
              "      <td>1.0</td>\n",
              "    </tr>\n",
              "    <tr>\n",
              "      <th>...</th>\n",
              "      <td>...</td>\n",
              "      <td>...</td>\n",
              "      <td>...</td>\n",
              "      <td>...</td>\n",
              "      <td>...</td>\n",
              "      <td>...</td>\n",
              "      <td>...</td>\n",
              "      <td>...</td>\n",
              "      <td>...</td>\n",
              "      <td>...</td>\n",
              "      <td>...</td>\n",
              "      <td>...</td>\n",
              "      <td>...</td>\n",
              "      <td>...</td>\n",
              "      <td>...</td>\n",
              "      <td>...</td>\n",
              "      <td>...</td>\n",
              "      <td>...</td>\n",
              "      <td>...</td>\n",
              "      <td>...</td>\n",
              "    </tr>\n",
              "    <tr>\n",
              "      <th>23485</th>\n",
              "      <td>1</td>\n",
              "      <td>1</td>\n",
              "      <td>1</td>\n",
              "      <td>24</td>\n",
              "      <td>3.0</td>\n",
              "      <td>1</td>\n",
              "      <td>0</td>\n",
              "      <td>61</td>\n",
              "      <td>0.0</td>\n",
              "      <td>0.0</td>\n",
              "      <td>0.0</td>\n",
              "      <td>1.0</td>\n",
              "      <td>0.0</td>\n",
              "      <td>0.0</td>\n",
              "      <td>0.0</td>\n",
              "      <td>0.0</td>\n",
              "      <td>0.0</td>\n",
              "      <td>0.0</td>\n",
              "      <td>0.0</td>\n",
              "      <td>1.0</td>\n",
              "    </tr>\n",
              "    <tr>\n",
              "      <th>23486</th>\n",
              "      <td>2</td>\n",
              "      <td>1</td>\n",
              "      <td>1</td>\n",
              "      <td>31</td>\n",
              "      <td>3.0</td>\n",
              "      <td>7</td>\n",
              "      <td>0</td>\n",
              "      <td>74</td>\n",
              "      <td>0.0</td>\n",
              "      <td>0.0</td>\n",
              "      <td>0.0</td>\n",
              "      <td>0.0</td>\n",
              "      <td>0.0</td>\n",
              "      <td>0.0</td>\n",
              "      <td>0.0</td>\n",
              "      <td>0.0</td>\n",
              "      <td>1.0</td>\n",
              "      <td>0.0</td>\n",
              "      <td>0.0</td>\n",
              "      <td>1.0</td>\n",
              "    </tr>\n",
              "    <tr>\n",
              "      <th>23487</th>\n",
              "      <td>2</td>\n",
              "      <td>0</td>\n",
              "      <td>1</td>\n",
              "      <td>26</td>\n",
              "      <td>4.0</td>\n",
              "      <td>4</td>\n",
              "      <td>0</td>\n",
              "      <td>50</td>\n",
              "      <td>0.0</td>\n",
              "      <td>0.0</td>\n",
              "      <td>1.0</td>\n",
              "      <td>0.0</td>\n",
              "      <td>0.0</td>\n",
              "      <td>0.0</td>\n",
              "      <td>0.0</td>\n",
              "      <td>0.0</td>\n",
              "      <td>0.0</td>\n",
              "      <td>0.0</td>\n",
              "      <td>0.0</td>\n",
              "      <td>1.0</td>\n",
              "    </tr>\n",
              "    <tr>\n",
              "      <th>23488</th>\n",
              "      <td>2</td>\n",
              "      <td>1</td>\n",
              "      <td>3</td>\n",
              "      <td>27</td>\n",
              "      <td>3.0</td>\n",
              "      <td>1</td>\n",
              "      <td>0</td>\n",
              "      <td>70</td>\n",
              "      <td>0.0</td>\n",
              "      <td>0.0</td>\n",
              "      <td>0.0</td>\n",
              "      <td>0.0</td>\n",
              "      <td>0.0</td>\n",
              "      <td>1.0</td>\n",
              "      <td>0.0</td>\n",
              "      <td>0.0</td>\n",
              "      <td>0.0</td>\n",
              "      <td>0.0</td>\n",
              "      <td>0.0</td>\n",
              "      <td>1.0</td>\n",
              "    </tr>\n",
              "    <tr>\n",
              "      <th>23489</th>\n",
              "      <td>3</td>\n",
              "      <td>1</td>\n",
              "      <td>3</td>\n",
              "      <td>40</td>\n",
              "      <td>5.0</td>\n",
              "      <td>5</td>\n",
              "      <td>0</td>\n",
              "      <td>89</td>\n",
              "      <td>0.0</td>\n",
              "      <td>0.0</td>\n",
              "      <td>0.0</td>\n",
              "      <td>0.0</td>\n",
              "      <td>0.0</td>\n",
              "      <td>0.0</td>\n",
              "      <td>0.0</td>\n",
              "      <td>0.0</td>\n",
              "      <td>1.0</td>\n",
              "      <td>1.0</td>\n",
              "      <td>0.0</td>\n",
              "      <td>0.0</td>\n",
              "    </tr>\n",
              "  </tbody>\n",
              "</table>\n",
              "<p>23490 rows × 20 columns</p>\n",
              "</div>"
            ],
            "text/plain": [
              "       education  gender  no_of_trainings  age  previous_year_rating  \\\n",
              "0              2       1                1   24                   3.0   \n",
              "1              2       0                1   31                   3.0   \n",
              "2              2       1                1   31                   1.0   \n",
              "3              2       0                3   31                   2.0   \n",
              "4              2       1                1   30                   4.0   \n",
              "...          ...     ...              ...  ...                   ...   \n",
              "23485          1       1                1   24                   3.0   \n",
              "23486          2       1                1   31                   3.0   \n",
              "23487          2       0                1   26                   4.0   \n",
              "23488          2       1                3   27                   3.0   \n",
              "23489          3       1                3   40                   5.0   \n",
              "\n",
              "       length_of_service  awards_won?  avg_training_score  (Analytics,)  \\\n",
              "0                      1            0                  77           0.0   \n",
              "1                      5            0                  51           0.0   \n",
              "2                      4            0                  47           0.0   \n",
              "3                      9            0                  65           0.0   \n",
              "4                      7            0                  61           0.0   \n",
              "...                  ...          ...                 ...           ...   \n",
              "23485                  1            0                  61           0.0   \n",
              "23486                  7            0                  74           0.0   \n",
              "23487                  4            0                  50           0.0   \n",
              "23488                  1            0                  70           0.0   \n",
              "23489                  5            0                  89           0.0   \n",
              "\n",
              "       (Finance,)  (HR,)  (Legal,)  (Operations,)  (Procurement,)  (R&D,)  \\\n",
              "0             0.0    0.0       0.0            0.0             0.0     0.0   \n",
              "1             0.0    1.0       0.0            0.0             0.0     0.0   \n",
              "2             0.0    0.0       0.0            0.0             0.0     0.0   \n",
              "3             0.0    0.0       0.0            0.0             1.0     0.0   \n",
              "4             1.0    0.0       0.0            0.0             0.0     0.0   \n",
              "...           ...    ...       ...            ...             ...     ...   \n",
              "23485         0.0    0.0       1.0            0.0             0.0     0.0   \n",
              "23486         0.0    0.0       0.0            0.0             0.0     0.0   \n",
              "23487         0.0    1.0       0.0            0.0             0.0     0.0   \n",
              "23488         0.0    0.0       0.0            0.0             1.0     0.0   \n",
              "23489         0.0    0.0       0.0            0.0             0.0     0.0   \n",
              "\n",
              "       (Sales & Marketing,)  (Technology,)  (other,)  (referred,)  (sourcing,)  \n",
              "0                       0.0            1.0       0.0          0.0          1.0  \n",
              "1                       0.0            0.0       1.0          0.0          0.0  \n",
              "2                       1.0            0.0       1.0          0.0          0.0  \n",
              "3                       0.0            0.0       1.0          0.0          0.0  \n",
              "4                       0.0            0.0       0.0          0.0          1.0  \n",
              "...                     ...            ...       ...          ...          ...  \n",
              "23485                   0.0            0.0       0.0          0.0          1.0  \n",
              "23486                   0.0            1.0       0.0          0.0          1.0  \n",
              "23487                   0.0            0.0       0.0          0.0          1.0  \n",
              "23488                   0.0            0.0       0.0          0.0          1.0  \n",
              "23489                   0.0            1.0       1.0          0.0          0.0  \n",
              "\n",
              "[23490 rows x 20 columns]"
            ]
          },
          "execution_count": 26,
          "metadata": {},
          "output_type": "execute_result"
        }
      ],
      "source": [
        "test.drop('recruitment_channel', axis=1, inplace=True)\n",
        "test"
      ]
    },
    {
      "cell_type": "markdown",
      "metadata": {
        "id": "lYzJQrQAGfw0"
      },
      "source": [
        "#Data Train preprocessing"
      ]
    },
    {
      "cell_type": "code",
      "execution_count": 27,
      "metadata": {
        "colab": {
          "base_uri": "https://localhost:8080/",
          "height": 478
        },
        "id": "SesUlbBBFC1v",
        "outputId": "46a13b32-d014-4127-acc0-fb32a6d159c5"
      },
      "outputs": [
        {
          "name": "stderr",
          "output_type": "stream",
          "text": [
            "C:\\Users\\HP\\AppData\\Local\\Temp\\ipykernel_13664\\403363956.py:3: FutureWarning: In a future version of pandas all arguments of DataFrame.drop except for the argument 'labels' will be keyword-only.\n",
            "  X= train.drop(['employee_id','region', 'is_promoted'],1)\n"
          ]
        },
        {
          "data": {
            "text/html": [
              "<div>\n",
              "<style scoped>\n",
              "    .dataframe tbody tr th:only-of-type {\n",
              "        vertical-align: middle;\n",
              "    }\n",
              "\n",
              "    .dataframe tbody tr th {\n",
              "        vertical-align: top;\n",
              "    }\n",
              "\n",
              "    .dataframe thead th {\n",
              "        text-align: right;\n",
              "    }\n",
              "</style>\n",
              "<table border=\"1\" class=\"dataframe\">\n",
              "  <thead>\n",
              "    <tr style=\"text-align: right;\">\n",
              "      <th></th>\n",
              "      <th>department</th>\n",
              "      <th>education</th>\n",
              "      <th>gender</th>\n",
              "      <th>recruitment_channel</th>\n",
              "      <th>no_of_trainings</th>\n",
              "      <th>age</th>\n",
              "      <th>previous_year_rating</th>\n",
              "      <th>length_of_service</th>\n",
              "      <th>awards_won?</th>\n",
              "      <th>avg_training_score</th>\n",
              "    </tr>\n",
              "  </thead>\n",
              "  <tbody>\n",
              "    <tr>\n",
              "      <th>0</th>\n",
              "      <td>Sales &amp; Marketing</td>\n",
              "      <td>Master's &amp; above</td>\n",
              "      <td>f</td>\n",
              "      <td>sourcing</td>\n",
              "      <td>1</td>\n",
              "      <td>35</td>\n",
              "      <td>5.0</td>\n",
              "      <td>8</td>\n",
              "      <td>0</td>\n",
              "      <td>49</td>\n",
              "    </tr>\n",
              "    <tr>\n",
              "      <th>1</th>\n",
              "      <td>Operations</td>\n",
              "      <td>Bachelor's</td>\n",
              "      <td>m</td>\n",
              "      <td>other</td>\n",
              "      <td>1</td>\n",
              "      <td>30</td>\n",
              "      <td>5.0</td>\n",
              "      <td>4</td>\n",
              "      <td>0</td>\n",
              "      <td>60</td>\n",
              "    </tr>\n",
              "    <tr>\n",
              "      <th>2</th>\n",
              "      <td>Sales &amp; Marketing</td>\n",
              "      <td>Bachelor's</td>\n",
              "      <td>m</td>\n",
              "      <td>sourcing</td>\n",
              "      <td>1</td>\n",
              "      <td>34</td>\n",
              "      <td>3.0</td>\n",
              "      <td>7</td>\n",
              "      <td>0</td>\n",
              "      <td>50</td>\n",
              "    </tr>\n",
              "    <tr>\n",
              "      <th>3</th>\n",
              "      <td>Sales &amp; Marketing</td>\n",
              "      <td>Bachelor's</td>\n",
              "      <td>m</td>\n",
              "      <td>other</td>\n",
              "      <td>2</td>\n",
              "      <td>39</td>\n",
              "      <td>1.0</td>\n",
              "      <td>10</td>\n",
              "      <td>0</td>\n",
              "      <td>50</td>\n",
              "    </tr>\n",
              "    <tr>\n",
              "      <th>4</th>\n",
              "      <td>Technology</td>\n",
              "      <td>Bachelor's</td>\n",
              "      <td>m</td>\n",
              "      <td>other</td>\n",
              "      <td>1</td>\n",
              "      <td>45</td>\n",
              "      <td>3.0</td>\n",
              "      <td>2</td>\n",
              "      <td>0</td>\n",
              "      <td>73</td>\n",
              "    </tr>\n",
              "    <tr>\n",
              "      <th>...</th>\n",
              "      <td>...</td>\n",
              "      <td>...</td>\n",
              "      <td>...</td>\n",
              "      <td>...</td>\n",
              "      <td>...</td>\n",
              "      <td>...</td>\n",
              "      <td>...</td>\n",
              "      <td>...</td>\n",
              "      <td>...</td>\n",
              "      <td>...</td>\n",
              "    </tr>\n",
              "    <tr>\n",
              "      <th>54803</th>\n",
              "      <td>Technology</td>\n",
              "      <td>Bachelor's</td>\n",
              "      <td>m</td>\n",
              "      <td>sourcing</td>\n",
              "      <td>1</td>\n",
              "      <td>48</td>\n",
              "      <td>3.0</td>\n",
              "      <td>17</td>\n",
              "      <td>0</td>\n",
              "      <td>78</td>\n",
              "    </tr>\n",
              "    <tr>\n",
              "      <th>54804</th>\n",
              "      <td>Operations</td>\n",
              "      <td>Master's &amp; above</td>\n",
              "      <td>f</td>\n",
              "      <td>other</td>\n",
              "      <td>1</td>\n",
              "      <td>37</td>\n",
              "      <td>2.0</td>\n",
              "      <td>6</td>\n",
              "      <td>0</td>\n",
              "      <td>56</td>\n",
              "    </tr>\n",
              "    <tr>\n",
              "      <th>54805</th>\n",
              "      <td>Analytics</td>\n",
              "      <td>Bachelor's</td>\n",
              "      <td>m</td>\n",
              "      <td>other</td>\n",
              "      <td>1</td>\n",
              "      <td>27</td>\n",
              "      <td>5.0</td>\n",
              "      <td>3</td>\n",
              "      <td>0</td>\n",
              "      <td>79</td>\n",
              "    </tr>\n",
              "    <tr>\n",
              "      <th>54806</th>\n",
              "      <td>Sales &amp; Marketing</td>\n",
              "      <td>NaN</td>\n",
              "      <td>m</td>\n",
              "      <td>sourcing</td>\n",
              "      <td>1</td>\n",
              "      <td>29</td>\n",
              "      <td>1.0</td>\n",
              "      <td>2</td>\n",
              "      <td>0</td>\n",
              "      <td>45</td>\n",
              "    </tr>\n",
              "    <tr>\n",
              "      <th>54807</th>\n",
              "      <td>HR</td>\n",
              "      <td>Bachelor's</td>\n",
              "      <td>m</td>\n",
              "      <td>other</td>\n",
              "      <td>1</td>\n",
              "      <td>27</td>\n",
              "      <td>1.0</td>\n",
              "      <td>5</td>\n",
              "      <td>0</td>\n",
              "      <td>49</td>\n",
              "    </tr>\n",
              "  </tbody>\n",
              "</table>\n",
              "<p>54808 rows × 10 columns</p>\n",
              "</div>"
            ],
            "text/plain": [
              "              department         education gender recruitment_channel  \\\n",
              "0      Sales & Marketing  Master's & above      f            sourcing   \n",
              "1             Operations        Bachelor's      m               other   \n",
              "2      Sales & Marketing        Bachelor's      m            sourcing   \n",
              "3      Sales & Marketing        Bachelor's      m               other   \n",
              "4             Technology        Bachelor's      m               other   \n",
              "...                  ...               ...    ...                 ...   \n",
              "54803         Technology        Bachelor's      m            sourcing   \n",
              "54804         Operations  Master's & above      f               other   \n",
              "54805          Analytics        Bachelor's      m               other   \n",
              "54806  Sales & Marketing               NaN      m            sourcing   \n",
              "54807                 HR        Bachelor's      m               other   \n",
              "\n",
              "       no_of_trainings  age  previous_year_rating  length_of_service  \\\n",
              "0                    1   35                   5.0                  8   \n",
              "1                    1   30                   5.0                  4   \n",
              "2                    1   34                   3.0                  7   \n",
              "3                    2   39                   1.0                 10   \n",
              "4                    1   45                   3.0                  2   \n",
              "...                ...  ...                   ...                ...   \n",
              "54803                1   48                   3.0                 17   \n",
              "54804                1   37                   2.0                  6   \n",
              "54805                1   27                   5.0                  3   \n",
              "54806                1   29                   1.0                  2   \n",
              "54807                1   27                   1.0                  5   \n",
              "\n",
              "       awards_won?  avg_training_score  \n",
              "0                0                  49  \n",
              "1                0                  60  \n",
              "2                0                  50  \n",
              "3                0                  50  \n",
              "4                0                  73  \n",
              "...            ...                 ...  \n",
              "54803            0                  78  \n",
              "54804            0                  56  \n",
              "54805            0                  79  \n",
              "54806            0                  45  \n",
              "54807            0                  49  \n",
              "\n",
              "[54808 rows x 10 columns]"
            ]
          },
          "execution_count": 27,
          "metadata": {},
          "output_type": "execute_result"
        }
      ],
      "source": [
        "#Memisahkan kolom fitur dan target\n",
        "y= train['is_promoted']\n",
        "X= train.drop(['employee_id','region', 'is_promoted'],1)\n",
        "X"
      ]
    },
    {
      "cell_type": "code",
      "execution_count": 28,
      "metadata": {
        "colab": {
          "base_uri": "https://localhost:8080/"
        },
        "id": "fkLa7Zq4ILMB",
        "outputId": "a384e5c5-990e-4804-e3cd-5e416d5ad1cb"
      },
      "outputs": [
        {
          "data": {
            "text/plain": [
              "department                 0\n",
              "education               2409\n",
              "gender                     0\n",
              "recruitment_channel        0\n",
              "no_of_trainings            0\n",
              "age                        0\n",
              "previous_year_rating    4124\n",
              "length_of_service          0\n",
              "awards_won?                0\n",
              "avg_training_score         0\n",
              "dtype: int64"
            ]
          },
          "execution_count": 28,
          "metadata": {},
          "output_type": "execute_result"
        }
      ],
      "source": [
        "#Check nilai nan\n",
        "X.isna().sum()"
      ]
    },
    {
      "cell_type": "code",
      "execution_count": 29,
      "metadata": {
        "id": "hhU42mh7IeME"
      },
      "outputs": [],
      "source": [
        "#Mengisi nilai nan dengan \"other\"\n",
        "X['education'].fillna('Other', inplace=True)"
      ]
    },
    {
      "cell_type": "code",
      "execution_count": 30,
      "metadata": {
        "colab": {
          "base_uri": "https://localhost:8080/"
        },
        "id": "oBKi454eJ6de",
        "outputId": "3ddc59bb-b820-47f7-f2b9-a37cbda1d008"
      },
      "outputs": [
        {
          "data": {
            "text/plain": [
              "array([\"Master's & above\", \"Bachelor's\", 'Other', 'Below Secondary'],\n",
              "      dtype=object)"
            ]
          },
          "execution_count": 30,
          "metadata": {},
          "output_type": "execute_result"
        }
      ],
      "source": [
        "X['education'].unique()"
      ]
    },
    {
      "cell_type": "code",
      "execution_count": 31,
      "metadata": {
        "colab": {
          "base_uri": "https://localhost:8080/"
        },
        "id": "gwb1FM63QYfU",
        "outputId": "34cd2e77-3936-4401-9a49-b3442ef8cd5a"
      },
      "outputs": [
        {
          "data": {
            "text/plain": [
              "3.0"
            ]
          },
          "execution_count": 31,
          "metadata": {},
          "output_type": "execute_result"
        }
      ],
      "source": [
        "#Mengisi nilai Nan di previous_year_rating dengan median\n",
        "X['previous_year_rating'].median()"
      ]
    },
    {
      "cell_type": "code",
      "execution_count": 32,
      "metadata": {
        "colab": {
          "base_uri": "https://localhost:8080/"
        },
        "id": "aM_OVJ3yOcBU",
        "outputId": "ca6a253a-ba16-4e97-a4a5-20d18f69ce51"
      },
      "outputs": [
        {
          "data": {
            "text/plain": [
              "0        5.0\n",
              "1        5.0\n",
              "2        3.0\n",
              "3        1.0\n",
              "4        3.0\n",
              "        ... \n",
              "54803    3.0\n",
              "54804    2.0\n",
              "54805    5.0\n",
              "54806    1.0\n",
              "54807    1.0\n",
              "Name: previous_year_rating, Length: 54808, dtype: float64"
            ]
          },
          "execution_count": 32,
          "metadata": {},
          "output_type": "execute_result"
        }
      ],
      "source": [
        "X['previous_year_rating'].fillna(3.000, inplace=True)\n",
        "X['previous_year_rating']"
      ]
    },
    {
      "cell_type": "code",
      "execution_count": 33,
      "metadata": {
        "colab": {
          "base_uri": "https://localhost:8080/"
        },
        "id": "Fcs6DcwMQeeh",
        "outputId": "e6bcf614-cd7e-4752-ed95-4601fbd40452"
      },
      "outputs": [
        {
          "data": {
            "text/plain": [
              "department              0\n",
              "education               0\n",
              "gender                  0\n",
              "recruitment_channel     0\n",
              "no_of_trainings         0\n",
              "age                     0\n",
              "previous_year_rating    0\n",
              "length_of_service       0\n",
              "awards_won?             0\n",
              "avg_training_score      0\n",
              "dtype: int64"
            ]
          },
          "execution_count": 33,
          "metadata": {},
          "output_type": "execute_result"
        }
      ],
      "source": [
        "X.isna().sum()"
      ]
    },
    {
      "cell_type": "markdown",
      "metadata": {
        "id": "My6riRWV205H"
      },
      "source": [
        "##Label encoding train"
      ]
    },
    {
      "cell_type": "code",
      "execution_count": 34,
      "metadata": {
        "colab": {
          "base_uri": "https://localhost:8080/"
        },
        "id": "UWsN9_tqSeCm",
        "outputId": "d3e1b73c-5724-41e9-dec0-25405a7a247a"
      },
      "outputs": [
        {
          "data": {
            "text/plain": [
              "0        3\n",
              "1        2\n",
              "2        2\n",
              "3        2\n",
              "4        2\n",
              "        ..\n",
              "54803    2\n",
              "54804    3\n",
              "54805    2\n",
              "54806    0\n",
              "54807    2\n",
              "Name: education, Length: 54808, dtype: int64"
            ]
          },
          "execution_count": 34,
          "metadata": {},
          "output_type": "execute_result"
        }
      ],
      "source": [
        "#Label encoding pada kolom education\n",
        "X['education'] = X['education'].replace({\"Master's & above\":3, \"Bachelor's\":2, 'Below Secondary':1, 'Other':0})\n",
        "X['education']"
      ]
    },
    {
      "cell_type": "code",
      "execution_count": 35,
      "metadata": {
        "colab": {
          "base_uri": "https://localhost:8080/"
        },
        "id": "lqM6WBm9SmEL",
        "outputId": "6f1b6357-442e-4b6a-cce2-a87839bbee4a"
      },
      "outputs": [
        {
          "data": {
            "text/plain": [
              "0        0\n",
              "1        1\n",
              "2        1\n",
              "3        1\n",
              "4        1\n",
              "        ..\n",
              "54803    1\n",
              "54804    0\n",
              "54805    1\n",
              "54806    1\n",
              "54807    1\n",
              "Name: gender, Length: 54808, dtype: int64"
            ]
          },
          "execution_count": 35,
          "metadata": {},
          "output_type": "execute_result"
        }
      ],
      "source": [
        "#Label encoding pada kolom gender\n",
        "X['gender'] = X['gender'].replace({'f':0, 'm':1})\n",
        "X['gender']"
      ]
    },
    {
      "cell_type": "code",
      "execution_count": 36,
      "metadata": {
        "colab": {
          "base_uri": "https://localhost:8080/"
        },
        "id": "KhPi9GoBbCFE",
        "outputId": "1e467122-441d-4696-ebdf-c87fb020c94d"
      },
      "outputs": [
        {
          "data": {
            "text/plain": [
              "array(['sourcing', 'other', 'referred'], dtype=object)"
            ]
          },
          "execution_count": 36,
          "metadata": {},
          "output_type": "execute_result"
        }
      ],
      "source": [
        "X['recruitment_channel'].unique()"
      ]
    },
    {
      "cell_type": "markdown",
      "metadata": {
        "id": "6xR2XIHY246L"
      },
      "source": [
        "##Onehot encoding train"
      ]
    },
    {
      "cell_type": "code",
      "execution_count": 37,
      "metadata": {
        "colab": {
          "base_uri": "https://localhost:8080/"
        },
        "id": "dcq86av6XKJE",
        "outputId": "b114c58a-7c89-4427-a5ac-f16e89dfe5b4"
      },
      "outputs": [
        {
          "data": {
            "text/plain": [
              "[array(['Analytics', 'Finance', 'HR', 'Legal', 'Operations', 'Procurement',\n",
              "        'R&D', 'Sales & Marketing', 'Technology'], dtype=object)]"
            ]
          },
          "execution_count": 37,
          "metadata": {},
          "output_type": "execute_result"
        }
      ],
      "source": [
        "#Onehot encoding terhadap kolom departement\n",
        "ohe = OneHotEncoder(sparse=False)\n",
        "feature_array=ohe.fit_transform(X[['department']])\n",
        "feature_labels=ohe.categories_\n",
        "ohe.categories_"
      ]
    },
    {
      "cell_type": "code",
      "execution_count": 38,
      "metadata": {
        "colab": {
          "base_uri": "https://localhost:8080/"
        },
        "id": "eM7gZjTNZ1V2",
        "outputId": "21fe5270-d0da-45f0-f086-7f6f3f81b190"
      },
      "outputs": [
        {
          "data": {
            "text/plain": [
              "array(['Analytics', 'Finance', 'HR', 'Legal', 'Operations', 'Procurement',\n",
              "       'R&D', 'Sales & Marketing', 'Technology'], dtype=object)"
            ]
          },
          "execution_count": 38,
          "metadata": {},
          "output_type": "execute_result"
        }
      ],
      "source": [
        "np.array(feature_labels).ravel()"
      ]
    },
    {
      "cell_type": "code",
      "execution_count": 39,
      "metadata": {
        "id": "xMEr3IqkaL74"
      },
      "outputs": [],
      "source": [
        "feature=pd.DataFrame(feature_array, columns= feature_labels)"
      ]
    },
    {
      "cell_type": "code",
      "execution_count": 40,
      "metadata": {
        "id": "nBphkdinanj9"
      },
      "outputs": [],
      "source": [
        "X= pd.concat([X, feature], axis=1)"
      ]
    },
    {
      "cell_type": "code",
      "execution_count": 41,
      "metadata": {
        "colab": {
          "base_uri": "https://localhost:8080/",
          "height": 505
        },
        "id": "gHo0-5KbarvJ",
        "outputId": "48f266ba-89bb-4378-ca9e-856ec1118eb2"
      },
      "outputs": [
        {
          "data": {
            "text/html": [
              "<div>\n",
              "<style scoped>\n",
              "    .dataframe tbody tr th:only-of-type {\n",
              "        vertical-align: middle;\n",
              "    }\n",
              "\n",
              "    .dataframe tbody tr th {\n",
              "        vertical-align: top;\n",
              "    }\n",
              "\n",
              "    .dataframe thead th {\n",
              "        text-align: right;\n",
              "    }\n",
              "</style>\n",
              "<table border=\"1\" class=\"dataframe\">\n",
              "  <thead>\n",
              "    <tr style=\"text-align: right;\">\n",
              "      <th></th>\n",
              "      <th>education</th>\n",
              "      <th>gender</th>\n",
              "      <th>recruitment_channel</th>\n",
              "      <th>no_of_trainings</th>\n",
              "      <th>age</th>\n",
              "      <th>previous_year_rating</th>\n",
              "      <th>length_of_service</th>\n",
              "      <th>awards_won?</th>\n",
              "      <th>avg_training_score</th>\n",
              "      <th>(Analytics,)</th>\n",
              "      <th>(Finance,)</th>\n",
              "      <th>(HR,)</th>\n",
              "      <th>(Legal,)</th>\n",
              "      <th>(Operations,)</th>\n",
              "      <th>(Procurement,)</th>\n",
              "      <th>(R&amp;D,)</th>\n",
              "      <th>(Sales &amp; Marketing,)</th>\n",
              "      <th>(Technology,)</th>\n",
              "    </tr>\n",
              "  </thead>\n",
              "  <tbody>\n",
              "    <tr>\n",
              "      <th>0</th>\n",
              "      <td>3</td>\n",
              "      <td>0</td>\n",
              "      <td>sourcing</td>\n",
              "      <td>1</td>\n",
              "      <td>35</td>\n",
              "      <td>5.0</td>\n",
              "      <td>8</td>\n",
              "      <td>0</td>\n",
              "      <td>49</td>\n",
              "      <td>0.0</td>\n",
              "      <td>0.0</td>\n",
              "      <td>0.0</td>\n",
              "      <td>0.0</td>\n",
              "      <td>0.0</td>\n",
              "      <td>0.0</td>\n",
              "      <td>0.0</td>\n",
              "      <td>1.0</td>\n",
              "      <td>0.0</td>\n",
              "    </tr>\n",
              "    <tr>\n",
              "      <th>1</th>\n",
              "      <td>2</td>\n",
              "      <td>1</td>\n",
              "      <td>other</td>\n",
              "      <td>1</td>\n",
              "      <td>30</td>\n",
              "      <td>5.0</td>\n",
              "      <td>4</td>\n",
              "      <td>0</td>\n",
              "      <td>60</td>\n",
              "      <td>0.0</td>\n",
              "      <td>0.0</td>\n",
              "      <td>0.0</td>\n",
              "      <td>0.0</td>\n",
              "      <td>1.0</td>\n",
              "      <td>0.0</td>\n",
              "      <td>0.0</td>\n",
              "      <td>0.0</td>\n",
              "      <td>0.0</td>\n",
              "    </tr>\n",
              "    <tr>\n",
              "      <th>2</th>\n",
              "      <td>2</td>\n",
              "      <td>1</td>\n",
              "      <td>sourcing</td>\n",
              "      <td>1</td>\n",
              "      <td>34</td>\n",
              "      <td>3.0</td>\n",
              "      <td>7</td>\n",
              "      <td>0</td>\n",
              "      <td>50</td>\n",
              "      <td>0.0</td>\n",
              "      <td>0.0</td>\n",
              "      <td>0.0</td>\n",
              "      <td>0.0</td>\n",
              "      <td>0.0</td>\n",
              "      <td>0.0</td>\n",
              "      <td>0.0</td>\n",
              "      <td>1.0</td>\n",
              "      <td>0.0</td>\n",
              "    </tr>\n",
              "    <tr>\n",
              "      <th>3</th>\n",
              "      <td>2</td>\n",
              "      <td>1</td>\n",
              "      <td>other</td>\n",
              "      <td>2</td>\n",
              "      <td>39</td>\n",
              "      <td>1.0</td>\n",
              "      <td>10</td>\n",
              "      <td>0</td>\n",
              "      <td>50</td>\n",
              "      <td>0.0</td>\n",
              "      <td>0.0</td>\n",
              "      <td>0.0</td>\n",
              "      <td>0.0</td>\n",
              "      <td>0.0</td>\n",
              "      <td>0.0</td>\n",
              "      <td>0.0</td>\n",
              "      <td>1.0</td>\n",
              "      <td>0.0</td>\n",
              "    </tr>\n",
              "    <tr>\n",
              "      <th>4</th>\n",
              "      <td>2</td>\n",
              "      <td>1</td>\n",
              "      <td>other</td>\n",
              "      <td>1</td>\n",
              "      <td>45</td>\n",
              "      <td>3.0</td>\n",
              "      <td>2</td>\n",
              "      <td>0</td>\n",
              "      <td>73</td>\n",
              "      <td>0.0</td>\n",
              "      <td>0.0</td>\n",
              "      <td>0.0</td>\n",
              "      <td>0.0</td>\n",
              "      <td>0.0</td>\n",
              "      <td>0.0</td>\n",
              "      <td>0.0</td>\n",
              "      <td>0.0</td>\n",
              "      <td>1.0</td>\n",
              "    </tr>\n",
              "    <tr>\n",
              "      <th>...</th>\n",
              "      <td>...</td>\n",
              "      <td>...</td>\n",
              "      <td>...</td>\n",
              "      <td>...</td>\n",
              "      <td>...</td>\n",
              "      <td>...</td>\n",
              "      <td>...</td>\n",
              "      <td>...</td>\n",
              "      <td>...</td>\n",
              "      <td>...</td>\n",
              "      <td>...</td>\n",
              "      <td>...</td>\n",
              "      <td>...</td>\n",
              "      <td>...</td>\n",
              "      <td>...</td>\n",
              "      <td>...</td>\n",
              "      <td>...</td>\n",
              "      <td>...</td>\n",
              "    </tr>\n",
              "    <tr>\n",
              "      <th>54803</th>\n",
              "      <td>2</td>\n",
              "      <td>1</td>\n",
              "      <td>sourcing</td>\n",
              "      <td>1</td>\n",
              "      <td>48</td>\n",
              "      <td>3.0</td>\n",
              "      <td>17</td>\n",
              "      <td>0</td>\n",
              "      <td>78</td>\n",
              "      <td>0.0</td>\n",
              "      <td>0.0</td>\n",
              "      <td>0.0</td>\n",
              "      <td>0.0</td>\n",
              "      <td>0.0</td>\n",
              "      <td>0.0</td>\n",
              "      <td>0.0</td>\n",
              "      <td>0.0</td>\n",
              "      <td>1.0</td>\n",
              "    </tr>\n",
              "    <tr>\n",
              "      <th>54804</th>\n",
              "      <td>3</td>\n",
              "      <td>0</td>\n",
              "      <td>other</td>\n",
              "      <td>1</td>\n",
              "      <td>37</td>\n",
              "      <td>2.0</td>\n",
              "      <td>6</td>\n",
              "      <td>0</td>\n",
              "      <td>56</td>\n",
              "      <td>0.0</td>\n",
              "      <td>0.0</td>\n",
              "      <td>0.0</td>\n",
              "      <td>0.0</td>\n",
              "      <td>1.0</td>\n",
              "      <td>0.0</td>\n",
              "      <td>0.0</td>\n",
              "      <td>0.0</td>\n",
              "      <td>0.0</td>\n",
              "    </tr>\n",
              "    <tr>\n",
              "      <th>54805</th>\n",
              "      <td>2</td>\n",
              "      <td>1</td>\n",
              "      <td>other</td>\n",
              "      <td>1</td>\n",
              "      <td>27</td>\n",
              "      <td>5.0</td>\n",
              "      <td>3</td>\n",
              "      <td>0</td>\n",
              "      <td>79</td>\n",
              "      <td>1.0</td>\n",
              "      <td>0.0</td>\n",
              "      <td>0.0</td>\n",
              "      <td>0.0</td>\n",
              "      <td>0.0</td>\n",
              "      <td>0.0</td>\n",
              "      <td>0.0</td>\n",
              "      <td>0.0</td>\n",
              "      <td>0.0</td>\n",
              "    </tr>\n",
              "    <tr>\n",
              "      <th>54806</th>\n",
              "      <td>0</td>\n",
              "      <td>1</td>\n",
              "      <td>sourcing</td>\n",
              "      <td>1</td>\n",
              "      <td>29</td>\n",
              "      <td>1.0</td>\n",
              "      <td>2</td>\n",
              "      <td>0</td>\n",
              "      <td>45</td>\n",
              "      <td>0.0</td>\n",
              "      <td>0.0</td>\n",
              "      <td>0.0</td>\n",
              "      <td>0.0</td>\n",
              "      <td>0.0</td>\n",
              "      <td>0.0</td>\n",
              "      <td>0.0</td>\n",
              "      <td>1.0</td>\n",
              "      <td>0.0</td>\n",
              "    </tr>\n",
              "    <tr>\n",
              "      <th>54807</th>\n",
              "      <td>2</td>\n",
              "      <td>1</td>\n",
              "      <td>other</td>\n",
              "      <td>1</td>\n",
              "      <td>27</td>\n",
              "      <td>1.0</td>\n",
              "      <td>5</td>\n",
              "      <td>0</td>\n",
              "      <td>49</td>\n",
              "      <td>0.0</td>\n",
              "      <td>0.0</td>\n",
              "      <td>1.0</td>\n",
              "      <td>0.0</td>\n",
              "      <td>0.0</td>\n",
              "      <td>0.0</td>\n",
              "      <td>0.0</td>\n",
              "      <td>0.0</td>\n",
              "      <td>0.0</td>\n",
              "    </tr>\n",
              "  </tbody>\n",
              "</table>\n",
              "<p>54808 rows × 18 columns</p>\n",
              "</div>"
            ],
            "text/plain": [
              "       education  gender recruitment_channel  no_of_trainings  age  \\\n",
              "0              3       0            sourcing                1   35   \n",
              "1              2       1               other                1   30   \n",
              "2              2       1            sourcing                1   34   \n",
              "3              2       1               other                2   39   \n",
              "4              2       1               other                1   45   \n",
              "...          ...     ...                 ...              ...  ...   \n",
              "54803          2       1            sourcing                1   48   \n",
              "54804          3       0               other                1   37   \n",
              "54805          2       1               other                1   27   \n",
              "54806          0       1            sourcing                1   29   \n",
              "54807          2       1               other                1   27   \n",
              "\n",
              "       previous_year_rating  length_of_service  awards_won?  \\\n",
              "0                       5.0                  8            0   \n",
              "1                       5.0                  4            0   \n",
              "2                       3.0                  7            0   \n",
              "3                       1.0                 10            0   \n",
              "4                       3.0                  2            0   \n",
              "...                     ...                ...          ...   \n",
              "54803                   3.0                 17            0   \n",
              "54804                   2.0                  6            0   \n",
              "54805                   5.0                  3            0   \n",
              "54806                   1.0                  2            0   \n",
              "54807                   1.0                  5            0   \n",
              "\n",
              "       avg_training_score  (Analytics,)  (Finance,)  (HR,)  (Legal,)  \\\n",
              "0                      49           0.0         0.0    0.0       0.0   \n",
              "1                      60           0.0         0.0    0.0       0.0   \n",
              "2                      50           0.0         0.0    0.0       0.0   \n",
              "3                      50           0.0         0.0    0.0       0.0   \n",
              "4                      73           0.0         0.0    0.0       0.0   \n",
              "...                   ...           ...         ...    ...       ...   \n",
              "54803                  78           0.0         0.0    0.0       0.0   \n",
              "54804                  56           0.0         0.0    0.0       0.0   \n",
              "54805                  79           1.0         0.0    0.0       0.0   \n",
              "54806                  45           0.0         0.0    0.0       0.0   \n",
              "54807                  49           0.0         0.0    1.0       0.0   \n",
              "\n",
              "       (Operations,)  (Procurement,)  (R&D,)  (Sales & Marketing,)  \\\n",
              "0                0.0             0.0     0.0                   1.0   \n",
              "1                1.0             0.0     0.0                   0.0   \n",
              "2                0.0             0.0     0.0                   1.0   \n",
              "3                0.0             0.0     0.0                   1.0   \n",
              "4                0.0             0.0     0.0                   0.0   \n",
              "...              ...             ...     ...                   ...   \n",
              "54803            0.0             0.0     0.0                   0.0   \n",
              "54804            1.0             0.0     0.0                   0.0   \n",
              "54805            0.0             0.0     0.0                   0.0   \n",
              "54806            0.0             0.0     0.0                   1.0   \n",
              "54807            0.0             0.0     0.0                   0.0   \n",
              "\n",
              "       (Technology,)  \n",
              "0                0.0  \n",
              "1                0.0  \n",
              "2                0.0  \n",
              "3                0.0  \n",
              "4                1.0  \n",
              "...              ...  \n",
              "54803            1.0  \n",
              "54804            0.0  \n",
              "54805            0.0  \n",
              "54806            0.0  \n",
              "54807            0.0  \n",
              "\n",
              "[54808 rows x 18 columns]"
            ]
          },
          "execution_count": 41,
          "metadata": {},
          "output_type": "execute_result"
        }
      ],
      "source": [
        "X.drop('department', axis=1, inplace=True)\n",
        "X"
      ]
    },
    {
      "cell_type": "code",
      "execution_count": 42,
      "metadata": {
        "colab": {
          "base_uri": "https://localhost:8080/"
        },
        "id": "tHxmHNKJc-7D",
        "outputId": "9e9a9620-8a4b-4ff2-d0fc-e054b382e350"
      },
      "outputs": [
        {
          "data": {
            "text/plain": [
              "[array(['other', 'referred', 'sourcing'], dtype=object)]"
            ]
          },
          "execution_count": 42,
          "metadata": {},
          "output_type": "execute_result"
        }
      ],
      "source": [
        "#Onehot encoding terhadap kolom recruitment_channel\n",
        "feature_array1=ohe.fit_transform(X[['recruitment_channel']])\n",
        "feature_labels1=ohe.categories_\n",
        "ohe.categories_"
      ]
    },
    {
      "cell_type": "code",
      "execution_count": 43,
      "metadata": {
        "colab": {
          "base_uri": "https://localhost:8080/"
        },
        "id": "ZBuPZJPXdKxK",
        "outputId": "8f1c11b8-c219-4a76-c98d-bb5fa68dbec1"
      },
      "outputs": [
        {
          "data": {
            "text/plain": [
              "array(['other', 'referred', 'sourcing'], dtype=object)"
            ]
          },
          "execution_count": 43,
          "metadata": {},
          "output_type": "execute_result"
        }
      ],
      "source": [
        "np.array(feature_labels1).ravel()"
      ]
    },
    {
      "cell_type": "code",
      "execution_count": 44,
      "metadata": {
        "id": "6Uz1c2TcdTOx"
      },
      "outputs": [],
      "source": [
        "feature1=pd.DataFrame(feature_array1, columns= feature_labels1)\n",
        "X= pd.concat([X, feature1], axis=1)"
      ]
    },
    {
      "cell_type": "code",
      "execution_count": 45,
      "metadata": {
        "colab": {
          "base_uri": "https://localhost:8080/",
          "height": 505
        },
        "id": "jJyQgaAFdgEE",
        "outputId": "d45aba6e-2e9d-463f-83a0-229e62a20f3a"
      },
      "outputs": [
        {
          "data": {
            "text/html": [
              "<div>\n",
              "<style scoped>\n",
              "    .dataframe tbody tr th:only-of-type {\n",
              "        vertical-align: middle;\n",
              "    }\n",
              "\n",
              "    .dataframe tbody tr th {\n",
              "        vertical-align: top;\n",
              "    }\n",
              "\n",
              "    .dataframe thead th {\n",
              "        text-align: right;\n",
              "    }\n",
              "</style>\n",
              "<table border=\"1\" class=\"dataframe\">\n",
              "  <thead>\n",
              "    <tr style=\"text-align: right;\">\n",
              "      <th></th>\n",
              "      <th>education</th>\n",
              "      <th>gender</th>\n",
              "      <th>no_of_trainings</th>\n",
              "      <th>age</th>\n",
              "      <th>previous_year_rating</th>\n",
              "      <th>length_of_service</th>\n",
              "      <th>awards_won?</th>\n",
              "      <th>avg_training_score</th>\n",
              "      <th>(Analytics,)</th>\n",
              "      <th>(Finance,)</th>\n",
              "      <th>(HR,)</th>\n",
              "      <th>(Legal,)</th>\n",
              "      <th>(Operations,)</th>\n",
              "      <th>(Procurement,)</th>\n",
              "      <th>(R&amp;D,)</th>\n",
              "      <th>(Sales &amp; Marketing,)</th>\n",
              "      <th>(Technology,)</th>\n",
              "      <th>(other,)</th>\n",
              "      <th>(referred,)</th>\n",
              "      <th>(sourcing,)</th>\n",
              "    </tr>\n",
              "  </thead>\n",
              "  <tbody>\n",
              "    <tr>\n",
              "      <th>0</th>\n",
              "      <td>3</td>\n",
              "      <td>0</td>\n",
              "      <td>1</td>\n",
              "      <td>35</td>\n",
              "      <td>5.0</td>\n",
              "      <td>8</td>\n",
              "      <td>0</td>\n",
              "      <td>49</td>\n",
              "      <td>0.0</td>\n",
              "      <td>0.0</td>\n",
              "      <td>0.0</td>\n",
              "      <td>0.0</td>\n",
              "      <td>0.0</td>\n",
              "      <td>0.0</td>\n",
              "      <td>0.0</td>\n",
              "      <td>1.0</td>\n",
              "      <td>0.0</td>\n",
              "      <td>0.0</td>\n",
              "      <td>0.0</td>\n",
              "      <td>1.0</td>\n",
              "    </tr>\n",
              "    <tr>\n",
              "      <th>1</th>\n",
              "      <td>2</td>\n",
              "      <td>1</td>\n",
              "      <td>1</td>\n",
              "      <td>30</td>\n",
              "      <td>5.0</td>\n",
              "      <td>4</td>\n",
              "      <td>0</td>\n",
              "      <td>60</td>\n",
              "      <td>0.0</td>\n",
              "      <td>0.0</td>\n",
              "      <td>0.0</td>\n",
              "      <td>0.0</td>\n",
              "      <td>1.0</td>\n",
              "      <td>0.0</td>\n",
              "      <td>0.0</td>\n",
              "      <td>0.0</td>\n",
              "      <td>0.0</td>\n",
              "      <td>1.0</td>\n",
              "      <td>0.0</td>\n",
              "      <td>0.0</td>\n",
              "    </tr>\n",
              "    <tr>\n",
              "      <th>2</th>\n",
              "      <td>2</td>\n",
              "      <td>1</td>\n",
              "      <td>1</td>\n",
              "      <td>34</td>\n",
              "      <td>3.0</td>\n",
              "      <td>7</td>\n",
              "      <td>0</td>\n",
              "      <td>50</td>\n",
              "      <td>0.0</td>\n",
              "      <td>0.0</td>\n",
              "      <td>0.0</td>\n",
              "      <td>0.0</td>\n",
              "      <td>0.0</td>\n",
              "      <td>0.0</td>\n",
              "      <td>0.0</td>\n",
              "      <td>1.0</td>\n",
              "      <td>0.0</td>\n",
              "      <td>0.0</td>\n",
              "      <td>0.0</td>\n",
              "      <td>1.0</td>\n",
              "    </tr>\n",
              "    <tr>\n",
              "      <th>3</th>\n",
              "      <td>2</td>\n",
              "      <td>1</td>\n",
              "      <td>2</td>\n",
              "      <td>39</td>\n",
              "      <td>1.0</td>\n",
              "      <td>10</td>\n",
              "      <td>0</td>\n",
              "      <td>50</td>\n",
              "      <td>0.0</td>\n",
              "      <td>0.0</td>\n",
              "      <td>0.0</td>\n",
              "      <td>0.0</td>\n",
              "      <td>0.0</td>\n",
              "      <td>0.0</td>\n",
              "      <td>0.0</td>\n",
              "      <td>1.0</td>\n",
              "      <td>0.0</td>\n",
              "      <td>1.0</td>\n",
              "      <td>0.0</td>\n",
              "      <td>0.0</td>\n",
              "    </tr>\n",
              "    <tr>\n",
              "      <th>4</th>\n",
              "      <td>2</td>\n",
              "      <td>1</td>\n",
              "      <td>1</td>\n",
              "      <td>45</td>\n",
              "      <td>3.0</td>\n",
              "      <td>2</td>\n",
              "      <td>0</td>\n",
              "      <td>73</td>\n",
              "      <td>0.0</td>\n",
              "      <td>0.0</td>\n",
              "      <td>0.0</td>\n",
              "      <td>0.0</td>\n",
              "      <td>0.0</td>\n",
              "      <td>0.0</td>\n",
              "      <td>0.0</td>\n",
              "      <td>0.0</td>\n",
              "      <td>1.0</td>\n",
              "      <td>1.0</td>\n",
              "      <td>0.0</td>\n",
              "      <td>0.0</td>\n",
              "    </tr>\n",
              "    <tr>\n",
              "      <th>...</th>\n",
              "      <td>...</td>\n",
              "      <td>...</td>\n",
              "      <td>...</td>\n",
              "      <td>...</td>\n",
              "      <td>...</td>\n",
              "      <td>...</td>\n",
              "      <td>...</td>\n",
              "      <td>...</td>\n",
              "      <td>...</td>\n",
              "      <td>...</td>\n",
              "      <td>...</td>\n",
              "      <td>...</td>\n",
              "      <td>...</td>\n",
              "      <td>...</td>\n",
              "      <td>...</td>\n",
              "      <td>...</td>\n",
              "      <td>...</td>\n",
              "      <td>...</td>\n",
              "      <td>...</td>\n",
              "      <td>...</td>\n",
              "    </tr>\n",
              "    <tr>\n",
              "      <th>54803</th>\n",
              "      <td>2</td>\n",
              "      <td>1</td>\n",
              "      <td>1</td>\n",
              "      <td>48</td>\n",
              "      <td>3.0</td>\n",
              "      <td>17</td>\n",
              "      <td>0</td>\n",
              "      <td>78</td>\n",
              "      <td>0.0</td>\n",
              "      <td>0.0</td>\n",
              "      <td>0.0</td>\n",
              "      <td>0.0</td>\n",
              "      <td>0.0</td>\n",
              "      <td>0.0</td>\n",
              "      <td>0.0</td>\n",
              "      <td>0.0</td>\n",
              "      <td>1.0</td>\n",
              "      <td>0.0</td>\n",
              "      <td>0.0</td>\n",
              "      <td>1.0</td>\n",
              "    </tr>\n",
              "    <tr>\n",
              "      <th>54804</th>\n",
              "      <td>3</td>\n",
              "      <td>0</td>\n",
              "      <td>1</td>\n",
              "      <td>37</td>\n",
              "      <td>2.0</td>\n",
              "      <td>6</td>\n",
              "      <td>0</td>\n",
              "      <td>56</td>\n",
              "      <td>0.0</td>\n",
              "      <td>0.0</td>\n",
              "      <td>0.0</td>\n",
              "      <td>0.0</td>\n",
              "      <td>1.0</td>\n",
              "      <td>0.0</td>\n",
              "      <td>0.0</td>\n",
              "      <td>0.0</td>\n",
              "      <td>0.0</td>\n",
              "      <td>1.0</td>\n",
              "      <td>0.0</td>\n",
              "      <td>0.0</td>\n",
              "    </tr>\n",
              "    <tr>\n",
              "      <th>54805</th>\n",
              "      <td>2</td>\n",
              "      <td>1</td>\n",
              "      <td>1</td>\n",
              "      <td>27</td>\n",
              "      <td>5.0</td>\n",
              "      <td>3</td>\n",
              "      <td>0</td>\n",
              "      <td>79</td>\n",
              "      <td>1.0</td>\n",
              "      <td>0.0</td>\n",
              "      <td>0.0</td>\n",
              "      <td>0.0</td>\n",
              "      <td>0.0</td>\n",
              "      <td>0.0</td>\n",
              "      <td>0.0</td>\n",
              "      <td>0.0</td>\n",
              "      <td>0.0</td>\n",
              "      <td>1.0</td>\n",
              "      <td>0.0</td>\n",
              "      <td>0.0</td>\n",
              "    </tr>\n",
              "    <tr>\n",
              "      <th>54806</th>\n",
              "      <td>0</td>\n",
              "      <td>1</td>\n",
              "      <td>1</td>\n",
              "      <td>29</td>\n",
              "      <td>1.0</td>\n",
              "      <td>2</td>\n",
              "      <td>0</td>\n",
              "      <td>45</td>\n",
              "      <td>0.0</td>\n",
              "      <td>0.0</td>\n",
              "      <td>0.0</td>\n",
              "      <td>0.0</td>\n",
              "      <td>0.0</td>\n",
              "      <td>0.0</td>\n",
              "      <td>0.0</td>\n",
              "      <td>1.0</td>\n",
              "      <td>0.0</td>\n",
              "      <td>0.0</td>\n",
              "      <td>0.0</td>\n",
              "      <td>1.0</td>\n",
              "    </tr>\n",
              "    <tr>\n",
              "      <th>54807</th>\n",
              "      <td>2</td>\n",
              "      <td>1</td>\n",
              "      <td>1</td>\n",
              "      <td>27</td>\n",
              "      <td>1.0</td>\n",
              "      <td>5</td>\n",
              "      <td>0</td>\n",
              "      <td>49</td>\n",
              "      <td>0.0</td>\n",
              "      <td>0.0</td>\n",
              "      <td>1.0</td>\n",
              "      <td>0.0</td>\n",
              "      <td>0.0</td>\n",
              "      <td>0.0</td>\n",
              "      <td>0.0</td>\n",
              "      <td>0.0</td>\n",
              "      <td>0.0</td>\n",
              "      <td>1.0</td>\n",
              "      <td>0.0</td>\n",
              "      <td>0.0</td>\n",
              "    </tr>\n",
              "  </tbody>\n",
              "</table>\n",
              "<p>54808 rows × 20 columns</p>\n",
              "</div>"
            ],
            "text/plain": [
              "       education  gender  no_of_trainings  age  previous_year_rating  \\\n",
              "0              3       0                1   35                   5.0   \n",
              "1              2       1                1   30                   5.0   \n",
              "2              2       1                1   34                   3.0   \n",
              "3              2       1                2   39                   1.0   \n",
              "4              2       1                1   45                   3.0   \n",
              "...          ...     ...              ...  ...                   ...   \n",
              "54803          2       1                1   48                   3.0   \n",
              "54804          3       0                1   37                   2.0   \n",
              "54805          2       1                1   27                   5.0   \n",
              "54806          0       1                1   29                   1.0   \n",
              "54807          2       1                1   27                   1.0   \n",
              "\n",
              "       length_of_service  awards_won?  avg_training_score  (Analytics,)  \\\n",
              "0                      8            0                  49           0.0   \n",
              "1                      4            0                  60           0.0   \n",
              "2                      7            0                  50           0.0   \n",
              "3                     10            0                  50           0.0   \n",
              "4                      2            0                  73           0.0   \n",
              "...                  ...          ...                 ...           ...   \n",
              "54803                 17            0                  78           0.0   \n",
              "54804                  6            0                  56           0.0   \n",
              "54805                  3            0                  79           1.0   \n",
              "54806                  2            0                  45           0.0   \n",
              "54807                  5            0                  49           0.0   \n",
              "\n",
              "       (Finance,)  (HR,)  (Legal,)  (Operations,)  (Procurement,)  (R&D,)  \\\n",
              "0             0.0    0.0       0.0            0.0             0.0     0.0   \n",
              "1             0.0    0.0       0.0            1.0             0.0     0.0   \n",
              "2             0.0    0.0       0.0            0.0             0.0     0.0   \n",
              "3             0.0    0.0       0.0            0.0             0.0     0.0   \n",
              "4             0.0    0.0       0.0            0.0             0.0     0.0   \n",
              "...           ...    ...       ...            ...             ...     ...   \n",
              "54803         0.0    0.0       0.0            0.0             0.0     0.0   \n",
              "54804         0.0    0.0       0.0            1.0             0.0     0.0   \n",
              "54805         0.0    0.0       0.0            0.0             0.0     0.0   \n",
              "54806         0.0    0.0       0.0            0.0             0.0     0.0   \n",
              "54807         0.0    1.0       0.0            0.0             0.0     0.0   \n",
              "\n",
              "       (Sales & Marketing,)  (Technology,)  (other,)  (referred,)  (sourcing,)  \n",
              "0                       1.0            0.0       0.0          0.0          1.0  \n",
              "1                       0.0            0.0       1.0          0.0          0.0  \n",
              "2                       1.0            0.0       0.0          0.0          1.0  \n",
              "3                       1.0            0.0       1.0          0.0          0.0  \n",
              "4                       0.0            1.0       1.0          0.0          0.0  \n",
              "...                     ...            ...       ...          ...          ...  \n",
              "54803                   0.0            1.0       0.0          0.0          1.0  \n",
              "54804                   0.0            0.0       1.0          0.0          0.0  \n",
              "54805                   0.0            0.0       1.0          0.0          0.0  \n",
              "54806                   1.0            0.0       0.0          0.0          1.0  \n",
              "54807                   0.0            0.0       1.0          0.0          0.0  \n",
              "\n",
              "[54808 rows x 20 columns]"
            ]
          },
          "execution_count": 45,
          "metadata": {},
          "output_type": "execute_result"
        }
      ],
      "source": [
        "X.drop('recruitment_channel', axis=1, inplace=True)\n",
        "X"
      ]
    },
    {
      "cell_type": "markdown",
      "metadata": {
        "id": "ss7Z_LQbziNr"
      },
      "source": [
        "##SMOTE"
      ]
    },
    {
      "cell_type": "code",
      "execution_count": 46,
      "metadata": {
        "colab": {
          "base_uri": "https://localhost:8080/"
        },
        "id": "xmpAJye9LJMn",
        "outputId": "61a323fd-44c8-4779-9511-747e298bff90"
      },
      "outputs": [
        {
          "name": "stderr",
          "output_type": "stream",
          "text": [
            "c:\\Users\\HP\\AppData\\Local\\Programs\\Python\\Python310\\lib\\site-packages\\sklearn\\utils\\validation.py:1858: FutureWarning: Feature names only support names that are all strings. Got feature names with dtypes: ['str', 'tuple']. An error will be raised in 1.2.\n",
            "  warnings.warn(\n"
          ]
        },
        {
          "name": "stdout",
          "output_type": "stream",
          "text": [
            "X_train dataset shape:  (100280, 20)\n",
            "y_train dataset shape:  (100280,)\n"
          ]
        }
      ],
      "source": [
        "#SMOTE untuk menyeimbangkan data target yang imbalance\n",
        "oversample = SMOTE(sampling_strategy= 'all')\n",
        "X_train, y_train = oversample.fit_resample(X, y)\n",
        "print(\"X_train dataset shape: \", X_train.shape)\n",
        "print(\"y_train dataset shape: \", y_train.shape)\n"
      ]
    },
    {
      "cell_type": "code",
      "execution_count": 47,
      "metadata": {
        "colab": {
          "base_uri": "https://localhost:8080/"
        },
        "id": "79T6l1Vtd3dy",
        "outputId": "a10f79a9-76c1-4aa6-b9b6-1a2cbfbc5dd4"
      },
      "outputs": [
        {
          "data": {
            "text/plain": [
              "is_promoted\n",
              "0              50140\n",
              "1              50140\n",
              "dtype: int64"
            ]
          },
          "execution_count": 47,
          "metadata": {},
          "output_type": "execute_result"
        }
      ],
      "source": [
        "gg=pd.DataFrame(y_train, columns= ['is_promoted'])\n",
        "gg.value_counts()"
      ]
    },
    {
      "cell_type": "code",
      "execution_count": 85,
      "metadata": {
        "colab": {
          "base_uri": "https://localhost:8080/",
          "height": 461
        },
        "id": "jjSPNXrWdgmU",
        "outputId": "dc4a3622-92ee-4aba-a3f9-423522d610c6"
      },
      "outputs": [
        {
          "data": {
            "text/plain": [
              "<AxesSubplot: xlabel='is_promoted', ylabel='count'>"
            ]
          },
          "execution_count": 85,
          "metadata": {},
          "output_type": "execute_result"
        },
        {
          "data": {
            "image/png": "[encoded data removed]",
            "text/plain": [
              "<Figure size 800x600 with 1 Axes>"
            ]
          },
          "metadata": {},
          "output_type": "display_data"
        }
      ],
      "source": [
        "plt.figure(figsize=(8,6))\n",
        "sns.countplot(data= gg, x='is_promoted')"
      ]
    },
    {
      "cell_type": "code",
      "execution_count": 74,
      "metadata": {},
      "outputs": [
        {
          "data": {
            "text/plain": [
              "0    50140\n",
              "1    50140\n",
              "Name: is_promoted, dtype: int64"
            ]
          },
          "execution_count": 74,
          "metadata": {},
          "output_type": "execute_result"
        }
      ],
      "source": [
        "gg['is_promoted'].value_counts()"
      ]
    },
    {
      "cell_type": "markdown",
      "metadata": {
        "id": "RkQ76yBM3FSu"
      },
      "source": [
        "##Scaling"
      ]
    },
    {
      "cell_type": "code",
      "execution_count": 49,
      "metadata": {
        "colab": {
          "base_uri": "https://localhost:8080/"
        },
        "id": "d79MRslNcHvG",
        "outputId": "e607e1fc-4e07-499c-c039-49877a8c1172"
      },
      "outputs": [
        {
          "name": "stdout",
          "output_type": "stream",
          "text": [
            "X_train scaled shape:  (100280, 20)\n",
            "y_train  shape:  (100280,)\n",
            "X_test scaledshape (23490, 20)\n"
          ]
        },
        {
          "name": "stderr",
          "output_type": "stream",
          "text": [
            "c:\\Users\\HP\\AppData\\Local\\Programs\\Python\\Python310\\lib\\site-packages\\sklearn\\utils\\validation.py:1858: FutureWarning: Feature names only support names that are all strings. Got feature names with dtypes: ['str', 'tuple']. An error will be raised in 1.2.\n",
            "  warnings.warn(\n",
            "c:\\Users\\HP\\AppData\\Local\\Programs\\Python\\Python310\\lib\\site-packages\\sklearn\\utils\\validation.py:1858: FutureWarning: Feature names only support names that are all strings. Got feature names with dtypes: ['str', 'tuple']. An error will be raised in 1.2.\n",
            "  warnings.warn(\n",
            "c:\\Users\\HP\\AppData\\Local\\Programs\\Python\\Python310\\lib\\site-packages\\sklearn\\utils\\validation.py:1858: FutureWarning: Feature names only support names that are all strings. Got feature names with dtypes: ['str', 'tuple']. An error will be raised in 1.2.\n",
            "  warnings.warn(\n",
            "c:\\Users\\HP\\AppData\\Local\\Programs\\Python\\Python310\\lib\\site-packages\\sklearn\\utils\\validation.py:1858: FutureWarning: Feature names only support names that are all strings. Got feature names with dtypes: ['str', 'tuple']. An error will be raised in 1.2.\n",
            "  warnings.warn(\n"
          ]
        }
      ],
      "source": [
        "scaler = StandardScaler()\n",
        "X_train_scaled = scaler.fit_transform(X_train)\n",
        "X_test_scaled = scaler.fit_transform(test)\n",
        "\n",
        "\n",
        "X_train_scaled = pd.DataFrame(X_train_scaled, columns=X.columns)\n",
        "X_test_scaled = pd.DataFrame(X_test_scaled, columns=test.columns)\n",
        "print(\"X_train scaled shape: \", X_train_scaled.shape)\n",
        "print(\"y_train  shape: \", y_train.shape)\n",
        "print('X_test scaledshape', X_test_scaled.shape)"
      ]
    },
    {
      "cell_type": "markdown",
      "metadata": {
        "id": "iXmjfY-H3TnJ"
      },
      "source": [
        "##Modelling"
      ]
    },
    {
      "cell_type": "code",
      "execution_count": 50,
      "metadata": {
        "id": "OnmENPNRWHhb"
      },
      "outputs": [],
      "source": [
        "#Train test split\n",
        "X_train, X_test, y_train, y_test = train_test_split(X_train_scaled, y_train, test_size=0.1, random_state=42)"
      ]
    },
    {
      "cell_type": "code",
      "execution_count": 51,
      "metadata": {
        "colab": {
          "base_uri": "https://localhost:8080/"
        },
        "id": "qeXfZHBvbV6X",
        "outputId": "e8d38196-70ac-483f-d2c0-25f9850e1816"
      },
      "outputs": [
        {
          "name": "stdout",
          "output_type": "stream",
          "text": [
            "----------BEFORE------------\n",
            "DecisionTreeClassifier Acc Train: [], 1 of KFold 5\n",
            "DecisionTreeClassifier Acc Test: [], 1 of KFold 5\n",
            "DecisionTreeClassifier Recall: [], 1 of KFold 5\n",
            "DecisionTreeClassifier Precission: [], 1 of KFold 5\n",
            "---------------------------\n"
          ]
        },
        {
          "name": "stderr",
          "output_type": "stream",
          "text": [
            "c:\\Users\\HP\\AppData\\Local\\Programs\\Python\\Python310\\lib\\site-packages\\sklearn\\utils\\validation.py:1858: FutureWarning: Feature names only support names that are all strings. Got feature names with dtypes: ['str', 'tuple']. An error will be raised in 1.2.\n",
            "  warnings.warn(\n",
            "c:\\Users\\HP\\AppData\\Local\\Programs\\Python\\Python310\\lib\\site-packages\\sklearn\\utils\\validation.py:1858: FutureWarning: Feature names only support names that are all strings. Got feature names with dtypes: ['str', 'tuple']. An error will be raised in 1.2.\n",
            "  warnings.warn(\n",
            "c:\\Users\\HP\\AppData\\Local\\Programs\\Python\\Python310\\lib\\site-packages\\sklearn\\utils\\validation.py:1858: FutureWarning: Feature names only support names that are all strings. Got feature names with dtypes: ['str', 'tuple']. An error will be raised in 1.2.\n",
            "  warnings.warn(\n",
            "c:\\Users\\HP\\AppData\\Local\\Programs\\Python\\Python310\\lib\\site-packages\\sklearn\\utils\\validation.py:1858: FutureWarning: Feature names only support names that are all strings. Got feature names with dtypes: ['str', 'tuple']. An error will be raised in 1.2.\n",
            "  warnings.warn(\n",
            "c:\\Users\\HP\\AppData\\Local\\Programs\\Python\\Python310\\lib\\site-packages\\sklearn\\utils\\validation.py:1858: FutureWarning: Feature names only support names that are all strings. Got feature names with dtypes: ['str', 'tuple']. An error will be raised in 1.2.\n",
            "  warnings.warn(\n"
          ]
        },
        {
          "name": "stdout",
          "output_type": "stream",
          "text": [
            "----------AFTER------------\n",
            "DecisionTreeClassifier Acc Train: [0.9903049239906041], 1 of KFold 5\n",
            "DecisionTreeClassifier Acc Test: [0.9294974072596729], 1 of KFold 5\n",
            "DecisionTreeClassifier Recall: [0.9483432805103931], 1 of KFold 5\n",
            "DecisionTreeClassifier Precission: [0.909952606635071], 1 of KFold 5\n",
            "---------------------------\n",
            "----------BEFORE------------\n",
            "DecisionTreeClassifier Acc Train: [0.9903049239906041], 2 of KFold 5\n",
            "DecisionTreeClassifier Acc Test: [0.9294974072596729], 2 of KFold 5\n",
            "DecisionTreeClassifier Recall: [0.9483432805103931], 2 of KFold 5\n",
            "DecisionTreeClassifier Precission: [0.909952606635071], 2 of KFold 5\n",
            "---------------------------\n"
          ]
        },
        {
          "name": "stderr",
          "output_type": "stream",
          "text": [
            "c:\\Users\\HP\\AppData\\Local\\Programs\\Python\\Python310\\lib\\site-packages\\sklearn\\utils\\validation.py:1858: FutureWarning: Feature names only support names that are all strings. Got feature names with dtypes: ['str', 'tuple']. An error will be raised in 1.2.\n",
            "  warnings.warn(\n",
            "c:\\Users\\HP\\AppData\\Local\\Programs\\Python\\Python310\\lib\\site-packages\\sklearn\\utils\\validation.py:1858: FutureWarning: Feature names only support names that are all strings. Got feature names with dtypes: ['str', 'tuple']. An error will be raised in 1.2.\n",
            "  warnings.warn(\n",
            "c:\\Users\\HP\\AppData\\Local\\Programs\\Python\\Python310\\lib\\site-packages\\sklearn\\utils\\validation.py:1858: FutureWarning: Feature names only support names that are all strings. Got feature names with dtypes: ['str', 'tuple']. An error will be raised in 1.2.\n",
            "  warnings.warn(\n",
            "c:\\Users\\HP\\AppData\\Local\\Programs\\Python\\Python310\\lib\\site-packages\\sklearn\\utils\\validation.py:1858: FutureWarning: Feature names only support names that are all strings. Got feature names with dtypes: ['str', 'tuple']. An error will be raised in 1.2.\n",
            "  warnings.warn(\n"
          ]
        },
        {
          "name": "stdout",
          "output_type": "stream",
          "text": [
            "----------AFTER------------\n",
            "DecisionTreeClassifier Acc Train: [0.9903049239906041, 0.9903049239906041], 2 of KFold 5\n",
            "DecisionTreeClassifier Acc Test: [0.9294974072596729, 0.9275029916234543], 2 of KFold 5\n",
            "DecisionTreeClassifier Recall: [0.9483432805103931, 0.9479316731837827], 2 of KFold 5\n",
            "DecisionTreeClassifier Precission: [0.909952606635071, 0.9066929133858268], 2 of KFold 5\n",
            "---------------------------\n",
            "----------BEFORE------------\n",
            "DecisionTreeClassifier Acc Train: [0.9903049239906041, 0.9903049239906041], 3 of KFold 5\n",
            "DecisionTreeClassifier Acc Test: [0.9294974072596729, 0.9275029916234543], 3 of KFold 5\n",
            "DecisionTreeClassifier Recall: [0.9483432805103931, 0.9479316731837827], 3 of KFold 5\n",
            "DecisionTreeClassifier Precission: [0.909952606635071, 0.9066929133858268], 3 of KFold 5\n",
            "---------------------------\n"
          ]
        },
        {
          "name": "stderr",
          "output_type": "stream",
          "text": [
            "c:\\Users\\HP\\AppData\\Local\\Programs\\Python\\Python310\\lib\\site-packages\\sklearn\\utils\\validation.py:1858: FutureWarning: Feature names only support names that are all strings. Got feature names with dtypes: ['str', 'tuple']. An error will be raised in 1.2.\n",
            "  warnings.warn(\n",
            "c:\\Users\\HP\\AppData\\Local\\Programs\\Python\\Python310\\lib\\site-packages\\sklearn\\utils\\validation.py:1858: FutureWarning: Feature names only support names that are all strings. Got feature names with dtypes: ['str', 'tuple']. An error will be raised in 1.2.\n",
            "  warnings.warn(\n",
            "c:\\Users\\HP\\AppData\\Local\\Programs\\Python\\Python310\\lib\\site-packages\\sklearn\\utils\\validation.py:1858: FutureWarning: Feature names only support names that are all strings. Got feature names with dtypes: ['str', 'tuple']. An error will be raised in 1.2.\n",
            "  warnings.warn(\n",
            "c:\\Users\\HP\\AppData\\Local\\Programs\\Python\\Python310\\lib\\site-packages\\sklearn\\utils\\validation.py:1858: FutureWarning: Feature names only support names that are all strings. Got feature names with dtypes: ['str', 'tuple']. An error will be raised in 1.2.\n",
            "  warnings.warn(\n"
          ]
        },
        {
          "name": "stdout",
          "output_type": "stream",
          "text": [
            "----------AFTER------------\n",
            "DecisionTreeClassifier Acc Train: [0.9903049239906041, 0.9903049239906041, 0.9903049239906041], 3 of KFold 5\n",
            "DecisionTreeClassifier Acc Test: [0.9294974072596729, 0.9275029916234543, 0.9289988033506182], 3 of KFold 5\n",
            "DecisionTreeClassifier Recall: [0.9483432805103931, 0.9479316731837827, 0.947314262193867], 3 of KFold 5\n",
            "DecisionTreeClassifier Precission: [0.909952606635071, 0.9066929133858268, 0.9098636094089741], 3 of KFold 5\n",
            "---------------------------\n",
            "----------BEFORE------------\n",
            "DecisionTreeClassifier Acc Train: [0.9903049239906041, 0.9903049239906041, 0.9903049239906041], 4 of KFold 5\n",
            "DecisionTreeClassifier Acc Test: [0.9294974072596729, 0.9275029916234543, 0.9289988033506182], 4 of KFold 5\n",
            "DecisionTreeClassifier Recall: [0.9483432805103931, 0.9479316731837827, 0.947314262193867], 4 of KFold 5\n",
            "DecisionTreeClassifier Precission: [0.909952606635071, 0.9066929133858268, 0.9098636094089741], 4 of KFold 5\n",
            "---------------------------\n"
          ]
        },
        {
          "name": "stderr",
          "output_type": "stream",
          "text": [
            "c:\\Users\\HP\\AppData\\Local\\Programs\\Python\\Python310\\lib\\site-packages\\sklearn\\utils\\validation.py:1858: FutureWarning: Feature names only support names that are all strings. Got feature names with dtypes: ['str', 'tuple']. An error will be raised in 1.2.\n",
            "  warnings.warn(\n",
            "c:\\Users\\HP\\AppData\\Local\\Programs\\Python\\Python310\\lib\\site-packages\\sklearn\\utils\\validation.py:1858: FutureWarning: Feature names only support names that are all strings. Got feature names with dtypes: ['str', 'tuple']. An error will be raised in 1.2.\n",
            "  warnings.warn(\n",
            "c:\\Users\\HP\\AppData\\Local\\Programs\\Python\\Python310\\lib\\site-packages\\sklearn\\utils\\validation.py:1858: FutureWarning: Feature names only support names that are all strings. Got feature names with dtypes: ['str', 'tuple']. An error will be raised in 1.2.\n",
            "  warnings.warn(\n",
            "c:\\Users\\HP\\AppData\\Local\\Programs\\Python\\Python310\\lib\\site-packages\\sklearn\\utils\\validation.py:1858: FutureWarning: Feature names only support names that are all strings. Got feature names with dtypes: ['str', 'tuple']. An error will be raised in 1.2.\n",
            "  warnings.warn(\n"
          ]
        },
        {
          "name": "stdout",
          "output_type": "stream",
          "text": [
            "----------AFTER------------\n",
            "DecisionTreeClassifier Acc Train: [0.9903049239906041, 0.9903049239906041, 0.9903049239906041, 0.9903049239906041], 4 of KFold 5\n",
            "DecisionTreeClassifier Acc Test: [0.9294974072596729, 0.9275029916234543, 0.9289988033506182, 0.929397686477862], 4 of KFold 5\n",
            "DecisionTreeClassifier Recall: [0.9483432805103931, 0.9479316731837827, 0.947314262193867, 0.9477258695204774], 4 of KFold 5\n",
            "DecisionTreeClassifier Precission: [0.909952606635071, 0.9066929133858268, 0.9098636094089741, 0.910258944455426], 4 of KFold 5\n",
            "---------------------------\n",
            "----------BEFORE------------\n",
            "DecisionTreeClassifier Acc Train: [0.9903049239906041, 0.9903049239906041, 0.9903049239906041, 0.9903049239906041], 5 of KFold 5\n",
            "DecisionTreeClassifier Acc Test: [0.9294974072596729, 0.9275029916234543, 0.9289988033506182, 0.929397686477862], 5 of KFold 5\n",
            "DecisionTreeClassifier Recall: [0.9483432805103931, 0.9479316731837827, 0.947314262193867, 0.9477258695204774], 5 of KFold 5\n",
            "DecisionTreeClassifier Precission: [0.909952606635071, 0.9066929133858268, 0.9098636094089741, 0.910258944455426], 5 of KFold 5\n",
            "---------------------------\n"
          ]
        },
        {
          "name": "stderr",
          "output_type": "stream",
          "text": [
            "c:\\Users\\HP\\AppData\\Local\\Programs\\Python\\Python310\\lib\\site-packages\\sklearn\\utils\\validation.py:1858: FutureWarning: Feature names only support names that are all strings. Got feature names with dtypes: ['str', 'tuple']. An error will be raised in 1.2.\n",
            "  warnings.warn(\n",
            "c:\\Users\\HP\\AppData\\Local\\Programs\\Python\\Python310\\lib\\site-packages\\sklearn\\utils\\validation.py:1858: FutureWarning: Feature names only support names that are all strings. Got feature names with dtypes: ['str', 'tuple']. An error will be raised in 1.2.\n",
            "  warnings.warn(\n",
            "c:\\Users\\HP\\AppData\\Local\\Programs\\Python\\Python310\\lib\\site-packages\\sklearn\\utils\\validation.py:1858: FutureWarning: Feature names only support names that are all strings. Got feature names with dtypes: ['str', 'tuple']. An error will be raised in 1.2.\n",
            "  warnings.warn(\n",
            "c:\\Users\\HP\\AppData\\Local\\Programs\\Python\\Python310\\lib\\site-packages\\sklearn\\utils\\validation.py:1858: FutureWarning: Feature names only support names that are all strings. Got feature names with dtypes: ['str', 'tuple']. An error will be raised in 1.2.\n",
            "  warnings.warn(\n"
          ]
        },
        {
          "name": "stdout",
          "output_type": "stream",
          "text": [
            "----------AFTER------------\n",
            "DecisionTreeClassifier Acc Train: [0.9903049239906041, 0.9903049239906041, 0.9903049239906041, 0.9903049239906041, 0.9903049239906041], 5 of KFold 5\n",
            "DecisionTreeClassifier Acc Test: [0.9294974072596729, 0.9275029916234543, 0.9289988033506182, 0.929397686477862, 0.9273035500598324], 5 of KFold 5\n",
            "DecisionTreeClassifier Recall: [0.9483432805103931, 0.9479316731837827, 0.947314262193867, 0.9477258695204774, 0.9477258695204774], 5 of KFold 5\n",
            "DecisionTreeClassifier Precission: [0.909952606635071, 0.9066929133858268, 0.9098636094089741, 0.910258944455426, 0.906496062992126], 5 of KFold 5\n",
            "---------------------------\n",
            "----------FINAL------------\n",
            "DecisionTreeClassifier Acc Train: 0.9903049239906041\n",
            "DecisionTreeClassifier Acc Test: 0.928540087754288\n",
            "DecisionTreeClassifier Recall: 0.9478081909857995\n",
            "DecisionTreeClassifier Precission: 0.9086528273754848\n",
            "---------------------------\n",
            "----------BEFORE------------\n",
            "RandomForestClassifier Acc Train: [], 1 of KFold 5\n",
            "RandomForestClassifier Acc Test: [], 1 of KFold 5\n",
            "RandomForestClassifier Recall: [], 1 of KFold 5\n",
            "RandomForestClassifier Precission: [], 1 of KFold 5\n",
            "---------------------------\n"
          ]
        },
        {
          "name": "stderr",
          "output_type": "stream",
          "text": [
            "c:\\Users\\HP\\AppData\\Local\\Programs\\Python\\Python310\\lib\\site-packages\\sklearn\\utils\\validation.py:1858: FutureWarning: Feature names only support names that are all strings. Got feature names with dtypes: ['str', 'tuple']. An error will be raised in 1.2.\n",
            "  warnings.warn(\n",
            "c:\\Users\\HP\\AppData\\Local\\Programs\\Python\\Python310\\lib\\site-packages\\sklearn\\utils\\validation.py:1858: FutureWarning: Feature names only support names that are all strings. Got feature names with dtypes: ['str', 'tuple']. An error will be raised in 1.2.\n",
            "  warnings.warn(\n",
            "c:\\Users\\HP\\AppData\\Local\\Programs\\Python\\Python310\\lib\\site-packages\\sklearn\\utils\\validation.py:1858: FutureWarning: Feature names only support names that are all strings. Got feature names with dtypes: ['str', 'tuple']. An error will be raised in 1.2.\n",
            "  warnings.warn(\n"
          ]
        },
        {
          "name": "stdout",
          "output_type": "stream",
          "text": [
            "----------AFTER------------\n",
            "RandomForestClassifier Acc Train: [0.9902938439037362], 1 of KFold 5\n",
            "RandomForestClassifier Acc Test: [0.9546270442760271], 1 of KFold 5\n",
            "RandomForestClassifier Recall: [0.9477258695204774], 1 of KFold 5\n",
            "RandomForestClassifier Precission: [0.9581772784019975], 1 of KFold 5\n",
            "---------------------------\n",
            "----------BEFORE------------\n",
            "RandomForestClassifier Acc Train: [0.9902938439037362], 2 of KFold 5\n",
            "RandomForestClassifier Acc Test: [0.9546270442760271], 2 of KFold 5\n",
            "RandomForestClassifier Recall: [0.9477258695204774], 2 of KFold 5\n",
            "RandomForestClassifier Precission: [0.9581772784019975], 2 of KFold 5\n",
            "---------------------------\n"
          ]
        },
        {
          "name": "stderr",
          "output_type": "stream",
          "text": [
            "c:\\Users\\HP\\AppData\\Local\\Programs\\Python\\Python310\\lib\\site-packages\\sklearn\\utils\\validation.py:1858: FutureWarning: Feature names only support names that are all strings. Got feature names with dtypes: ['str', 'tuple']. An error will be raised in 1.2.\n",
            "  warnings.warn(\n",
            "c:\\Users\\HP\\AppData\\Local\\Programs\\Python\\Python310\\lib\\site-packages\\sklearn\\utils\\validation.py:1858: FutureWarning: Feature names only support names that are all strings. Got feature names with dtypes: ['str', 'tuple']. An error will be raised in 1.2.\n",
            "  warnings.warn(\n",
            "c:\\Users\\HP\\AppData\\Local\\Programs\\Python\\Python310\\lib\\site-packages\\sklearn\\utils\\validation.py:1858: FutureWarning: Feature names only support names that are all strings. Got feature names with dtypes: ['str', 'tuple']. An error will be raised in 1.2.\n",
            "  warnings.warn(\n",
            "c:\\Users\\HP\\AppData\\Local\\Programs\\Python\\Python310\\lib\\site-packages\\sklearn\\utils\\validation.py:1858: FutureWarning: Feature names only support names that are all strings. Got feature names with dtypes: ['str', 'tuple']. An error will be raised in 1.2.\n",
            "  warnings.warn(\n"
          ]
        },
        {
          "name": "stdout",
          "output_type": "stream",
          "text": [
            "----------AFTER------------\n",
            "RandomForestClassifier Acc Train: [0.9902938439037362, 0.9903049239906041], 2 of KFold 5\n",
            "RandomForestClassifier Acc Test: [0.9546270442760271, 0.9550259274032709], 2 of KFold 5\n",
            "RandomForestClassifier Recall: [0.9477258695204774, 0.9493722988269191], 2 of KFold 5\n",
            "RandomForestClassifier Precission: [0.9581772784019975, 0.9574512245745123], 2 of KFold 5\n",
            "---------------------------\n",
            "----------BEFORE------------\n",
            "RandomForestClassifier Acc Train: [0.9902938439037362, 0.9903049239906041], 3 of KFold 5\n",
            "RandomForestClassifier Acc Test: [0.9546270442760271, 0.9550259274032709], 3 of KFold 5\n",
            "RandomForestClassifier Recall: [0.9477258695204774, 0.9493722988269191], 3 of KFold 5\n",
            "RandomForestClassifier Precission: [0.9581772784019975, 0.9574512245745123], 3 of KFold 5\n",
            "---------------------------\n"
          ]
        },
        {
          "name": "stderr",
          "output_type": "stream",
          "text": [
            "c:\\Users\\HP\\AppData\\Local\\Programs\\Python\\Python310\\lib\\site-packages\\sklearn\\utils\\validation.py:1858: FutureWarning: Feature names only support names that are all strings. Got feature names with dtypes: ['str', 'tuple']. An error will be raised in 1.2.\n",
            "  warnings.warn(\n",
            "c:\\Users\\HP\\AppData\\Local\\Programs\\Python\\Python310\\lib\\site-packages\\sklearn\\utils\\validation.py:1858: FutureWarning: Feature names only support names that are all strings. Got feature names with dtypes: ['str', 'tuple']. An error will be raised in 1.2.\n",
            "  warnings.warn(\n",
            "c:\\Users\\HP\\AppData\\Local\\Programs\\Python\\Python310\\lib\\site-packages\\sklearn\\utils\\validation.py:1858: FutureWarning: Feature names only support names that are all strings. Got feature names with dtypes: ['str', 'tuple']. An error will be raised in 1.2.\n",
            "  warnings.warn(\n",
            "c:\\Users\\HP\\AppData\\Local\\Programs\\Python\\Python310\\lib\\site-packages\\sklearn\\utils\\validation.py:1858: FutureWarning: Feature names only support names that are all strings. Got feature names with dtypes: ['str', 'tuple']. An error will be raised in 1.2.\n",
            "  warnings.warn(\n"
          ]
        },
        {
          "name": "stdout",
          "output_type": "stream",
          "text": [
            "----------AFTER------------\n",
            "RandomForestClassifier Acc Train: [0.9902938439037362, 0.9903049239906041, 0.9902827638168683], 3 of KFold 5\n",
            "RandomForestClassifier Acc Test: [0.9546270442760271, 0.9550259274032709, 0.9549262066214599], 3 of KFold 5\n",
            "RandomForestClassifier Recall: [0.9477258695204774, 0.9493722988269191, 0.9495781024902243], 3 of KFold 5\n",
            "RandomForestClassifier Precission: [0.9581772784019975, 0.9574512245745123, 0.9570628500311139], 3 of KFold 5\n",
            "---------------------------\n",
            "----------BEFORE------------\n",
            "RandomForestClassifier Acc Train: [0.9902938439037362, 0.9903049239906041, 0.9902827638168683], 4 of KFold 5\n",
            "RandomForestClassifier Acc Test: [0.9546270442760271, 0.9550259274032709, 0.9549262066214599], 4 of KFold 5\n",
            "RandomForestClassifier Recall: [0.9477258695204774, 0.9493722988269191, 0.9495781024902243], 4 of KFold 5\n",
            "RandomForestClassifier Precission: [0.9581772784019975, 0.9574512245745123, 0.9570628500311139], 4 of KFold 5\n",
            "---------------------------\n"
          ]
        },
        {
          "name": "stderr",
          "output_type": "stream",
          "text": [
            "c:\\Users\\HP\\AppData\\Local\\Programs\\Python\\Python310\\lib\\site-packages\\sklearn\\utils\\validation.py:1858: FutureWarning: Feature names only support names that are all strings. Got feature names with dtypes: ['str', 'tuple']. An error will be raised in 1.2.\n",
            "  warnings.warn(\n",
            "c:\\Users\\HP\\AppData\\Local\\Programs\\Python\\Python310\\lib\\site-packages\\sklearn\\utils\\validation.py:1858: FutureWarning: Feature names only support names that are all strings. Got feature names with dtypes: ['str', 'tuple']. An error will be raised in 1.2.\n",
            "  warnings.warn(\n",
            "c:\\Users\\HP\\AppData\\Local\\Programs\\Python\\Python310\\lib\\site-packages\\sklearn\\utils\\validation.py:1858: FutureWarning: Feature names only support names that are all strings. Got feature names with dtypes: ['str', 'tuple']. An error will be raised in 1.2.\n",
            "  warnings.warn(\n",
            "c:\\Users\\HP\\AppData\\Local\\Programs\\Python\\Python310\\lib\\site-packages\\sklearn\\utils\\validation.py:1858: FutureWarning: Feature names only support names that are all strings. Got feature names with dtypes: ['str', 'tuple']. An error will be raised in 1.2.\n",
            "  warnings.warn(\n"
          ]
        },
        {
          "name": "stdout",
          "output_type": "stream",
          "text": [
            "----------AFTER------------\n",
            "RandomForestClassifier Acc Train: [0.9902938439037362, 0.9903049239906041, 0.9902827638168683, 0.9902938439037362], 4 of KFold 5\n",
            "RandomForestClassifier Acc Test: [0.9546270442760271, 0.9550259274032709, 0.9549262066214599, 0.9544276027124052], 4 of KFold 5\n",
            "RandomForestClassifier Recall: [0.9477258695204774, 0.9493722988269191, 0.9495781024902243, 0.9479316731837827], 4 of KFold 5\n",
            "RandomForestClassifier Precission: [0.9581772784019975, 0.9574512245745123, 0.9570628500311139, 0.9575883575883576], 4 of KFold 5\n",
            "---------------------------\n",
            "----------BEFORE------------\n",
            "RandomForestClassifier Acc Train: [0.9902938439037362, 0.9903049239906041, 0.9902827638168683, 0.9902938439037362], 5 of KFold 5\n",
            "RandomForestClassifier Acc Test: [0.9546270442760271, 0.9550259274032709, 0.9549262066214599, 0.9544276027124052], 5 of KFold 5\n",
            "RandomForestClassifier Recall: [0.9477258695204774, 0.9493722988269191, 0.9495781024902243, 0.9479316731837827], 5 of KFold 5\n",
            "RandomForestClassifier Precission: [0.9581772784019975, 0.9574512245745123, 0.9570628500311139, 0.9575883575883576], 5 of KFold 5\n",
            "---------------------------\n"
          ]
        },
        {
          "name": "stderr",
          "output_type": "stream",
          "text": [
            "c:\\Users\\HP\\AppData\\Local\\Programs\\Python\\Python310\\lib\\site-packages\\sklearn\\utils\\validation.py:1858: FutureWarning: Feature names only support names that are all strings. Got feature names with dtypes: ['str', 'tuple']. An error will be raised in 1.2.\n",
            "  warnings.warn(\n",
            "c:\\Users\\HP\\AppData\\Local\\Programs\\Python\\Python310\\lib\\site-packages\\sklearn\\utils\\validation.py:1858: FutureWarning: Feature names only support names that are all strings. Got feature names with dtypes: ['str', 'tuple']. An error will be raised in 1.2.\n",
            "  warnings.warn(\n",
            "c:\\Users\\HP\\AppData\\Local\\Programs\\Python\\Python310\\lib\\site-packages\\sklearn\\utils\\validation.py:1858: FutureWarning: Feature names only support names that are all strings. Got feature names with dtypes: ['str', 'tuple']. An error will be raised in 1.2.\n",
            "  warnings.warn(\n",
            "c:\\Users\\HP\\AppData\\Local\\Programs\\Python\\Python310\\lib\\site-packages\\sklearn\\utils\\validation.py:1858: FutureWarning: Feature names only support names that are all strings. Got feature names with dtypes: ['str', 'tuple']. An error will be raised in 1.2.\n",
            "  warnings.warn(\n"
          ]
        },
        {
          "name": "stdout",
          "output_type": "stream",
          "text": [
            "----------AFTER------------\n",
            "RandomForestClassifier Acc Train: [0.9902938439037362, 0.9903049239906041, 0.9902827638168683, 0.9902938439037362, 0.9902938439037362], 5 of KFold 5\n",
            "RandomForestClassifier Acc Test: [0.9546270442760271, 0.9550259274032709, 0.9549262066214599, 0.9544276027124052, 0.9554248105305145], 5 of KFold 5\n",
            "RandomForestClassifier Recall: [0.9477258695204774, 0.9493722988269191, 0.9495781024902243, 0.9479316731837827, 0.9510187281333607], 5 of KFold 5\n",
            "RandomForestClassifier Precission: [0.9581772784019975, 0.9574512245745123, 0.9570628500311139, 0.9575883575883576, 0.9567287784679089], 5 of KFold 5\n",
            "---------------------------\n",
            "----------FINAL------------\n",
            "RandomForestClassifier Acc Train: 0.9902938439037362\n",
            "RandomForestClassifier Acc Test: 0.9548863183087356\n",
            "RandomForestClassifier Recall: 0.9491253344309529\n",
            "RandomForestClassifier Precission: 0.957401697812778\n",
            "---------------------------\n",
            "----------BEFORE------------\n",
            "GradientBoostingClassifier Acc Train: [], 1 of KFold 5\n",
            "GradientBoostingClassifier Acc Test: [], 1 of KFold 5\n",
            "GradientBoostingClassifier Recall: [], 1 of KFold 5\n",
            "GradientBoostingClassifier Precission: [], 1 of KFold 5\n",
            "---------------------------\n"
          ]
        },
        {
          "name": "stderr",
          "output_type": "stream",
          "text": [
            "c:\\Users\\HP\\AppData\\Local\\Programs\\Python\\Python310\\lib\\site-packages\\sklearn\\utils\\validation.py:1858: FutureWarning: Feature names only support names that are all strings. Got feature names with dtypes: ['str', 'tuple']. An error will be raised in 1.2.\n",
            "  warnings.warn(\n",
            "c:\\Users\\HP\\AppData\\Local\\Programs\\Python\\Python310\\lib\\site-packages\\sklearn\\utils\\validation.py:1858: FutureWarning: Feature names only support names that are all strings. Got feature names with dtypes: ['str', 'tuple']. An error will be raised in 1.2.\n",
            "  warnings.warn(\n",
            "c:\\Users\\HP\\AppData\\Local\\Programs\\Python\\Python310\\lib\\site-packages\\sklearn\\utils\\validation.py:1858: FutureWarning: Feature names only support names that are all strings. Got feature names with dtypes: ['str', 'tuple']. An error will be raised in 1.2.\n",
            "  warnings.warn(\n",
            "c:\\Users\\HP\\AppData\\Local\\Programs\\Python\\Python310\\lib\\site-packages\\sklearn\\utils\\validation.py:1858: FutureWarning: Feature names only support names that are all strings. Got feature names with dtypes: ['str', 'tuple']. An error will be raised in 1.2.\n",
            "  warnings.warn(\n",
            "c:\\Users\\HP\\AppData\\Local\\Programs\\Python\\Python310\\lib\\site-packages\\sklearn\\utils\\validation.py:1858: FutureWarning: Feature names only support names that are all strings. Got feature names with dtypes: ['str', 'tuple']. An error will be raised in 1.2.\n",
            "  warnings.warn(\n"
          ]
        },
        {
          "name": "stdout",
          "output_type": "stream",
          "text": [
            "----------AFTER------------\n",
            "GradientBoostingClassifier Acc Train: [0.8795262154855295], 1 of KFold 5\n",
            "GradientBoostingClassifier Acc Test: [0.8823294774631033], 1 of KFold 5\n",
            "GradientBoostingClassifier Recall: [0.816834739658366], 1 of KFold 5\n",
            "GradientBoostingClassifier Precission: [0.9319088988025358], 1 of KFold 5\n",
            "---------------------------\n",
            "----------BEFORE------------\n",
            "GradientBoostingClassifier Acc Train: [0.8795262154855295], 2 of KFold 5\n",
            "GradientBoostingClassifier Acc Test: [0.8823294774631033], 2 of KFold 5\n",
            "GradientBoostingClassifier Recall: [0.816834739658366], 2 of KFold 5\n",
            "GradientBoostingClassifier Precission: [0.9319088988025358], 2 of KFold 5\n",
            "---------------------------\n"
          ]
        },
        {
          "name": "stderr",
          "output_type": "stream",
          "text": [
            "c:\\Users\\HP\\AppData\\Local\\Programs\\Python\\Python310\\lib\\site-packages\\sklearn\\utils\\validation.py:1858: FutureWarning: Feature names only support names that are all strings. Got feature names with dtypes: ['str', 'tuple']. An error will be raised in 1.2.\n",
            "  warnings.warn(\n",
            "c:\\Users\\HP\\AppData\\Local\\Programs\\Python\\Python310\\lib\\site-packages\\sklearn\\utils\\validation.py:1858: FutureWarning: Feature names only support names that are all strings. Got feature names with dtypes: ['str', 'tuple']. An error will be raised in 1.2.\n",
            "  warnings.warn(\n",
            "c:\\Users\\HP\\AppData\\Local\\Programs\\Python\\Python310\\lib\\site-packages\\sklearn\\utils\\validation.py:1858: FutureWarning: Feature names only support names that are all strings. Got feature names with dtypes: ['str', 'tuple']. An error will be raised in 1.2.\n",
            "  warnings.warn(\n",
            "c:\\Users\\HP\\AppData\\Local\\Programs\\Python\\Python310\\lib\\site-packages\\sklearn\\utils\\validation.py:1858: FutureWarning: Feature names only support names that are all strings. Got feature names with dtypes: ['str', 'tuple']. An error will be raised in 1.2.\n",
            "  warnings.warn(\n"
          ]
        },
        {
          "name": "stdout",
          "output_type": "stream",
          "text": [
            "----------AFTER------------\n",
            "GradientBoostingClassifier Acc Train: [0.8795262154855295, 0.8795262154855295], 2 of KFold 5\n",
            "GradientBoostingClassifier Acc Test: [0.8823294774631033, 0.8823294774631033], 2 of KFold 5\n",
            "GradientBoostingClassifier Recall: [0.816834739658366, 0.816834739658366], 2 of KFold 5\n",
            "GradientBoostingClassifier Precission: [0.9319088988025358, 0.9319088988025358], 2 of KFold 5\n",
            "---------------------------\n",
            "----------BEFORE------------\n",
            "GradientBoostingClassifier Acc Train: [0.8795262154855295, 0.8795262154855295], 3 of KFold 5\n",
            "GradientBoostingClassifier Acc Test: [0.8823294774631033, 0.8823294774631033], 3 of KFold 5\n",
            "GradientBoostingClassifier Recall: [0.816834739658366, 0.816834739658366], 3 of KFold 5\n",
            "GradientBoostingClassifier Precission: [0.9319088988025358, 0.9319088988025358], 3 of KFold 5\n",
            "---------------------------\n"
          ]
        },
        {
          "name": "stderr",
          "output_type": "stream",
          "text": [
            "c:\\Users\\HP\\AppData\\Local\\Programs\\Python\\Python310\\lib\\site-packages\\sklearn\\utils\\validation.py:1858: FutureWarning: Feature names only support names that are all strings. Got feature names with dtypes: ['str', 'tuple']. An error will be raised in 1.2.\n",
            "  warnings.warn(\n",
            "c:\\Users\\HP\\AppData\\Local\\Programs\\Python\\Python310\\lib\\site-packages\\sklearn\\utils\\validation.py:1858: FutureWarning: Feature names only support names that are all strings. Got feature names with dtypes: ['str', 'tuple']. An error will be raised in 1.2.\n",
            "  warnings.warn(\n",
            "c:\\Users\\HP\\AppData\\Local\\Programs\\Python\\Python310\\lib\\site-packages\\sklearn\\utils\\validation.py:1858: FutureWarning: Feature names only support names that are all strings. Got feature names with dtypes: ['str', 'tuple']. An error will be raised in 1.2.\n",
            "  warnings.warn(\n",
            "c:\\Users\\HP\\AppData\\Local\\Programs\\Python\\Python310\\lib\\site-packages\\sklearn\\utils\\validation.py:1858: FutureWarning: Feature names only support names that are all strings. Got feature names with dtypes: ['str', 'tuple']. An error will be raised in 1.2.\n",
            "  warnings.warn(\n"
          ]
        },
        {
          "name": "stdout",
          "output_type": "stream",
          "text": [
            "----------AFTER------------\n",
            "GradientBoostingClassifier Acc Train: [0.8795262154855295, 0.8795262154855295, 0.8795262154855295], 3 of KFold 5\n",
            "GradientBoostingClassifier Acc Test: [0.8823294774631033, 0.8823294774631033, 0.8823294774631033], 3 of KFold 5\n",
            "GradientBoostingClassifier Recall: [0.816834739658366, 0.816834739658366, 0.816834739658366], 3 of KFold 5\n",
            "GradientBoostingClassifier Precission: [0.9319088988025358, 0.9319088988025358, 0.9319088988025358], 3 of KFold 5\n",
            "---------------------------\n",
            "----------BEFORE------------\n",
            "GradientBoostingClassifier Acc Train: [0.8795262154855295, 0.8795262154855295, 0.8795262154855295], 4 of KFold 5\n",
            "GradientBoostingClassifier Acc Test: [0.8823294774631033, 0.8823294774631033, 0.8823294774631033], 4 of KFold 5\n",
            "GradientBoostingClassifier Recall: [0.816834739658366, 0.816834739658366, 0.816834739658366], 4 of KFold 5\n",
            "GradientBoostingClassifier Precission: [0.9319088988025358, 0.9319088988025358, 0.9319088988025358], 4 of KFold 5\n",
            "---------------------------\n"
          ]
        },
        {
          "name": "stderr",
          "output_type": "stream",
          "text": [
            "c:\\Users\\HP\\AppData\\Local\\Programs\\Python\\Python310\\lib\\site-packages\\sklearn\\utils\\validation.py:1858: FutureWarning: Feature names only support names that are all strings. Got feature names with dtypes: ['str', 'tuple']. An error will be raised in 1.2.\n",
            "  warnings.warn(\n",
            "c:\\Users\\HP\\AppData\\Local\\Programs\\Python\\Python310\\lib\\site-packages\\sklearn\\utils\\validation.py:1858: FutureWarning: Feature names only support names that are all strings. Got feature names with dtypes: ['str', 'tuple']. An error will be raised in 1.2.\n",
            "  warnings.warn(\n",
            "c:\\Users\\HP\\AppData\\Local\\Programs\\Python\\Python310\\lib\\site-packages\\sklearn\\utils\\validation.py:1858: FutureWarning: Feature names only support names that are all strings. Got feature names with dtypes: ['str', 'tuple']. An error will be raised in 1.2.\n",
            "  warnings.warn(\n",
            "c:\\Users\\HP\\AppData\\Local\\Programs\\Python\\Python310\\lib\\site-packages\\sklearn\\utils\\validation.py:1858: FutureWarning: Feature names only support names that are all strings. Got feature names with dtypes: ['str', 'tuple']. An error will be raised in 1.2.\n",
            "  warnings.warn(\n"
          ]
        },
        {
          "name": "stdout",
          "output_type": "stream",
          "text": [
            "----------AFTER------------\n",
            "GradientBoostingClassifier Acc Train: [0.8795262154855295, 0.8795262154855295, 0.8795262154855295, 0.8795262154855295], 4 of KFold 5\n",
            "GradientBoostingClassifier Acc Test: [0.8823294774631033, 0.8823294774631033, 0.8823294774631033, 0.8823294774631033], 4 of KFold 5\n",
            "GradientBoostingClassifier Recall: [0.816834739658366, 0.816834739658366, 0.816834739658366, 0.816834739658366], 4 of KFold 5\n",
            "GradientBoostingClassifier Precission: [0.9319088988025358, 0.9319088988025358, 0.9319088988025358, 0.9319088988025358], 4 of KFold 5\n",
            "---------------------------\n",
            "----------BEFORE------------\n",
            "GradientBoostingClassifier Acc Train: [0.8795262154855295, 0.8795262154855295, 0.8795262154855295, 0.8795262154855295], 5 of KFold 5\n",
            "GradientBoostingClassifier Acc Test: [0.8823294774631033, 0.8823294774631033, 0.8823294774631033, 0.8823294774631033], 5 of KFold 5\n",
            "GradientBoostingClassifier Recall: [0.816834739658366, 0.816834739658366, 0.816834739658366, 0.816834739658366], 5 of KFold 5\n",
            "GradientBoostingClassifier Precission: [0.9319088988025358, 0.9319088988025358, 0.9319088988025358, 0.9319088988025358], 5 of KFold 5\n",
            "---------------------------\n"
          ]
        },
        {
          "name": "stderr",
          "output_type": "stream",
          "text": [
            "c:\\Users\\HP\\AppData\\Local\\Programs\\Python\\Python310\\lib\\site-packages\\sklearn\\utils\\validation.py:1858: FutureWarning: Feature names only support names that are all strings. Got feature names with dtypes: ['str', 'tuple']. An error will be raised in 1.2.\n",
            "  warnings.warn(\n",
            "c:\\Users\\HP\\AppData\\Local\\Programs\\Python\\Python310\\lib\\site-packages\\sklearn\\utils\\validation.py:1858: FutureWarning: Feature names only support names that are all strings. Got feature names with dtypes: ['str', 'tuple']. An error will be raised in 1.2.\n",
            "  warnings.warn(\n",
            "c:\\Users\\HP\\AppData\\Local\\Programs\\Python\\Python310\\lib\\site-packages\\sklearn\\utils\\validation.py:1858: FutureWarning: Feature names only support names that are all strings. Got feature names with dtypes: ['str', 'tuple']. An error will be raised in 1.2.\n",
            "  warnings.warn(\n",
            "c:\\Users\\HP\\AppData\\Local\\Programs\\Python\\Python310\\lib\\site-packages\\sklearn\\utils\\validation.py:1858: FutureWarning: Feature names only support names that are all strings. Got feature names with dtypes: ['str', 'tuple']. An error will be raised in 1.2.\n",
            "  warnings.warn(\n"
          ]
        },
        {
          "name": "stdout",
          "output_type": "stream",
          "text": [
            "----------AFTER------------\n",
            "GradientBoostingClassifier Acc Train: [0.8795262154855295, 0.8795262154855295, 0.8795262154855295, 0.8795262154855295, 0.8795262154855295], 5 of KFold 5\n",
            "GradientBoostingClassifier Acc Test: [0.8823294774631033, 0.8823294774631033, 0.8823294774631033, 0.8823294774631033, 0.8823294774631033], 5 of KFold 5\n",
            "GradientBoostingClassifier Recall: [0.816834739658366, 0.816834739658366, 0.816834739658366, 0.816834739658366, 0.816834739658366], 5 of KFold 5\n",
            "GradientBoostingClassifier Precission: [0.9319088988025358, 0.9319088988025358, 0.9319088988025358, 0.9319088988025358, 0.9319088988025358], 5 of KFold 5\n",
            "---------------------------\n",
            "----------FINAL------------\n",
            "GradientBoostingClassifier Acc Train: 0.8795262154855295\n",
            "GradientBoostingClassifier Acc Test: 0.8823294774631034\n",
            "GradientBoostingClassifier Recall: 0.816834739658366\n",
            "GradientBoostingClassifier Precission: 0.9319088988025358\n",
            "---------------------------\n",
            "----------BEFORE------------\n",
            "ExtraTreesClassifier Acc Train: [], 1 of KFold 5\n",
            "ExtraTreesClassifier Acc Test: [], 1 of KFold 5\n",
            "ExtraTreesClassifier Recall: [], 1 of KFold 5\n",
            "ExtraTreesClassifier Precission: [], 1 of KFold 5\n",
            "---------------------------\n"
          ]
        },
        {
          "name": "stderr",
          "output_type": "stream",
          "text": [
            "c:\\Users\\HP\\AppData\\Local\\Programs\\Python\\Python310\\lib\\site-packages\\sklearn\\utils\\validation.py:1858: FutureWarning: Feature names only support names that are all strings. Got feature names with dtypes: ['str', 'tuple']. An error will be raised in 1.2.\n",
            "  warnings.warn(\n",
            "c:\\Users\\HP\\AppData\\Local\\Programs\\Python\\Python310\\lib\\site-packages\\sklearn\\utils\\validation.py:1858: FutureWarning: Feature names only support names that are all strings. Got feature names with dtypes: ['str', 'tuple']. An error will be raised in 1.2.\n",
            "  warnings.warn(\n",
            "c:\\Users\\HP\\AppData\\Local\\Programs\\Python\\Python310\\lib\\site-packages\\sklearn\\utils\\validation.py:1858: FutureWarning: Feature names only support names that are all strings. Got feature names with dtypes: ['str', 'tuple']. An error will be raised in 1.2.\n",
            "  warnings.warn(\n"
          ]
        },
        {
          "name": "stdout",
          "output_type": "stream",
          "text": [
            "----------AFTER------------\n",
            "ExtraTreesClassifier Acc Train: [0.9903049239906041], 1 of KFold 5\n",
            "ExtraTreesClassifier Acc Test: [0.9504387714399681], 1 of KFold 5\n",
            "ExtraTreesClassifier Recall: [0.9421691706112368], 1 of KFold 5\n",
            "ExtraTreesClassifier Precission: [0.9549436795994993], 1 of KFold 5\n",
            "---------------------------\n",
            "----------BEFORE------------\n",
            "ExtraTreesClassifier Acc Train: [0.9903049239906041], 2 of KFold 5\n",
            "ExtraTreesClassifier Acc Test: [0.9504387714399681], 2 of KFold 5\n",
            "ExtraTreesClassifier Recall: [0.9421691706112368], 2 of KFold 5\n",
            "ExtraTreesClassifier Precission: [0.9549436795994993], 2 of KFold 5\n",
            "---------------------------\n"
          ]
        },
        {
          "name": "stderr",
          "output_type": "stream",
          "text": [
            "c:\\Users\\HP\\AppData\\Local\\Programs\\Python\\Python310\\lib\\site-packages\\sklearn\\utils\\validation.py:1858: FutureWarning: Feature names only support names that are all strings. Got feature names with dtypes: ['str', 'tuple']. An error will be raised in 1.2.\n",
            "  warnings.warn(\n",
            "c:\\Users\\HP\\AppData\\Local\\Programs\\Python\\Python310\\lib\\site-packages\\sklearn\\utils\\validation.py:1858: FutureWarning: Feature names only support names that are all strings. Got feature names with dtypes: ['str', 'tuple']. An error will be raised in 1.2.\n",
            "  warnings.warn(\n",
            "c:\\Users\\HP\\AppData\\Local\\Programs\\Python\\Python310\\lib\\site-packages\\sklearn\\utils\\validation.py:1858: FutureWarning: Feature names only support names that are all strings. Got feature names with dtypes: ['str', 'tuple']. An error will be raised in 1.2.\n",
            "  warnings.warn(\n",
            "c:\\Users\\HP\\AppData\\Local\\Programs\\Python\\Python310\\lib\\site-packages\\sklearn\\utils\\validation.py:1858: FutureWarning: Feature names only support names that are all strings. Got feature names with dtypes: ['str', 'tuple']. An error will be raised in 1.2.\n",
            "  warnings.warn(\n"
          ]
        },
        {
          "name": "stdout",
          "output_type": "stream",
          "text": [
            "----------AFTER------------\n",
            "ExtraTreesClassifier Acc Train: [0.9903049239906041, 0.9903049239906041], 2 of KFold 5\n",
            "ExtraTreesClassifier Acc Test: [0.9504387714399681, 0.9497407259672915], 2 of KFold 5\n",
            "ExtraTreesClassifier Recall: [0.9421691706112368, 0.9417575632846265], 2 of KFold 5\n",
            "ExtraTreesClassifier Precission: [0.9549436795994993, 0.9539295392953929], 2 of KFold 5\n",
            "---------------------------\n",
            "----------BEFORE------------\n",
            "ExtraTreesClassifier Acc Train: [0.9903049239906041, 0.9903049239906041], 3 of KFold 5\n",
            "ExtraTreesClassifier Acc Test: [0.9504387714399681, 0.9497407259672915], 3 of KFold 5\n",
            "ExtraTreesClassifier Recall: [0.9421691706112368, 0.9417575632846265], 3 of KFold 5\n",
            "ExtraTreesClassifier Precission: [0.9549436795994993, 0.9539295392953929], 3 of KFold 5\n",
            "---------------------------\n"
          ]
        },
        {
          "name": "stderr",
          "output_type": "stream",
          "text": [
            "c:\\Users\\HP\\AppData\\Local\\Programs\\Python\\Python310\\lib\\site-packages\\sklearn\\utils\\validation.py:1858: FutureWarning: Feature names only support names that are all strings. Got feature names with dtypes: ['str', 'tuple']. An error will be raised in 1.2.\n",
            "  warnings.warn(\n",
            "c:\\Users\\HP\\AppData\\Local\\Programs\\Python\\Python310\\lib\\site-packages\\sklearn\\utils\\validation.py:1858: FutureWarning: Feature names only support names that are all strings. Got feature names with dtypes: ['str', 'tuple']. An error will be raised in 1.2.\n",
            "  warnings.warn(\n",
            "c:\\Users\\HP\\AppData\\Local\\Programs\\Python\\Python310\\lib\\site-packages\\sklearn\\utils\\validation.py:1858: FutureWarning: Feature names only support names that are all strings. Got feature names with dtypes: ['str', 'tuple']. An error will be raised in 1.2.\n",
            "  warnings.warn(\n",
            "c:\\Users\\HP\\AppData\\Local\\Programs\\Python\\Python310\\lib\\site-packages\\sklearn\\utils\\validation.py:1858: FutureWarning: Feature names only support names that are all strings. Got feature names with dtypes: ['str', 'tuple']. An error will be raised in 1.2.\n",
            "  warnings.warn(\n"
          ]
        },
        {
          "name": "stdout",
          "output_type": "stream",
          "text": [
            "----------AFTER------------\n",
            "ExtraTreesClassifier Acc Train: [0.9903049239906041, 0.9903049239906041, 0.9903049239906041], 3 of KFold 5\n",
            "ExtraTreesClassifier Acc Test: [0.9504387714399681, 0.9497407259672915, 0.9508376545672118], 3 of KFold 5\n",
            "ExtraTreesClassifier Recall: [0.9421691706112368, 0.9417575632846265, 0.9427865816011525], 3 of KFold 5\n",
            "ExtraTreesClassifier Precission: [0.9549436795994993, 0.9539295392953929, 0.9551709758131777], 3 of KFold 5\n",
            "---------------------------\n",
            "----------BEFORE------------\n",
            "ExtraTreesClassifier Acc Train: [0.9903049239906041, 0.9903049239906041, 0.9903049239906041], 4 of KFold 5\n",
            "ExtraTreesClassifier Acc Test: [0.9504387714399681, 0.9497407259672915, 0.9508376545672118], 4 of KFold 5\n",
            "ExtraTreesClassifier Recall: [0.9421691706112368, 0.9417575632846265, 0.9427865816011525], 4 of KFold 5\n",
            "ExtraTreesClassifier Precission: [0.9549436795994993, 0.9539295392953929, 0.9551709758131777], 4 of KFold 5\n",
            "---------------------------\n"
          ]
        },
        {
          "name": "stderr",
          "output_type": "stream",
          "text": [
            "c:\\Users\\HP\\AppData\\Local\\Programs\\Python\\Python310\\lib\\site-packages\\sklearn\\utils\\validation.py:1858: FutureWarning: Feature names only support names that are all strings. Got feature names with dtypes: ['str', 'tuple']. An error will be raised in 1.2.\n",
            "  warnings.warn(\n",
            "c:\\Users\\HP\\AppData\\Local\\Programs\\Python\\Python310\\lib\\site-packages\\sklearn\\utils\\validation.py:1858: FutureWarning: Feature names only support names that are all strings. Got feature names with dtypes: ['str', 'tuple']. An error will be raised in 1.2.\n",
            "  warnings.warn(\n",
            "c:\\Users\\HP\\AppData\\Local\\Programs\\Python\\Python310\\lib\\site-packages\\sklearn\\utils\\validation.py:1858: FutureWarning: Feature names only support names that are all strings. Got feature names with dtypes: ['str', 'tuple']. An error will be raised in 1.2.\n",
            "  warnings.warn(\n",
            "c:\\Users\\HP\\AppData\\Local\\Programs\\Python\\Python310\\lib\\site-packages\\sklearn\\utils\\validation.py:1858: FutureWarning: Feature names only support names that are all strings. Got feature names with dtypes: ['str', 'tuple']. An error will be raised in 1.2.\n",
            "  warnings.warn(\n"
          ]
        },
        {
          "name": "stdout",
          "output_type": "stream",
          "text": [
            "----------AFTER------------\n",
            "ExtraTreesClassifier Acc Train: [0.9903049239906041, 0.9903049239906041, 0.9903049239906041, 0.9903049239906041], 4 of KFold 5\n",
            "ExtraTreesClassifier Acc Test: [0.9504387714399681, 0.9497407259672915, 0.9508376545672118, 0.9507379337854008], 4 of KFold 5\n",
            "ExtraTreesClassifier Recall: [0.9421691706112368, 0.9417575632846265, 0.9427865816011525, 0.9415517596213212], 4 of KFold 5\n",
            "ExtraTreesClassifier Precission: [0.9549436795994993, 0.9539295392953929, 0.9551709758131777, 0.9561128526645768], 4 of KFold 5\n",
            "---------------------------\n",
            "----------BEFORE------------\n",
            "ExtraTreesClassifier Acc Train: [0.9903049239906041, 0.9903049239906041, 0.9903049239906041, 0.9903049239906041], 5 of KFold 5\n",
            "ExtraTreesClassifier Acc Test: [0.9504387714399681, 0.9497407259672915, 0.9508376545672118, 0.9507379337854008], 5 of KFold 5\n",
            "ExtraTreesClassifier Recall: [0.9421691706112368, 0.9417575632846265, 0.9427865816011525, 0.9415517596213212], 5 of KFold 5\n",
            "ExtraTreesClassifier Precission: [0.9549436795994993, 0.9539295392953929, 0.9551709758131777, 0.9561128526645768], 5 of KFold 5\n",
            "---------------------------\n"
          ]
        },
        {
          "name": "stderr",
          "output_type": "stream",
          "text": [
            "c:\\Users\\HP\\AppData\\Local\\Programs\\Python\\Python310\\lib\\site-packages\\sklearn\\utils\\validation.py:1858: FutureWarning: Feature names only support names that are all strings. Got feature names with dtypes: ['str', 'tuple']. An error will be raised in 1.2.\n",
            "  warnings.warn(\n",
            "c:\\Users\\HP\\AppData\\Local\\Programs\\Python\\Python310\\lib\\site-packages\\sklearn\\utils\\validation.py:1858: FutureWarning: Feature names only support names that are all strings. Got feature names with dtypes: ['str', 'tuple']. An error will be raised in 1.2.\n",
            "  warnings.warn(\n",
            "c:\\Users\\HP\\AppData\\Local\\Programs\\Python\\Python310\\lib\\site-packages\\sklearn\\utils\\validation.py:1858: FutureWarning: Feature names only support names that are all strings. Got feature names with dtypes: ['str', 'tuple']. An error will be raised in 1.2.\n",
            "  warnings.warn(\n",
            "c:\\Users\\HP\\AppData\\Local\\Programs\\Python\\Python310\\lib\\site-packages\\sklearn\\utils\\validation.py:1858: FutureWarning: Feature names only support names that are all strings. Got feature names with dtypes: ['str', 'tuple']. An error will be raised in 1.2.\n",
            "  warnings.warn(\n"
          ]
        },
        {
          "name": "stdout",
          "output_type": "stream",
          "text": [
            "----------AFTER------------\n",
            "ExtraTreesClassifier Acc Train: [0.9903049239906041, 0.9903049239906041, 0.9903049239906041, 0.9903049239906041, 0.9903049239906041], 5 of KFold 5\n",
            "ExtraTreesClassifier Acc Test: [0.9504387714399681, 0.9497407259672915, 0.9508376545672118, 0.9507379337854008, 0.9499401675309135], 5 of KFold 5\n",
            "ExtraTreesClassifier Recall: [0.9421691706112368, 0.9417575632846265, 0.9427865816011525, 0.9415517596213212, 0.9419633669479317], 5 of KFold 5\n",
            "ExtraTreesClassifier Precission: [0.9549436795994993, 0.9539295392953929, 0.9551709758131777, 0.9561128526645768, 0.9541380029184907], 5 of KFold 5\n",
            "---------------------------\n",
            "----------FINAL------------\n",
            "ExtraTreesClassifier Acc Train: 0.9903049239906041\n",
            "ExtraTreesClassifier Acc Test: 0.950339050658157\n",
            "ExtraTreesClassifier Recall: 0.9420456884132538\n",
            "ExtraTreesClassifier Precission: 0.9548590100582274\n",
            "---------------------------\n",
            "----------BEFORE------------\n",
            "XGBClassifier Acc Train: [], 1 of KFold 5\n",
            "XGBClassifier Acc Test: [], 1 of KFold 5\n",
            "XGBClassifier Recall: [], 1 of KFold 5\n",
            "XGBClassifier Precission: [], 1 of KFold 5\n",
            "---------------------------\n",
            "----------AFTER------------\n",
            "XGBClassifier Acc Train: [0.90927624872579], 1 of KFold 5\n",
            "XGBClassifier Acc Test: [0.906860789788592], 1 of KFold 5\n",
            "XGBClassifier Recall: [0.8518213624202511], 1 of KFold 5\n",
            "XGBClassifier Precission: [0.950838502182403], 1 of KFold 5\n",
            "---------------------------\n",
            "----------BEFORE------------\n",
            "XGBClassifier Acc Train: [0.90927624872579], 2 of KFold 5\n",
            "XGBClassifier Acc Test: [0.906860789788592], 2 of KFold 5\n",
            "XGBClassifier Recall: [0.8518213624202511], 2 of KFold 5\n",
            "XGBClassifier Precission: [0.950838502182403], 2 of KFold 5\n",
            "---------------------------\n",
            "----------AFTER------------\n",
            "XGBClassifier Acc Train: [0.90927624872579, 0.90927624872579], 2 of KFold 5\n",
            "XGBClassifier Acc Test: [0.906860789788592, 0.906860789788592], 2 of KFold 5\n",
            "XGBClassifier Recall: [0.8518213624202511, 0.8518213624202511], 2 of KFold 5\n",
            "XGBClassifier Precission: [0.950838502182403, 0.950838502182403], 2 of KFold 5\n",
            "---------------------------\n",
            "----------BEFORE------------\n",
            "XGBClassifier Acc Train: [0.90927624872579, 0.90927624872579], 3 of KFold 5\n",
            "XGBClassifier Acc Test: [0.906860789788592, 0.906860789788592], 3 of KFold 5\n",
            "XGBClassifier Recall: [0.8518213624202511, 0.8518213624202511], 3 of KFold 5\n",
            "XGBClassifier Precission: [0.950838502182403, 0.950838502182403], 3 of KFold 5\n",
            "---------------------------\n",
            "----------AFTER------------\n",
            "XGBClassifier Acc Train: [0.90927624872579, 0.90927624872579, 0.90927624872579], 3 of KFold 5\n",
            "XGBClassifier Acc Test: [0.906860789788592, 0.906860789788592, 0.906860789788592], 3 of KFold 5\n",
            "XGBClassifier Recall: [0.8518213624202511, 0.8518213624202511, 0.8518213624202511], 3 of KFold 5\n",
            "XGBClassifier Precission: [0.950838502182403, 0.950838502182403, 0.950838502182403], 3 of KFold 5\n",
            "---------------------------\n",
            "----------BEFORE------------\n",
            "XGBClassifier Acc Train: [0.90927624872579, 0.90927624872579, 0.90927624872579], 4 of KFold 5\n",
            "XGBClassifier Acc Test: [0.906860789788592, 0.906860789788592, 0.906860789788592], 4 of KFold 5\n",
            "XGBClassifier Recall: [0.8518213624202511, 0.8518213624202511, 0.8518213624202511], 4 of KFold 5\n",
            "XGBClassifier Precission: [0.950838502182403, 0.950838502182403, 0.950838502182403], 4 of KFold 5\n",
            "---------------------------\n",
            "----------AFTER------------\n",
            "XGBClassifier Acc Train: [0.90927624872579, 0.90927624872579, 0.90927624872579, 0.90927624872579], 4 of KFold 5\n",
            "XGBClassifier Acc Test: [0.906860789788592, 0.906860789788592, 0.906860789788592, 0.906860789788592], 4 of KFold 5\n",
            "XGBClassifier Recall: [0.8518213624202511, 0.8518213624202511, 0.8518213624202511, 0.8518213624202511], 4 of KFold 5\n",
            "XGBClassifier Precission: [0.950838502182403, 0.950838502182403, 0.950838502182403, 0.950838502182403], 4 of KFold 5\n",
            "---------------------------\n",
            "----------BEFORE------------\n",
            "XGBClassifier Acc Train: [0.90927624872579, 0.90927624872579, 0.90927624872579, 0.90927624872579], 5 of KFold 5\n",
            "XGBClassifier Acc Test: [0.906860789788592, 0.906860789788592, 0.906860789788592, 0.906860789788592], 5 of KFold 5\n",
            "XGBClassifier Recall: [0.8518213624202511, 0.8518213624202511, 0.8518213624202511, 0.8518213624202511], 5 of KFold 5\n",
            "XGBClassifier Precission: [0.950838502182403, 0.950838502182403, 0.950838502182403, 0.950838502182403], 5 of KFold 5\n",
            "---------------------------\n",
            "----------AFTER------------\n",
            "XGBClassifier Acc Train: [0.90927624872579, 0.90927624872579, 0.90927624872579, 0.90927624872579, 0.90927624872579], 5 of KFold 5\n",
            "XGBClassifier Acc Test: [0.906860789788592, 0.906860789788592, 0.906860789788592, 0.906860789788592, 0.906860789788592], 5 of KFold 5\n",
            "XGBClassifier Recall: [0.8518213624202511, 0.8518213624202511, 0.8518213624202511, 0.8518213624202511, 0.8518213624202511], 5 of KFold 5\n",
            "XGBClassifier Precission: [0.950838502182403, 0.950838502182403, 0.950838502182403, 0.950838502182403, 0.950838502182403], 5 of KFold 5\n",
            "---------------------------\n",
            "----------FINAL------------\n",
            "XGBClassifier Acc Train: 0.90927624872579\n",
            "XGBClassifier Acc Test: 0.9068607897885921\n",
            "XGBClassifier Recall: 0.8518213624202511\n",
            "XGBClassifier Precission: 0.950838502182403\n",
            "---------------------------\n"
          ]
        }
      ],
      "source": [
        "kf = StratifiedKFold(n_splits=5,shuffle=True,random_state=42)\n",
        "\n",
        "\n",
        "all_model = [DecisionTreeClassifier,\n",
        "            RandomForestClassifier,\n",
        "            GradientBoostingClassifier,\n",
        "            ExtraTreesClassifier,\n",
        "             XGBClassifier]\n",
        "\n",
        "model_name = ['DecisionTreeClassifier',\n",
        "            'RandomForestClassifier',\n",
        "            'GradientBoostingClassifier',\n",
        "            'ExtraTreesClassifier',\n",
        "             'XGBClassifier']\n",
        "\n",
        "datatr = []\n",
        "datasc = []\n",
        "Recall =[]\n",
        "Precision =[]\n",
        "\n",
        "\n",
        "for idx, model_type in enumerate(all_model):\n",
        "    num = 1\n",
        "    AccTrain = []\n",
        "    AccTest = []\n",
        "    RecallTemp = []\n",
        "    PrecisionTemp = []\n",
        "    nfold = 1\n",
        "    for train_index,test_index in kf.split(X,y): \n",
        "\n",
        "        print(\"----------BEFORE------------\")\n",
        "        print(\"{} Acc Train: {}, {} of KFold {}\".format(model_name[idx], AccTrain, nfold, kf.n_splits))\n",
        "        print(\"{} Acc Test: {}, {} of KFold {}\".format(model_name[idx], AccTest, nfold, kf.n_splits))\n",
        "        print(\"{} Recall: {}, {} of KFold {}\".format(model_name[idx], RecallTemp, nfold, kf.n_splits))\n",
        "        print(\"{} Precission: {}, {} of KFold {}\".format(model_name[idx], PrecisionTemp, nfold, kf.n_splits))\n",
        "        print(\"---------------------------\")\n",
        "        \n",
        "        \n",
        "        model = model_type()\n",
        "        model.fit(X_train,y_train)\n",
        "        y_pred=model.predict(X_test)\n",
        "        \n",
        "        AccTrain.append(model.score(X_train , y_train))\n",
        "        AccTest.append(model.score(X_test , y_test))\n",
        "        RecallTemp.append(recall_score(y_test,y_pred))\n",
        "        PrecisionTemp.append(precision_score(y_test,y_pred))\n",
        "        \n",
        "        print(\"----------AFTER------------\")\n",
        "        print(\"{} Acc Train: {}, {} of KFold {}\".format(model_name[idx], AccTrain, nfold, kf.n_splits))\n",
        "        print(\"{} Acc Test: {}, {} of KFold {}\".format(model_name[idx], AccTest, nfold, kf.n_splits))\n",
        "        print(\"{} Recall: {}, {} of KFold {}\".format(model_name[idx], RecallTemp, nfold, kf.n_splits))\n",
        "        print(\"{} Precission: {}, {} of KFold {}\".format(model_name[idx], PrecisionTemp, nfold, kf.n_splits))\n",
        "        print(\"---------------------------\")\n",
        "        \n",
        "        nfold += 1\n",
        "    \n",
        "    print(\"----------FINAL------------\")\n",
        "    print(\"{} Acc Train: {}\".format(model_name[idx], np.mean(AccTrain)))\n",
        "    print(\"{} Acc Test: {}\".format(model_name[idx], np.mean(AccTest)))\n",
        "    print(\"{} Recall: {}\".format(model_name[idx], np.mean(RecallTemp)))\n",
        "    print(\"{} Precission: {}\".format(model_name[idx], np.mean(PrecisionTemp)))\n",
        "    print(\"---------------------------\")\n",
        "    datatr.append(np.mean(AccTrain))\n",
        "    datasc.append(np.mean(AccTest))\n",
        "    Recall.append(np.mean(RecallTemp))\n",
        "    Precision.append(np.mean(PrecisionTemp))"
      ]
    },
    {
      "cell_type": "markdown",
      "metadata": {
        "id": "xnb4I8xq3ZcL"
      },
      "source": [
        "##Result"
      ]
    },
    {
      "cell_type": "code",
      "execution_count": 52,
      "metadata": {
        "colab": {
          "base_uri": "https://localhost:8080/",
          "height": 206
        },
        "id": "2VkYEO6DbWqh",
        "outputId": "5dcad0e6-8aad-44fd-fdfc-f7eeb497239e"
      },
      "outputs": [
        {
          "data": {
            "text/html": [
              "<div>\n",
              "<style scoped>\n",
              "    .dataframe tbody tr th:only-of-type {\n",
              "        vertical-align: middle;\n",
              "    }\n",
              "\n",
              "    .dataframe tbody tr th {\n",
              "        vertical-align: top;\n",
              "    }\n",
              "\n",
              "    .dataframe thead th {\n",
              "        text-align: right;\n",
              "    }\n",
              "</style>\n",
              "<table border=\"1\" class=\"dataframe\">\n",
              "  <thead>\n",
              "    <tr style=\"text-align: right;\">\n",
              "      <th></th>\n",
              "      <th>model</th>\n",
              "      <th>Accuracy training</th>\n",
              "      <th>Accuracy test</th>\n",
              "      <th>Precision</th>\n",
              "      <th>Recall</th>\n",
              "      <th>/f1score</th>\n",
              "      <th>F1_Score</th>\n",
              "    </tr>\n",
              "  </thead>\n",
              "  <tbody>\n",
              "    <tr>\n",
              "      <th>1</th>\n",
              "      <td>RandomForestClassifier</td>\n",
              "      <td>0.990294</td>\n",
              "      <td>0.954886</td>\n",
              "      <td>0.957402</td>\n",
              "      <td>0.949125</td>\n",
              "      <td>1.906527</td>\n",
              "      <td>0.953246</td>\n",
              "    </tr>\n",
              "    <tr>\n",
              "      <th>3</th>\n",
              "      <td>ExtraTreesClassifier</td>\n",
              "      <td>0.990305</td>\n",
              "      <td>0.950339</td>\n",
              "      <td>0.954859</td>\n",
              "      <td>0.942046</td>\n",
              "      <td>1.896905</td>\n",
              "      <td>0.948409</td>\n",
              "    </tr>\n",
              "    <tr>\n",
              "      <th>0</th>\n",
              "      <td>DecisionTreeClassifier</td>\n",
              "      <td>0.990305</td>\n",
              "      <td>0.928540</td>\n",
              "      <td>0.908653</td>\n",
              "      <td>0.947808</td>\n",
              "      <td>1.856461</td>\n",
              "      <td>0.927818</td>\n",
              "    </tr>\n",
              "    <tr>\n",
              "      <th>4</th>\n",
              "      <td>XGBClassifier</td>\n",
              "      <td>0.909276</td>\n",
              "      <td>0.906861</td>\n",
              "      <td>0.950839</td>\n",
              "      <td>0.851821</td>\n",
              "      <td>1.802660</td>\n",
              "      <td>0.898611</td>\n",
              "    </tr>\n",
              "    <tr>\n",
              "      <th>2</th>\n",
              "      <td>GradientBoostingClassifier</td>\n",
              "      <td>0.879526</td>\n",
              "      <td>0.882329</td>\n",
              "      <td>0.931909</td>\n",
              "      <td>0.816835</td>\n",
              "      <td>1.748744</td>\n",
              "      <td>0.870586</td>\n",
              "    </tr>\n",
              "  </tbody>\n",
              "</table>\n",
              "</div>"
            ],
            "text/plain": [
              "                        model  Accuracy training  Accuracy test  Precision  \\\n",
              "1      RandomForestClassifier           0.990294       0.954886   0.957402   \n",
              "3        ExtraTreesClassifier           0.990305       0.950339   0.954859   \n",
              "0      DecisionTreeClassifier           0.990305       0.928540   0.908653   \n",
              "4               XGBClassifier           0.909276       0.906861   0.950839   \n",
              "2  GradientBoostingClassifier           0.879526       0.882329   0.931909   \n",
              "\n",
              "     Recall  /f1score  F1_Score  \n",
              "1  0.949125  1.906527  0.953246  \n",
              "3  0.942046  1.896905  0.948409  \n",
              "0  0.947808  1.856461  0.927818  \n",
              "4  0.851821  1.802660  0.898611  \n",
              "2  0.816835  1.748744  0.870586  "
            ]
          },
          "execution_count": 52,
          "metadata": {},
          "output_type": "execute_result"
        }
      ],
      "source": [
        "data_hasil = pd.DataFrame()\n",
        "data_hasil['model'] = model_name\n",
        "data_hasil['Accuracy training'] = datatr\n",
        "data_hasil['Accuracy test'] = datasc\n",
        "data_hasil['Precision'] = Precision\n",
        "data_hasil['Recall']= Recall\n",
        "data_hasil['/f1score']=data_hasil['Precision'] + data_hasil['Recall']\n",
        "data_hasil['F1_Score']= 2 * data_hasil['Precision'] * data_hasil['Recall'] / data_hasil['/f1score']\n",
        "#Sorted by Accuracy Test\n",
        "data_hasil.sort_values(by='Accuracy test',ascending=False)"
      ]
    },
    {
      "cell_type": "code",
      "execution_count": 53,
      "metadata": {
        "colab": {
          "base_uri": "https://localhost:8080/",
          "height": 206
        },
        "id": "oVmWIWolC5qM",
        "outputId": "4c7dabc2-25f5-4895-cf4d-4fa00ed80626"
      },
      "outputs": [
        {
          "data": {
            "text/html": [
              "<div>\n",
              "<style scoped>\n",
              "    .dataframe tbody tr th:only-of-type {\n",
              "        vertical-align: middle;\n",
              "    }\n",
              "\n",
              "    .dataframe tbody tr th {\n",
              "        vertical-align: top;\n",
              "    }\n",
              "\n",
              "    .dataframe thead th {\n",
              "        text-align: right;\n",
              "    }\n",
              "</style>\n",
              "<table border=\"1\" class=\"dataframe\">\n",
              "  <thead>\n",
              "    <tr style=\"text-align: right;\">\n",
              "      <th></th>\n",
              "      <th>model</th>\n",
              "      <th>Accuracy training</th>\n",
              "      <th>Accuracy test</th>\n",
              "      <th>Precision</th>\n",
              "      <th>Recall</th>\n",
              "      <th>/f1score</th>\n",
              "      <th>F1_Score</th>\n",
              "    </tr>\n",
              "  </thead>\n",
              "  <tbody>\n",
              "    <tr>\n",
              "      <th>1</th>\n",
              "      <td>RandomForestClassifier</td>\n",
              "      <td>0.990294</td>\n",
              "      <td>0.954886</td>\n",
              "      <td>0.957402</td>\n",
              "      <td>0.949125</td>\n",
              "      <td>1.906527</td>\n",
              "      <td>0.953246</td>\n",
              "    </tr>\n",
              "    <tr>\n",
              "      <th>3</th>\n",
              "      <td>ExtraTreesClassifier</td>\n",
              "      <td>0.990305</td>\n",
              "      <td>0.950339</td>\n",
              "      <td>0.954859</td>\n",
              "      <td>0.942046</td>\n",
              "      <td>1.896905</td>\n",
              "      <td>0.948409</td>\n",
              "    </tr>\n",
              "    <tr>\n",
              "      <th>4</th>\n",
              "      <td>XGBClassifier</td>\n",
              "      <td>0.909276</td>\n",
              "      <td>0.906861</td>\n",
              "      <td>0.950839</td>\n",
              "      <td>0.851821</td>\n",
              "      <td>1.802660</td>\n",
              "      <td>0.898611</td>\n",
              "    </tr>\n",
              "    <tr>\n",
              "      <th>2</th>\n",
              "      <td>GradientBoostingClassifier</td>\n",
              "      <td>0.879526</td>\n",
              "      <td>0.882329</td>\n",
              "      <td>0.931909</td>\n",
              "      <td>0.816835</td>\n",
              "      <td>1.748744</td>\n",
              "      <td>0.870586</td>\n",
              "    </tr>\n",
              "    <tr>\n",
              "      <th>0</th>\n",
              "      <td>DecisionTreeClassifier</td>\n",
              "      <td>0.990305</td>\n",
              "      <td>0.928540</td>\n",
              "      <td>0.908653</td>\n",
              "      <td>0.947808</td>\n",
              "      <td>1.856461</td>\n",
              "      <td>0.927818</td>\n",
              "    </tr>\n",
              "  </tbody>\n",
              "</table>\n",
              "</div>"
            ],
            "text/plain": [
              "                        model  Accuracy training  Accuracy test  Precision  \\\n",
              "1      RandomForestClassifier           0.990294       0.954886   0.957402   \n",
              "3        ExtraTreesClassifier           0.990305       0.950339   0.954859   \n",
              "4               XGBClassifier           0.909276       0.906861   0.950839   \n",
              "2  GradientBoostingClassifier           0.879526       0.882329   0.931909   \n",
              "0      DecisionTreeClassifier           0.990305       0.928540   0.908653   \n",
              "\n",
              "     Recall  /f1score  F1_Score  \n",
              "1  0.949125  1.906527  0.953246  \n",
              "3  0.942046  1.896905  0.948409  \n",
              "4  0.851821  1.802660  0.898611  \n",
              "2  0.816835  1.748744  0.870586  \n",
              "0  0.947808  1.856461  0.927818  "
            ]
          },
          "execution_count": 53,
          "metadata": {},
          "output_type": "execute_result"
        }
      ],
      "source": [
        "#Sorted by Precision\n",
        "data_hasil.sort_values(by='Precision',ascending=False)"
      ]
    },
    {
      "cell_type": "code",
      "execution_count": 54,
      "metadata": {
        "colab": {
          "base_uri": "https://localhost:8080/",
          "height": 206
        },
        "id": "_IvK_6-BXMVt",
        "outputId": "4e191120-fe01-42d0-c034-02c036f5c241"
      },
      "outputs": [
        {
          "data": {
            "text/html": [
              "<div>\n",
              "<style scoped>\n",
              "    .dataframe tbody tr th:only-of-type {\n",
              "        vertical-align: middle;\n",
              "    }\n",
              "\n",
              "    .dataframe tbody tr th {\n",
              "        vertical-align: top;\n",
              "    }\n",
              "\n",
              "    .dataframe thead th {\n",
              "        text-align: right;\n",
              "    }\n",
              "</style>\n",
              "<table border=\"1\" class=\"dataframe\">\n",
              "  <thead>\n",
              "    <tr style=\"text-align: right;\">\n",
              "      <th></th>\n",
              "      <th>model</th>\n",
              "      <th>Accuracy training</th>\n",
              "      <th>Accuracy test</th>\n",
              "      <th>Precision</th>\n",
              "      <th>Recall</th>\n",
              "      <th>/f1score</th>\n",
              "      <th>F1_Score</th>\n",
              "    </tr>\n",
              "  </thead>\n",
              "  <tbody>\n",
              "    <tr>\n",
              "      <th>1</th>\n",
              "      <td>RandomForestClassifier</td>\n",
              "      <td>0.990294</td>\n",
              "      <td>0.954886</td>\n",
              "      <td>0.957402</td>\n",
              "      <td>0.949125</td>\n",
              "      <td>1.906527</td>\n",
              "      <td>0.953246</td>\n",
              "    </tr>\n",
              "    <tr>\n",
              "      <th>0</th>\n",
              "      <td>DecisionTreeClassifier</td>\n",
              "      <td>0.990305</td>\n",
              "      <td>0.928540</td>\n",
              "      <td>0.908653</td>\n",
              "      <td>0.947808</td>\n",
              "      <td>1.856461</td>\n",
              "      <td>0.927818</td>\n",
              "    </tr>\n",
              "    <tr>\n",
              "      <th>3</th>\n",
              "      <td>ExtraTreesClassifier</td>\n",
              "      <td>0.990305</td>\n",
              "      <td>0.950339</td>\n",
              "      <td>0.954859</td>\n",
              "      <td>0.942046</td>\n",
              "      <td>1.896905</td>\n",
              "      <td>0.948409</td>\n",
              "    </tr>\n",
              "    <tr>\n",
              "      <th>4</th>\n",
              "      <td>XGBClassifier</td>\n",
              "      <td>0.909276</td>\n",
              "      <td>0.906861</td>\n",
              "      <td>0.950839</td>\n",
              "      <td>0.851821</td>\n",
              "      <td>1.802660</td>\n",
              "      <td>0.898611</td>\n",
              "    </tr>\n",
              "    <tr>\n",
              "      <th>2</th>\n",
              "      <td>GradientBoostingClassifier</td>\n",
              "      <td>0.879526</td>\n",
              "      <td>0.882329</td>\n",
              "      <td>0.931909</td>\n",
              "      <td>0.816835</td>\n",
              "      <td>1.748744</td>\n",
              "      <td>0.870586</td>\n",
              "    </tr>\n",
              "  </tbody>\n",
              "</table>\n",
              "</div>"
            ],
            "text/plain": [
              "                        model  Accuracy training  Accuracy test  Precision  \\\n",
              "1      RandomForestClassifier           0.990294       0.954886   0.957402   \n",
              "0      DecisionTreeClassifier           0.990305       0.928540   0.908653   \n",
              "3        ExtraTreesClassifier           0.990305       0.950339   0.954859   \n",
              "4               XGBClassifier           0.909276       0.906861   0.950839   \n",
              "2  GradientBoostingClassifier           0.879526       0.882329   0.931909   \n",
              "\n",
              "     Recall  /f1score  F1_Score  \n",
              "1  0.949125  1.906527  0.953246  \n",
              "0  0.947808  1.856461  0.927818  \n",
              "3  0.942046  1.896905  0.948409  \n",
              "4  0.851821  1.802660  0.898611  \n",
              "2  0.816835  1.748744  0.870586  "
            ]
          },
          "execution_count": 54,
          "metadata": {},
          "output_type": "execute_result"
        }
      ],
      "source": [
        "#Sorted by Recall\n",
        "data_hasil.sort_values(by='Recall',ascending=False)"
      ]
    },
    {
      "cell_type": "code",
      "execution_count": 55,
      "metadata": {
        "colab": {
          "base_uri": "https://localhost:8080/",
          "height": 206
        },
        "id": "yK2yTTIV1qTF",
        "outputId": "e7fd7fcd-bf09-4a24-e051-0b781fafc7d1"
      },
      "outputs": [
        {
          "data": {
            "text/html": [
              "<div>\n",
              "<style scoped>\n",
              "    .dataframe tbody tr th:only-of-type {\n",
              "        vertical-align: middle;\n",
              "    }\n",
              "\n",
              "    .dataframe tbody tr th {\n",
              "        vertical-align: top;\n",
              "    }\n",
              "\n",
              "    .dataframe thead th {\n",
              "        text-align: right;\n",
              "    }\n",
              "</style>\n",
              "<table border=\"1\" class=\"dataframe\">\n",
              "  <thead>\n",
              "    <tr style=\"text-align: right;\">\n",
              "      <th></th>\n",
              "      <th>model</th>\n",
              "      <th>Accuracy training</th>\n",
              "      <th>Accuracy test</th>\n",
              "      <th>Precision</th>\n",
              "      <th>Recall</th>\n",
              "      <th>/f1score</th>\n",
              "      <th>F1_Score</th>\n",
              "    </tr>\n",
              "  </thead>\n",
              "  <tbody>\n",
              "    <tr>\n",
              "      <th>1</th>\n",
              "      <td>RandomForestClassifier</td>\n",
              "      <td>0.990294</td>\n",
              "      <td>0.954886</td>\n",
              "      <td>0.957402</td>\n",
              "      <td>0.949125</td>\n",
              "      <td>1.906527</td>\n",
              "      <td>0.953246</td>\n",
              "    </tr>\n",
              "    <tr>\n",
              "      <th>3</th>\n",
              "      <td>ExtraTreesClassifier</td>\n",
              "      <td>0.990305</td>\n",
              "      <td>0.950339</td>\n",
              "      <td>0.954859</td>\n",
              "      <td>0.942046</td>\n",
              "      <td>1.896905</td>\n",
              "      <td>0.948409</td>\n",
              "    </tr>\n",
              "    <tr>\n",
              "      <th>0</th>\n",
              "      <td>DecisionTreeClassifier</td>\n",
              "      <td>0.990305</td>\n",
              "      <td>0.928540</td>\n",
              "      <td>0.908653</td>\n",
              "      <td>0.947808</td>\n",
              "      <td>1.856461</td>\n",
              "      <td>0.927818</td>\n",
              "    </tr>\n",
              "    <tr>\n",
              "      <th>4</th>\n",
              "      <td>XGBClassifier</td>\n",
              "      <td>0.909276</td>\n",
              "      <td>0.906861</td>\n",
              "      <td>0.950839</td>\n",
              "      <td>0.851821</td>\n",
              "      <td>1.802660</td>\n",
              "      <td>0.898611</td>\n",
              "    </tr>\n",
              "    <tr>\n",
              "      <th>2</th>\n",
              "      <td>GradientBoostingClassifier</td>\n",
              "      <td>0.879526</td>\n",
              "      <td>0.882329</td>\n",
              "      <td>0.931909</td>\n",
              "      <td>0.816835</td>\n",
              "      <td>1.748744</td>\n",
              "      <td>0.870586</td>\n",
              "    </tr>\n",
              "  </tbody>\n",
              "</table>\n",
              "</div>"
            ],
            "text/plain": [
              "                        model  Accuracy training  Accuracy test  Precision  \\\n",
              "1      RandomForestClassifier           0.990294       0.954886   0.957402   \n",
              "3        ExtraTreesClassifier           0.990305       0.950339   0.954859   \n",
              "0      DecisionTreeClassifier           0.990305       0.928540   0.908653   \n",
              "4               XGBClassifier           0.909276       0.906861   0.950839   \n",
              "2  GradientBoostingClassifier           0.879526       0.882329   0.931909   \n",
              "\n",
              "     Recall  /f1score  F1_Score  \n",
              "1  0.949125  1.906527  0.953246  \n",
              "3  0.942046  1.896905  0.948409  \n",
              "0  0.947808  1.856461  0.927818  \n",
              "4  0.851821  1.802660  0.898611  \n",
              "2  0.816835  1.748744  0.870586  "
            ]
          },
          "execution_count": 55,
          "metadata": {},
          "output_type": "execute_result"
        }
      ],
      "source": [
        "#Sorted by F1 Score\n",
        "data_hasil.sort_values(by='F1_Score',ascending=False)"
      ]
    },
    {
      "cell_type": "markdown",
      "metadata": {
        "id": "mMcEB7xU3exX"
      },
      "source": [
        "##Confusion Matrix"
      ]
    },
    {
      "cell_type": "code",
      "execution_count": 56,
      "metadata": {
        "colab": {
          "base_uri": "https://localhost:8080/"
        },
        "id": "BTSauAp2MjHy",
        "outputId": "bed69350-471e-44e5-87a8-e075dc02ad7b"
      },
      "outputs": [
        {
          "name": "stderr",
          "output_type": "stream",
          "text": [
            "c:\\Users\\HP\\AppData\\Local\\Programs\\Python\\Python310\\lib\\site-packages\\sklearn\\utils\\validation.py:1858: FutureWarning: Feature names only support names that are all strings. Got feature names with dtypes: ['str', 'tuple']. An error will be raised in 1.2.\n",
            "  warnings.warn(\n",
            "c:\\Users\\HP\\AppData\\Local\\Programs\\Python\\Python310\\lib\\site-packages\\sklearn\\utils\\validation.py:1858: FutureWarning: Feature names only support names that are all strings. Got feature names with dtypes: ['str', 'tuple']. An error will be raised in 1.2.\n",
            "  warnings.warn(\n"
          ]
        },
        {
          "name": "stdout",
          "output_type": "stream",
          "text": [
            "              precision    recall  f1-score   support\n",
            "\n",
            "           0       0.99      0.99      0.99     44971\n",
            "           1       0.99      0.99      0.99     45281\n",
            "\n",
            "    accuracy                           0.99     90252\n",
            "   macro avg       0.99      0.99      0.99     90252\n",
            "weighted avg       0.99      0.99      0.99     90252\n",
            "\n"
          ]
        }
      ],
      "source": [
        "# Melatih Model\n",
        "model=RandomForestClassifier().fit(X_train,y_train)\n",
        "# Test Model\n",
        "y_pred_train=model.predict(X_train)\n",
        "print(classification_report(y_train,y_pred_train))"
      ]
    },
    {
      "cell_type": "code",
      "execution_count": 57,
      "metadata": {
        "colab": {
          "base_uri": "https://localhost:8080/",
          "height": 317
        },
        "id": "q6X0tnB24bcC",
        "outputId": "cd7a5b6d-055a-4b78-9fce-5c435e5c9f3b"
      },
      "outputs": [
        {
          "name": "stdout",
          "output_type": "stream",
          "text": [
            "Confusion Matrix: [[44354   259]\n",
            " [  617 45022]]\n"
          ]
        },
        {
          "data": {
            "text/plain": [
              "<AxesSubplot: >"
            ]
          },
          "execution_count": 57,
          "metadata": {},
          "output_type": "execute_result"
        },
        {
          "data": {
            "image/png": "[encoded data removed]",
            "text/plain": [
              "<Figure size 640x480 with 2 Axes>"
            ]
          },
          "metadata": {},
          "output_type": "display_data"
        }
      ],
      "source": [
        "#Confusion Matrix train\n",
        "cm_train = confusion_matrix(y_pred_train, y_train)\n",
        "print('Confusion Matrix: {}'.format(cm_train))\n",
        "sns.heatmap(cm_train, annot=True, cmap=\"Blues\", fmt='.7g')"
      ]
    },
    {
      "cell_type": "code",
      "execution_count": 58,
      "metadata": {
        "colab": {
          "base_uri": "https://localhost:8080/"
        },
        "id": "JiDUQ1z9OAdY",
        "outputId": "cbc15ace-f7fd-48d7-ebb5-cbe3d66d0ffa"
      },
      "outputs": [
        {
          "name": "stderr",
          "output_type": "stream",
          "text": [
            "c:\\Users\\HP\\AppData\\Local\\Programs\\Python\\Python310\\lib\\site-packages\\sklearn\\utils\\validation.py:1858: FutureWarning: Feature names only support names that are all strings. Got feature names with dtypes: ['str', 'tuple']. An error will be raised in 1.2.\n",
            "  warnings.warn(\n",
            "c:\\Users\\HP\\AppData\\Local\\Programs\\Python\\Python310\\lib\\site-packages\\sklearn\\utils\\validation.py:1858: FutureWarning: Feature names only support names that are all strings. Got feature names with dtypes: ['str', 'tuple']. An error will be raised in 1.2.\n",
            "  warnings.warn(\n"
          ]
        },
        {
          "name": "stdout",
          "output_type": "stream",
          "text": [
            "              precision    recall  f1-score   support\n",
            "\n",
            "           0       0.95      0.96      0.96      5169\n",
            "           1       0.96      0.95      0.95      4859\n",
            "\n",
            "    accuracy                           0.95     10028\n",
            "   macro avg       0.95      0.95      0.95     10028\n",
            "weighted avg       0.95      0.95      0.95     10028\n",
            "\n"
          ]
        }
      ],
      "source": [
        "model=RandomForestClassifier().fit(X_train,y_train)\n",
        "\n",
        "y_pred_test=model.predict(X_test)\n",
        "print(classification_report(y_test,y_pred_test))"
      ]
    },
    {
      "cell_type": "code",
      "execution_count": 59,
      "metadata": {
        "colab": {
          "base_uri": "https://localhost:8080/",
          "height": 317
        },
        "id": "0bSlYrbyOUsr",
        "outputId": "f3b3f56b-cbfb-48eb-f00f-b726f9228310"
      },
      "outputs": [
        {
          "name": "stdout",
          "output_type": "stream",
          "text": [
            "Confusion Matrix: [[4963  247]\n",
            " [ 206 4612]]\n"
          ]
        },
        {
          "data": {
            "text/plain": [
              "<AxesSubplot: >"
            ]
          },
          "execution_count": 59,
          "metadata": {},
          "output_type": "execute_result"
        },
        {
          "data": {
            "image/png": "[encoded data removed]",
            "text/plain": [
              "<Figure size 640x480 with 2 Axes>"
            ]
          },
          "metadata": {},
          "output_type": "display_data"
        }
      ],
      "source": [
        "#Confusion Matrix test\n",
        "cm_train = confusion_matrix(y_pred_test, y_test)\n",
        "print('Confusion Matrix: {}'.format(cm_train))\n",
        "sns.heatmap(cm_train, annot=True, cmap=\"Blues\", fmt='.7g')"
      ]
    },
    {
      "cell_type": "code",
      "execution_count": 60,
      "metadata": {
        "colab": {
          "base_uri": "https://localhost:8080/"
        },
        "id": "plBybiWi9Py7",
        "outputId": "0237ae45-eb4e-4f1a-d106-4f92899da1ad"
      },
      "outputs": [
        {
          "data": {
            "text/plain": [
              "23490"
            ]
          },
          "execution_count": 60,
          "metadata": {},
          "output_type": "execute_result"
        }
      ],
      "source": [
        "len(test)"
      ]
    },
    {
      "cell_type": "code",
      "execution_count": 61,
      "metadata": {
        "colab": {
          "base_uri": "https://localhost:8080/",
          "height": 505
        },
        "id": "F-bXU5HHBgZ4",
        "outputId": "79f0ca11-b40c-4fd7-cd8b-c4acc6253ea0"
      },
      "outputs": [
        {
          "data": {
            "text/html": [
              "<div>\n",
              "<style scoped>\n",
              "    .dataframe tbody tr th:only-of-type {\n",
              "        vertical-align: middle;\n",
              "    }\n",
              "\n",
              "    .dataframe tbody tr th {\n",
              "        vertical-align: top;\n",
              "    }\n",
              "\n",
              "    .dataframe thead th {\n",
              "        text-align: right;\n",
              "    }\n",
              "</style>\n",
              "<table border=\"1\" class=\"dataframe\">\n",
              "  <thead>\n",
              "    <tr style=\"text-align: right;\">\n",
              "      <th></th>\n",
              "      <th>education</th>\n",
              "      <th>gender</th>\n",
              "      <th>no_of_trainings</th>\n",
              "      <th>age</th>\n",
              "      <th>previous_year_rating</th>\n",
              "      <th>length_of_service</th>\n",
              "      <th>awards_won?</th>\n",
              "      <th>avg_training_score</th>\n",
              "      <th>(Analytics,)</th>\n",
              "      <th>(Finance,)</th>\n",
              "      <th>(HR,)</th>\n",
              "      <th>(Legal,)</th>\n",
              "      <th>(Operations,)</th>\n",
              "      <th>(Procurement,)</th>\n",
              "      <th>(R&amp;D,)</th>\n",
              "      <th>(Sales &amp; Marketing,)</th>\n",
              "      <th>(Technology,)</th>\n",
              "      <th>(other,)</th>\n",
              "      <th>(referred,)</th>\n",
              "      <th>(sourcing,)</th>\n",
              "    </tr>\n",
              "  </thead>\n",
              "  <tbody>\n",
              "    <tr>\n",
              "      <th>0</th>\n",
              "      <td>2</td>\n",
              "      <td>1</td>\n",
              "      <td>1</td>\n",
              "      <td>24</td>\n",
              "      <td>3.0</td>\n",
              "      <td>1</td>\n",
              "      <td>0</td>\n",
              "      <td>77</td>\n",
              "      <td>0.0</td>\n",
              "      <td>0.0</td>\n",
              "      <td>0.0</td>\n",
              "      <td>0.0</td>\n",
              "      <td>0.0</td>\n",
              "      <td>0.0</td>\n",
              "      <td>0.0</td>\n",
              "      <td>0.0</td>\n",
              "      <td>1.0</td>\n",
              "      <td>0.0</td>\n",
              "      <td>0.0</td>\n",
              "      <td>1.0</td>\n",
              "    </tr>\n",
              "    <tr>\n",
              "      <th>1</th>\n",
              "      <td>2</td>\n",
              "      <td>0</td>\n",
              "      <td>1</td>\n",
              "      <td>31</td>\n",
              "      <td>3.0</td>\n",
              "      <td>5</td>\n",
              "      <td>0</td>\n",
              "      <td>51</td>\n",
              "      <td>0.0</td>\n",
              "      <td>0.0</td>\n",
              "      <td>1.0</td>\n",
              "      <td>0.0</td>\n",
              "      <td>0.0</td>\n",
              "      <td>0.0</td>\n",
              "      <td>0.0</td>\n",
              "      <td>0.0</td>\n",
              "      <td>0.0</td>\n",
              "      <td>1.0</td>\n",
              "      <td>0.0</td>\n",
              "      <td>0.0</td>\n",
              "    </tr>\n",
              "    <tr>\n",
              "      <th>2</th>\n",
              "      <td>2</td>\n",
              "      <td>1</td>\n",
              "      <td>1</td>\n",
              "      <td>31</td>\n",
              "      <td>1.0</td>\n",
              "      <td>4</td>\n",
              "      <td>0</td>\n",
              "      <td>47</td>\n",
              "      <td>0.0</td>\n",
              "      <td>0.0</td>\n",
              "      <td>0.0</td>\n",
              "      <td>0.0</td>\n",
              "      <td>0.0</td>\n",
              "      <td>0.0</td>\n",
              "      <td>0.0</td>\n",
              "      <td>1.0</td>\n",
              "      <td>0.0</td>\n",
              "      <td>1.0</td>\n",
              "      <td>0.0</td>\n",
              "      <td>0.0</td>\n",
              "    </tr>\n",
              "    <tr>\n",
              "      <th>3</th>\n",
              "      <td>2</td>\n",
              "      <td>0</td>\n",
              "      <td>3</td>\n",
              "      <td>31</td>\n",
              "      <td>2.0</td>\n",
              "      <td>9</td>\n",
              "      <td>0</td>\n",
              "      <td>65</td>\n",
              "      <td>0.0</td>\n",
              "      <td>0.0</td>\n",
              "      <td>0.0</td>\n",
              "      <td>0.0</td>\n",
              "      <td>0.0</td>\n",
              "      <td>1.0</td>\n",
              "      <td>0.0</td>\n",
              "      <td>0.0</td>\n",
              "      <td>0.0</td>\n",
              "      <td>1.0</td>\n",
              "      <td>0.0</td>\n",
              "      <td>0.0</td>\n",
              "    </tr>\n",
              "    <tr>\n",
              "      <th>4</th>\n",
              "      <td>2</td>\n",
              "      <td>1</td>\n",
              "      <td>1</td>\n",
              "      <td>30</td>\n",
              "      <td>4.0</td>\n",
              "      <td>7</td>\n",
              "      <td>0</td>\n",
              "      <td>61</td>\n",
              "      <td>0.0</td>\n",
              "      <td>1.0</td>\n",
              "      <td>0.0</td>\n",
              "      <td>0.0</td>\n",
              "      <td>0.0</td>\n",
              "      <td>0.0</td>\n",
              "      <td>0.0</td>\n",
              "      <td>0.0</td>\n",
              "      <td>0.0</td>\n",
              "      <td>0.0</td>\n",
              "      <td>0.0</td>\n",
              "      <td>1.0</td>\n",
              "    </tr>\n",
              "    <tr>\n",
              "      <th>...</th>\n",
              "      <td>...</td>\n",
              "      <td>...</td>\n",
              "      <td>...</td>\n",
              "      <td>...</td>\n",
              "      <td>...</td>\n",
              "      <td>...</td>\n",
              "      <td>...</td>\n",
              "      <td>...</td>\n",
              "      <td>...</td>\n",
              "      <td>...</td>\n",
              "      <td>...</td>\n",
              "      <td>...</td>\n",
              "      <td>...</td>\n",
              "      <td>...</td>\n",
              "      <td>...</td>\n",
              "      <td>...</td>\n",
              "      <td>...</td>\n",
              "      <td>...</td>\n",
              "      <td>...</td>\n",
              "      <td>...</td>\n",
              "    </tr>\n",
              "    <tr>\n",
              "      <th>23485</th>\n",
              "      <td>1</td>\n",
              "      <td>1</td>\n",
              "      <td>1</td>\n",
              "      <td>24</td>\n",
              "      <td>3.0</td>\n",
              "      <td>1</td>\n",
              "      <td>0</td>\n",
              "      <td>61</td>\n",
              "      <td>0.0</td>\n",
              "      <td>0.0</td>\n",
              "      <td>0.0</td>\n",
              "      <td>1.0</td>\n",
              "      <td>0.0</td>\n",
              "      <td>0.0</td>\n",
              "      <td>0.0</td>\n",
              "      <td>0.0</td>\n",
              "      <td>0.0</td>\n",
              "      <td>0.0</td>\n",
              "      <td>0.0</td>\n",
              "      <td>1.0</td>\n",
              "    </tr>\n",
              "    <tr>\n",
              "      <th>23486</th>\n",
              "      <td>2</td>\n",
              "      <td>1</td>\n",
              "      <td>1</td>\n",
              "      <td>31</td>\n",
              "      <td>3.0</td>\n",
              "      <td>7</td>\n",
              "      <td>0</td>\n",
              "      <td>74</td>\n",
              "      <td>0.0</td>\n",
              "      <td>0.0</td>\n",
              "      <td>0.0</td>\n",
              "      <td>0.0</td>\n",
              "      <td>0.0</td>\n",
              "      <td>0.0</td>\n",
              "      <td>0.0</td>\n",
              "      <td>0.0</td>\n",
              "      <td>1.0</td>\n",
              "      <td>0.0</td>\n",
              "      <td>0.0</td>\n",
              "      <td>1.0</td>\n",
              "    </tr>\n",
              "    <tr>\n",
              "      <th>23487</th>\n",
              "      <td>2</td>\n",
              "      <td>0</td>\n",
              "      <td>1</td>\n",
              "      <td>26</td>\n",
              "      <td>4.0</td>\n",
              "      <td>4</td>\n",
              "      <td>0</td>\n",
              "      <td>50</td>\n",
              "      <td>0.0</td>\n",
              "      <td>0.0</td>\n",
              "      <td>1.0</td>\n",
              "      <td>0.0</td>\n",
              "      <td>0.0</td>\n",
              "      <td>0.0</td>\n",
              "      <td>0.0</td>\n",
              "      <td>0.0</td>\n",
              "      <td>0.0</td>\n",
              "      <td>0.0</td>\n",
              "      <td>0.0</td>\n",
              "      <td>1.0</td>\n",
              "    </tr>\n",
              "    <tr>\n",
              "      <th>23488</th>\n",
              "      <td>2</td>\n",
              "      <td>1</td>\n",
              "      <td>3</td>\n",
              "      <td>27</td>\n",
              "      <td>3.0</td>\n",
              "      <td>1</td>\n",
              "      <td>0</td>\n",
              "      <td>70</td>\n",
              "      <td>0.0</td>\n",
              "      <td>0.0</td>\n",
              "      <td>0.0</td>\n",
              "      <td>0.0</td>\n",
              "      <td>0.0</td>\n",
              "      <td>1.0</td>\n",
              "      <td>0.0</td>\n",
              "      <td>0.0</td>\n",
              "      <td>0.0</td>\n",
              "      <td>0.0</td>\n",
              "      <td>0.0</td>\n",
              "      <td>1.0</td>\n",
              "    </tr>\n",
              "    <tr>\n",
              "      <th>23489</th>\n",
              "      <td>3</td>\n",
              "      <td>1</td>\n",
              "      <td>3</td>\n",
              "      <td>40</td>\n",
              "      <td>5.0</td>\n",
              "      <td>5</td>\n",
              "      <td>0</td>\n",
              "      <td>89</td>\n",
              "      <td>0.0</td>\n",
              "      <td>0.0</td>\n",
              "      <td>0.0</td>\n",
              "      <td>0.0</td>\n",
              "      <td>0.0</td>\n",
              "      <td>0.0</td>\n",
              "      <td>0.0</td>\n",
              "      <td>0.0</td>\n",
              "      <td>1.0</td>\n",
              "      <td>1.0</td>\n",
              "      <td>0.0</td>\n",
              "      <td>0.0</td>\n",
              "    </tr>\n",
              "  </tbody>\n",
              "</table>\n",
              "<p>23490 rows × 20 columns</p>\n",
              "</div>"
            ],
            "text/plain": [
              "       education  gender  no_of_trainings  age  previous_year_rating  \\\n",
              "0              2       1                1   24                   3.0   \n",
              "1              2       0                1   31                   3.0   \n",
              "2              2       1                1   31                   1.0   \n",
              "3              2       0                3   31                   2.0   \n",
              "4              2       1                1   30                   4.0   \n",
              "...          ...     ...              ...  ...                   ...   \n",
              "23485          1       1                1   24                   3.0   \n",
              "23486          2       1                1   31                   3.0   \n",
              "23487          2       0                1   26                   4.0   \n",
              "23488          2       1                3   27                   3.0   \n",
              "23489          3       1                3   40                   5.0   \n",
              "\n",
              "       length_of_service  awards_won?  avg_training_score  (Analytics,)  \\\n",
              "0                      1            0                  77           0.0   \n",
              "1                      5            0                  51           0.0   \n",
              "2                      4            0                  47           0.0   \n",
              "3                      9            0                  65           0.0   \n",
              "4                      7            0                  61           0.0   \n",
              "...                  ...          ...                 ...           ...   \n",
              "23485                  1            0                  61           0.0   \n",
              "23486                  7            0                  74           0.0   \n",
              "23487                  4            0                  50           0.0   \n",
              "23488                  1            0                  70           0.0   \n",
              "23489                  5            0                  89           0.0   \n",
              "\n",
              "       (Finance,)  (HR,)  (Legal,)  (Operations,)  (Procurement,)  (R&D,)  \\\n",
              "0             0.0    0.0       0.0            0.0             0.0     0.0   \n",
              "1             0.0    1.0       0.0            0.0             0.0     0.0   \n",
              "2             0.0    0.0       0.0            0.0             0.0     0.0   \n",
              "3             0.0    0.0       0.0            0.0             1.0     0.0   \n",
              "4             1.0    0.0       0.0            0.0             0.0     0.0   \n",
              "...           ...    ...       ...            ...             ...     ...   \n",
              "23485         0.0    0.0       1.0            0.0             0.0     0.0   \n",
              "23486         0.0    0.0       0.0            0.0             0.0     0.0   \n",
              "23487         0.0    1.0       0.0            0.0             0.0     0.0   \n",
              "23488         0.0    0.0       0.0            0.0             1.0     0.0   \n",
              "23489         0.0    0.0       0.0            0.0             0.0     0.0   \n",
              "\n",
              "       (Sales & Marketing,)  (Technology,)  (other,)  (referred,)  (sourcing,)  \n",
              "0                       0.0            1.0       0.0          0.0          1.0  \n",
              "1                       0.0            0.0       1.0          0.0          0.0  \n",
              "2                       1.0            0.0       1.0          0.0          0.0  \n",
              "3                       0.0            0.0       1.0          0.0          0.0  \n",
              "4                       0.0            0.0       0.0          0.0          1.0  \n",
              "...                     ...            ...       ...          ...          ...  \n",
              "23485                   0.0            0.0       0.0          0.0          1.0  \n",
              "23486                   0.0            1.0       0.0          0.0          1.0  \n",
              "23487                   0.0            0.0       0.0          0.0          1.0  \n",
              "23488                   0.0            0.0       0.0          0.0          1.0  \n",
              "23489                   0.0            1.0       1.0          0.0          0.0  \n",
              "\n",
              "[23490 rows x 20 columns]"
            ]
          },
          "execution_count": 61,
          "metadata": {},
          "output_type": "execute_result"
        }
      ],
      "source": [
        "test"
      ]
    },
    {
      "cell_type": "code",
      "execution_count": 62,
      "metadata": {
        "colab": {
          "base_uri": "https://localhost:8080/"
        },
        "id": "YggL_M_E9TGN",
        "outputId": "21b8e735-edda-463a-f58e-b7965f84b55a"
      },
      "outputs": [
        {
          "data": {
            "text/plain": [
              "0    5210\n",
              "1    4818\n",
              "dtype: int64"
            ]
          },
          "execution_count": 62,
          "metadata": {},
          "output_type": "execute_result"
        }
      ],
      "source": [
        "hasil_predict= pd.DataFrame(y_pred_test)\n",
        "hasil_predict.value_counts()"
      ]
    }
  ],
  "metadata": {
    "colab": {
      "collapsed_sections": [],
      "provenance": []
    },
    "kernelspec": {
      "display_name": "Python 3.10.7 64-bit",
      "language": "python",
      "name": "python3"
    },
    "language_info": {
      "codemirror_mode": {
        "name": "ipython",
        "version": 3
      },
      "file_extension": ".py",
      "mimetype": "text/x-python",
      "name": "python",
      "nbconvert_exporter": "python",
      "pygments_lexer": "ipython3",
      "version": "3.10.7"
    },
    "vscode": {
      "interpreter": {
        "hash": "a9cff5a362bc38ef45d817ae74b1af54d6a076e3d773891282bce078b815ba34"
      }
    }
  },
  "nbformat": 4,
  "nbformat_minor": 0
}
